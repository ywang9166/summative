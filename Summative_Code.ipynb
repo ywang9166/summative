{
  "nbformat": 4,
  "nbformat_minor": 0,
  "metadata": {
    "colab": {
      "provenance": []
    },
    "kernelspec": {
      "name": "python3",
      "display_name": "Python 3"
    },
    "language_info": {
      "name": "python"
    }
  },
  "cells": [
    {
      "cell_type": "markdown",
      "source": [
        "1 Part A: Data Preparation [Total 10 marks]\n",
        "\n",
        "1.1 Required Variables\n",
        "\n",
        "(a) Filter the dataset to retain only these variables:\n",
        "\n",
        "interest rate, verified income, debt to income,\n",
        "total credit utilized, total credit limit,\n",
        "public record bankrupt, loan purpose, term,\n",
        "inquiries last 12m, issue month, annual income,\n",
        "loan amount, grade, emp length, homeownership"
      ],
      "metadata": {
        "id": "Q7rfXMroMkvI"
      }
    },
    {
      "cell_type": "code",
      "execution_count": 1,
      "metadata": {
        "id": "c7r_Aci6gkDh"
      },
      "outputs": [],
      "source": [
        "import pandas as pd"
      ]
    },
    {
      "cell_type": "code",
      "source": [
        "df = pd.read_csv(\"loans_dataset(1).csv\")"
      ],
      "metadata": {
        "id": "scQWHh-KrUO9"
      },
      "execution_count": 2,
      "outputs": []
    },
    {
      "cell_type": "code",
      "source": [
        "df.describe().T"
      ],
      "metadata": {
        "colab": {
          "base_uri": "https://localhost:8080/",
          "height": 1000
        },
        "id": "SLyup1ZOr9aR",
        "outputId": "371b403c-70be-49e9-b6b1-0e63c695e330"
      },
      "execution_count": 3,
      "outputs": [
        {
          "output_type": "execute_result",
          "data": {
            "text/plain": [
              "                                    count           mean            std  \\\n",
              "emp_length                         9183.0       5.930306       3.703734   \n",
              "annual_income                     10000.0   79222.148412   64734.290492   \n",
              "debt_to_income                     9976.0      19.308192      15.004851   \n",
              "annual_income_joint                1495.0  127914.571244   70168.375404   \n",
              "debt_to_income_joint               1495.0      19.979304       8.054781   \n",
              "delinq_2y                         10000.0       0.216000       0.683660   \n",
              "months_since_last_delinq           4342.0      36.760709      21.634939   \n",
              "earliest_credit_line              10000.0    2001.290000       7.795510   \n",
              "inquiries_last_12m                10000.0       1.958200       2.380130   \n",
              "total_credit_lines                10000.0      22.679600      11.885439   \n",
              "open_credit_lines                 10000.0      11.404400       5.868280   \n",
              "total_credit_limit                10000.0  183606.230400  187632.707777   \n",
              "total_credit_utilized             10000.0   51049.063100   53636.731172   \n",
              "num_collections_last_12m          10000.0       0.013800       0.126535   \n",
              "num_historical_failed_to_pay      10000.0       0.167100       0.687768   \n",
              "months_since_90d_late              2285.0      46.112473      21.748021   \n",
              "current_accounts_delinq           10000.0       0.000100       0.010000   \n",
              "total_collection_amount_ever      10000.0     184.334000    2206.389859   \n",
              "current_installment_accounts      10000.0       2.663600       2.935387   \n",
              "accounts_opened_24m               10000.0       4.376100       3.158583   \n",
              "months_since_last_credit_inquiry   8729.0       7.340703       5.981590   \n",
              "num_satisfactory_accounts         10000.0      11.379600       5.859705   \n",
              "num_accounts_120d_past_due         9682.0       0.000000       0.000000   \n",
              "num_accounts_30d_past_due         10000.0       0.000100       0.010000   \n",
              "num_active_debit_accounts         10000.0       3.595300       2.434689   \n",
              "total_debit_limit                 10000.0   27357.410300   26570.164081   \n",
              "num_total_cc_accounts             10000.0      13.030000       7.874713   \n",
              "num_open_cc_accounts              10000.0       8.095000       4.906606   \n",
              "num_cc_carrying_balance           10000.0       5.230500       3.327623   \n",
              "num_mort_accounts                 10000.0       1.383100       1.717274   \n",
              "account_never_delinq_percent      10000.0      94.648990       9.155059   \n",
              "tax_liens                         10000.0       0.043300       0.593852   \n",
              "public_record_bankrupt            10000.0       0.123800       0.337172   \n",
              "loan_amount                       10000.0   16361.922500   10301.956759   \n",
              "term                              10000.0      43.272000      11.029877   \n",
              "interest_rate                     10000.0      12.427524       5.001105   \n",
              "installment                       10000.0     476.205323     294.851627   \n",
              "balance                           10000.0   14458.916610    9964.561865   \n",
              "paid_total                        10000.0    2494.234773    3958.230365   \n",
              "paid_principal                    10000.0    1894.448466    3884.407175   \n",
              "paid_interest                     10000.0     599.666781     517.328062   \n",
              "paid_late_fees                    10000.0       0.119516       1.813468   \n",
              "\n",
              "                                       min         25%         50%  \\\n",
              "emp_length                            0.00      2.0000       6.000   \n",
              "annual_income                         0.00  45000.0000   65000.000   \n",
              "debt_to_income                        0.00     11.0575      17.570   \n",
              "annual_income_joint               19200.00  86833.5000  113000.000   \n",
              "debt_to_income_joint                  0.32     14.1600      19.720   \n",
              "delinq_2y                             0.00      0.0000       0.000   \n",
              "months_since_last_delinq              1.00     19.0000      34.000   \n",
              "earliest_credit_line               1963.00   1997.0000    2003.000   \n",
              "inquiries_last_12m                    0.00      0.0000       1.000   \n",
              "total_credit_lines                    2.00     14.0000      21.000   \n",
              "open_credit_lines                     0.00      7.0000      10.000   \n",
              "total_credit_limit                    0.00  51593.7500  114667.000   \n",
              "total_credit_utilized                 0.00  19185.5000   36927.000   \n",
              "num_collections_last_12m              0.00      0.0000       0.000   \n",
              "num_historical_failed_to_pay          0.00      0.0000       0.000   \n",
              "months_since_90d_late                 2.00     29.0000      47.000   \n",
              "current_accounts_delinq               0.00      0.0000       0.000   \n",
              "total_collection_amount_ever          0.00      0.0000       0.000   \n",
              "current_installment_accounts          0.00      1.0000       2.000   \n",
              "accounts_opened_24m                   0.00      2.0000       4.000   \n",
              "months_since_last_credit_inquiry      0.00      2.0000       6.000   \n",
              "num_satisfactory_accounts             0.00      7.0000      10.000   \n",
              "num_accounts_120d_past_due            0.00      0.0000       0.000   \n",
              "num_accounts_30d_past_due             0.00      0.0000       0.000   \n",
              "num_active_debit_accounts             0.00      2.0000       3.000   \n",
              "total_debit_limit                     0.00  10000.0000   19500.000   \n",
              "num_total_cc_accounts                 2.00      7.0000      11.000   \n",
              "num_open_cc_accounts                  0.00      5.0000       7.000   \n",
              "num_cc_carrying_balance               0.00      3.0000       5.000   \n",
              "num_mort_accounts                     0.00      0.0000       1.000   \n",
              "account_never_delinq_percent         14.30     92.6000     100.000   \n",
              "tax_liens                             0.00      0.0000       0.000   \n",
              "public_record_bankrupt                0.00      0.0000       0.000   \n",
              "loan_amount                        1000.00   8000.0000   14500.000   \n",
              "term                                 36.00     36.0000      36.000   \n",
              "interest_rate                         5.31      9.4300      11.980   \n",
              "installment                          30.75    256.0400     398.420   \n",
              "balance                               0.00   6679.0650   12379.495   \n",
              "paid_total                            0.00    928.7000    1563.300   \n",
              "paid_principal                        0.00    587.1000     984.990   \n",
              "paid_interest                         0.00    221.7575     446.140   \n",
              "paid_late_fees                        0.00      0.0000       0.000   \n",
              "\n",
              "                                          75%           max  \n",
              "emp_length                            10.0000  1.000000e+01  \n",
              "annual_income                      95000.0000  2.300000e+06  \n",
              "debt_to_income                        25.0025  4.690900e+02  \n",
              "annual_income_joint               151545.5000  1.100000e+06  \n",
              "debt_to_income_joint                  25.5000  3.998000e+01  \n",
              "delinq_2y                              0.0000  1.300000e+01  \n",
              "months_since_last_delinq              53.0000  1.180000e+02  \n",
              "earliest_credit_line                2006.0000  2.015000e+03  \n",
              "inquiries_last_12m                     3.0000  2.900000e+01  \n",
              "total_credit_lines                    29.0000  8.700000e+01  \n",
              "open_credit_lines                     14.0000  5.100000e+01  \n",
              "total_credit_limit                267550.0000  3.386034e+06  \n",
              "total_credit_utilized              65421.0000  9.424560e+05  \n",
              "num_collections_last_12m               0.0000  3.000000e+00  \n",
              "num_historical_failed_to_pay           0.0000  5.200000e+01  \n",
              "months_since_90d_late                 63.0000  1.280000e+02  \n",
              "current_accounts_delinq                0.0000  1.000000e+00  \n",
              "total_collection_amount_ever           0.0000  1.993080e+05  \n",
              "current_installment_accounts           3.0000  3.500000e+01  \n",
              "accounts_opened_24m                    6.0000  2.900000e+01  \n",
              "months_since_last_credit_inquiry      11.0000  2.400000e+01  \n",
              "num_satisfactory_accounts             14.0000  5.100000e+01  \n",
              "num_accounts_120d_past_due             0.0000  0.000000e+00  \n",
              "num_accounts_30d_past_due              0.0000  1.000000e+00  \n",
              "num_active_debit_accounts              5.0000  3.200000e+01  \n",
              "total_debit_limit                  36100.0000  3.867000e+05  \n",
              "num_total_cc_accounts                 17.0000  6.600000e+01  \n",
              "num_open_cc_accounts                  10.0000  4.600000e+01  \n",
              "num_cc_carrying_balance                7.0000  4.300000e+01  \n",
              "num_mort_accounts                      2.0000  1.400000e+01  \n",
              "account_never_delinq_percent         100.0000  1.000000e+02  \n",
              "tax_liens                              0.0000  5.200000e+01  \n",
              "public_record_bankrupt                 0.0000  3.000000e+00  \n",
              "loan_amount                        24000.0000  4.000000e+04  \n",
              "term                                  60.0000  6.000000e+01  \n",
              "interest_rate                         15.0500  3.094000e+01  \n",
              "installment                          644.6900  1.566590e+03  \n",
              "balance                            20690.1825  4.000000e+04  \n",
              "paid_total                          2616.0050  4.163044e+04  \n",
              "paid_principal                      1694.5550  4.000000e+04  \n",
              "paid_interest                        825.4200  4.216440e+03  \n",
              "paid_late_fees                         0.0000  5.298000e+01  "
            ],
            "text/html": [
              "\n",
              "  <div id=\"df-b165b827-5a62-4791-9ec2-6a8fda3c4c2e\" class=\"colab-df-container\">\n",
              "    <div>\n",
              "<style scoped>\n",
              "    .dataframe tbody tr th:only-of-type {\n",
              "        vertical-align: middle;\n",
              "    }\n",
              "\n",
              "    .dataframe tbody tr th {\n",
              "        vertical-align: top;\n",
              "    }\n",
              "\n",
              "    .dataframe thead th {\n",
              "        text-align: right;\n",
              "    }\n",
              "</style>\n",
              "<table border=\"1\" class=\"dataframe\">\n",
              "  <thead>\n",
              "    <tr style=\"text-align: right;\">\n",
              "      <th></th>\n",
              "      <th>count</th>\n",
              "      <th>mean</th>\n",
              "      <th>std</th>\n",
              "      <th>min</th>\n",
              "      <th>25%</th>\n",
              "      <th>50%</th>\n",
              "      <th>75%</th>\n",
              "      <th>max</th>\n",
              "    </tr>\n",
              "  </thead>\n",
              "  <tbody>\n",
              "    <tr>\n",
              "      <th>emp_length</th>\n",
              "      <td>9183.0</td>\n",
              "      <td>5.930306</td>\n",
              "      <td>3.703734</td>\n",
              "      <td>0.00</td>\n",
              "      <td>2.0000</td>\n",
              "      <td>6.000</td>\n",
              "      <td>10.0000</td>\n",
              "      <td>1.000000e+01</td>\n",
              "    </tr>\n",
              "    <tr>\n",
              "      <th>annual_income</th>\n",
              "      <td>10000.0</td>\n",
              "      <td>79222.148412</td>\n",
              "      <td>64734.290492</td>\n",
              "      <td>0.00</td>\n",
              "      <td>45000.0000</td>\n",
              "      <td>65000.000</td>\n",
              "      <td>95000.0000</td>\n",
              "      <td>2.300000e+06</td>\n",
              "    </tr>\n",
              "    <tr>\n",
              "      <th>debt_to_income</th>\n",
              "      <td>9976.0</td>\n",
              "      <td>19.308192</td>\n",
              "      <td>15.004851</td>\n",
              "      <td>0.00</td>\n",
              "      <td>11.0575</td>\n",
              "      <td>17.570</td>\n",
              "      <td>25.0025</td>\n",
              "      <td>4.690900e+02</td>\n",
              "    </tr>\n",
              "    <tr>\n",
              "      <th>annual_income_joint</th>\n",
              "      <td>1495.0</td>\n",
              "      <td>127914.571244</td>\n",
              "      <td>70168.375404</td>\n",
              "      <td>19200.00</td>\n",
              "      <td>86833.5000</td>\n",
              "      <td>113000.000</td>\n",
              "      <td>151545.5000</td>\n",
              "      <td>1.100000e+06</td>\n",
              "    </tr>\n",
              "    <tr>\n",
              "      <th>debt_to_income_joint</th>\n",
              "      <td>1495.0</td>\n",
              "      <td>19.979304</td>\n",
              "      <td>8.054781</td>\n",
              "      <td>0.32</td>\n",
              "      <td>14.1600</td>\n",
              "      <td>19.720</td>\n",
              "      <td>25.5000</td>\n",
              "      <td>3.998000e+01</td>\n",
              "    </tr>\n",
              "    <tr>\n",
              "      <th>delinq_2y</th>\n",
              "      <td>10000.0</td>\n",
              "      <td>0.216000</td>\n",
              "      <td>0.683660</td>\n",
              "      <td>0.00</td>\n",
              "      <td>0.0000</td>\n",
              "      <td>0.000</td>\n",
              "      <td>0.0000</td>\n",
              "      <td>1.300000e+01</td>\n",
              "    </tr>\n",
              "    <tr>\n",
              "      <th>months_since_last_delinq</th>\n",
              "      <td>4342.0</td>\n",
              "      <td>36.760709</td>\n",
              "      <td>21.634939</td>\n",
              "      <td>1.00</td>\n",
              "      <td>19.0000</td>\n",
              "      <td>34.000</td>\n",
              "      <td>53.0000</td>\n",
              "      <td>1.180000e+02</td>\n",
              "    </tr>\n",
              "    <tr>\n",
              "      <th>earliest_credit_line</th>\n",
              "      <td>10000.0</td>\n",
              "      <td>2001.290000</td>\n",
              "      <td>7.795510</td>\n",
              "      <td>1963.00</td>\n",
              "      <td>1997.0000</td>\n",
              "      <td>2003.000</td>\n",
              "      <td>2006.0000</td>\n",
              "      <td>2.015000e+03</td>\n",
              "    </tr>\n",
              "    <tr>\n",
              "      <th>inquiries_last_12m</th>\n",
              "      <td>10000.0</td>\n",
              "      <td>1.958200</td>\n",
              "      <td>2.380130</td>\n",
              "      <td>0.00</td>\n",
              "      <td>0.0000</td>\n",
              "      <td>1.000</td>\n",
              "      <td>3.0000</td>\n",
              "      <td>2.900000e+01</td>\n",
              "    </tr>\n",
              "    <tr>\n",
              "      <th>total_credit_lines</th>\n",
              "      <td>10000.0</td>\n",
              "      <td>22.679600</td>\n",
              "      <td>11.885439</td>\n",
              "      <td>2.00</td>\n",
              "      <td>14.0000</td>\n",
              "      <td>21.000</td>\n",
              "      <td>29.0000</td>\n",
              "      <td>8.700000e+01</td>\n",
              "    </tr>\n",
              "    <tr>\n",
              "      <th>open_credit_lines</th>\n",
              "      <td>10000.0</td>\n",
              "      <td>11.404400</td>\n",
              "      <td>5.868280</td>\n",
              "      <td>0.00</td>\n",
              "      <td>7.0000</td>\n",
              "      <td>10.000</td>\n",
              "      <td>14.0000</td>\n",
              "      <td>5.100000e+01</td>\n",
              "    </tr>\n",
              "    <tr>\n",
              "      <th>total_credit_limit</th>\n",
              "      <td>10000.0</td>\n",
              "      <td>183606.230400</td>\n",
              "      <td>187632.707777</td>\n",
              "      <td>0.00</td>\n",
              "      <td>51593.7500</td>\n",
              "      <td>114667.000</td>\n",
              "      <td>267550.0000</td>\n",
              "      <td>3.386034e+06</td>\n",
              "    </tr>\n",
              "    <tr>\n",
              "      <th>total_credit_utilized</th>\n",
              "      <td>10000.0</td>\n",
              "      <td>51049.063100</td>\n",
              "      <td>53636.731172</td>\n",
              "      <td>0.00</td>\n",
              "      <td>19185.5000</td>\n",
              "      <td>36927.000</td>\n",
              "      <td>65421.0000</td>\n",
              "      <td>9.424560e+05</td>\n",
              "    </tr>\n",
              "    <tr>\n",
              "      <th>num_collections_last_12m</th>\n",
              "      <td>10000.0</td>\n",
              "      <td>0.013800</td>\n",
              "      <td>0.126535</td>\n",
              "      <td>0.00</td>\n",
              "      <td>0.0000</td>\n",
              "      <td>0.000</td>\n",
              "      <td>0.0000</td>\n",
              "      <td>3.000000e+00</td>\n",
              "    </tr>\n",
              "    <tr>\n",
              "      <th>num_historical_failed_to_pay</th>\n",
              "      <td>10000.0</td>\n",
              "      <td>0.167100</td>\n",
              "      <td>0.687768</td>\n",
              "      <td>0.00</td>\n",
              "      <td>0.0000</td>\n",
              "      <td>0.000</td>\n",
              "      <td>0.0000</td>\n",
              "      <td>5.200000e+01</td>\n",
              "    </tr>\n",
              "    <tr>\n",
              "      <th>months_since_90d_late</th>\n",
              "      <td>2285.0</td>\n",
              "      <td>46.112473</td>\n",
              "      <td>21.748021</td>\n",
              "      <td>2.00</td>\n",
              "      <td>29.0000</td>\n",
              "      <td>47.000</td>\n",
              "      <td>63.0000</td>\n",
              "      <td>1.280000e+02</td>\n",
              "    </tr>\n",
              "    <tr>\n",
              "      <th>current_accounts_delinq</th>\n",
              "      <td>10000.0</td>\n",
              "      <td>0.000100</td>\n",
              "      <td>0.010000</td>\n",
              "      <td>0.00</td>\n",
              "      <td>0.0000</td>\n",
              "      <td>0.000</td>\n",
              "      <td>0.0000</td>\n",
              "      <td>1.000000e+00</td>\n",
              "    </tr>\n",
              "    <tr>\n",
              "      <th>total_collection_amount_ever</th>\n",
              "      <td>10000.0</td>\n",
              "      <td>184.334000</td>\n",
              "      <td>2206.389859</td>\n",
              "      <td>0.00</td>\n",
              "      <td>0.0000</td>\n",
              "      <td>0.000</td>\n",
              "      <td>0.0000</td>\n",
              "      <td>1.993080e+05</td>\n",
              "    </tr>\n",
              "    <tr>\n",
              "      <th>current_installment_accounts</th>\n",
              "      <td>10000.0</td>\n",
              "      <td>2.663600</td>\n",
              "      <td>2.935387</td>\n",
              "      <td>0.00</td>\n",
              "      <td>1.0000</td>\n",
              "      <td>2.000</td>\n",
              "      <td>3.0000</td>\n",
              "      <td>3.500000e+01</td>\n",
              "    </tr>\n",
              "    <tr>\n",
              "      <th>accounts_opened_24m</th>\n",
              "      <td>10000.0</td>\n",
              "      <td>4.376100</td>\n",
              "      <td>3.158583</td>\n",
              "      <td>0.00</td>\n",
              "      <td>2.0000</td>\n",
              "      <td>4.000</td>\n",
              "      <td>6.0000</td>\n",
              "      <td>2.900000e+01</td>\n",
              "    </tr>\n",
              "    <tr>\n",
              "      <th>months_since_last_credit_inquiry</th>\n",
              "      <td>8729.0</td>\n",
              "      <td>7.340703</td>\n",
              "      <td>5.981590</td>\n",
              "      <td>0.00</td>\n",
              "      <td>2.0000</td>\n",
              "      <td>6.000</td>\n",
              "      <td>11.0000</td>\n",
              "      <td>2.400000e+01</td>\n",
              "    </tr>\n",
              "    <tr>\n",
              "      <th>num_satisfactory_accounts</th>\n",
              "      <td>10000.0</td>\n",
              "      <td>11.379600</td>\n",
              "      <td>5.859705</td>\n",
              "      <td>0.00</td>\n",
              "      <td>7.0000</td>\n",
              "      <td>10.000</td>\n",
              "      <td>14.0000</td>\n",
              "      <td>5.100000e+01</td>\n",
              "    </tr>\n",
              "    <tr>\n",
              "      <th>num_accounts_120d_past_due</th>\n",
              "      <td>9682.0</td>\n",
              "      <td>0.000000</td>\n",
              "      <td>0.000000</td>\n",
              "      <td>0.00</td>\n",
              "      <td>0.0000</td>\n",
              "      <td>0.000</td>\n",
              "      <td>0.0000</td>\n",
              "      <td>0.000000e+00</td>\n",
              "    </tr>\n",
              "    <tr>\n",
              "      <th>num_accounts_30d_past_due</th>\n",
              "      <td>10000.0</td>\n",
              "      <td>0.000100</td>\n",
              "      <td>0.010000</td>\n",
              "      <td>0.00</td>\n",
              "      <td>0.0000</td>\n",
              "      <td>0.000</td>\n",
              "      <td>0.0000</td>\n",
              "      <td>1.000000e+00</td>\n",
              "    </tr>\n",
              "    <tr>\n",
              "      <th>num_active_debit_accounts</th>\n",
              "      <td>10000.0</td>\n",
              "      <td>3.595300</td>\n",
              "      <td>2.434689</td>\n",
              "      <td>0.00</td>\n",
              "      <td>2.0000</td>\n",
              "      <td>3.000</td>\n",
              "      <td>5.0000</td>\n",
              "      <td>3.200000e+01</td>\n",
              "    </tr>\n",
              "    <tr>\n",
              "      <th>total_debit_limit</th>\n",
              "      <td>10000.0</td>\n",
              "      <td>27357.410300</td>\n",
              "      <td>26570.164081</td>\n",
              "      <td>0.00</td>\n",
              "      <td>10000.0000</td>\n",
              "      <td>19500.000</td>\n",
              "      <td>36100.0000</td>\n",
              "      <td>3.867000e+05</td>\n",
              "    </tr>\n",
              "    <tr>\n",
              "      <th>num_total_cc_accounts</th>\n",
              "      <td>10000.0</td>\n",
              "      <td>13.030000</td>\n",
              "      <td>7.874713</td>\n",
              "      <td>2.00</td>\n",
              "      <td>7.0000</td>\n",
              "      <td>11.000</td>\n",
              "      <td>17.0000</td>\n",
              "      <td>6.600000e+01</td>\n",
              "    </tr>\n",
              "    <tr>\n",
              "      <th>num_open_cc_accounts</th>\n",
              "      <td>10000.0</td>\n",
              "      <td>8.095000</td>\n",
              "      <td>4.906606</td>\n",
              "      <td>0.00</td>\n",
              "      <td>5.0000</td>\n",
              "      <td>7.000</td>\n",
              "      <td>10.0000</td>\n",
              "      <td>4.600000e+01</td>\n",
              "    </tr>\n",
              "    <tr>\n",
              "      <th>num_cc_carrying_balance</th>\n",
              "      <td>10000.0</td>\n",
              "      <td>5.230500</td>\n",
              "      <td>3.327623</td>\n",
              "      <td>0.00</td>\n",
              "      <td>3.0000</td>\n",
              "      <td>5.000</td>\n",
              "      <td>7.0000</td>\n",
              "      <td>4.300000e+01</td>\n",
              "    </tr>\n",
              "    <tr>\n",
              "      <th>num_mort_accounts</th>\n",
              "      <td>10000.0</td>\n",
              "      <td>1.383100</td>\n",
              "      <td>1.717274</td>\n",
              "      <td>0.00</td>\n",
              "      <td>0.0000</td>\n",
              "      <td>1.000</td>\n",
              "      <td>2.0000</td>\n",
              "      <td>1.400000e+01</td>\n",
              "    </tr>\n",
              "    <tr>\n",
              "      <th>account_never_delinq_percent</th>\n",
              "      <td>10000.0</td>\n",
              "      <td>94.648990</td>\n",
              "      <td>9.155059</td>\n",
              "      <td>14.30</td>\n",
              "      <td>92.6000</td>\n",
              "      <td>100.000</td>\n",
              "      <td>100.0000</td>\n",
              "      <td>1.000000e+02</td>\n",
              "    </tr>\n",
              "    <tr>\n",
              "      <th>tax_liens</th>\n",
              "      <td>10000.0</td>\n",
              "      <td>0.043300</td>\n",
              "      <td>0.593852</td>\n",
              "      <td>0.00</td>\n",
              "      <td>0.0000</td>\n",
              "      <td>0.000</td>\n",
              "      <td>0.0000</td>\n",
              "      <td>5.200000e+01</td>\n",
              "    </tr>\n",
              "    <tr>\n",
              "      <th>public_record_bankrupt</th>\n",
              "      <td>10000.0</td>\n",
              "      <td>0.123800</td>\n",
              "      <td>0.337172</td>\n",
              "      <td>0.00</td>\n",
              "      <td>0.0000</td>\n",
              "      <td>0.000</td>\n",
              "      <td>0.0000</td>\n",
              "      <td>3.000000e+00</td>\n",
              "    </tr>\n",
              "    <tr>\n",
              "      <th>loan_amount</th>\n",
              "      <td>10000.0</td>\n",
              "      <td>16361.922500</td>\n",
              "      <td>10301.956759</td>\n",
              "      <td>1000.00</td>\n",
              "      <td>8000.0000</td>\n",
              "      <td>14500.000</td>\n",
              "      <td>24000.0000</td>\n",
              "      <td>4.000000e+04</td>\n",
              "    </tr>\n",
              "    <tr>\n",
              "      <th>term</th>\n",
              "      <td>10000.0</td>\n",
              "      <td>43.272000</td>\n",
              "      <td>11.029877</td>\n",
              "      <td>36.00</td>\n",
              "      <td>36.0000</td>\n",
              "      <td>36.000</td>\n",
              "      <td>60.0000</td>\n",
              "      <td>6.000000e+01</td>\n",
              "    </tr>\n",
              "    <tr>\n",
              "      <th>interest_rate</th>\n",
              "      <td>10000.0</td>\n",
              "      <td>12.427524</td>\n",
              "      <td>5.001105</td>\n",
              "      <td>5.31</td>\n",
              "      <td>9.4300</td>\n",
              "      <td>11.980</td>\n",
              "      <td>15.0500</td>\n",
              "      <td>3.094000e+01</td>\n",
              "    </tr>\n",
              "    <tr>\n",
              "      <th>installment</th>\n",
              "      <td>10000.0</td>\n",
              "      <td>476.205323</td>\n",
              "      <td>294.851627</td>\n",
              "      <td>30.75</td>\n",
              "      <td>256.0400</td>\n",
              "      <td>398.420</td>\n",
              "      <td>644.6900</td>\n",
              "      <td>1.566590e+03</td>\n",
              "    </tr>\n",
              "    <tr>\n",
              "      <th>balance</th>\n",
              "      <td>10000.0</td>\n",
              "      <td>14458.916610</td>\n",
              "      <td>9964.561865</td>\n",
              "      <td>0.00</td>\n",
              "      <td>6679.0650</td>\n",
              "      <td>12379.495</td>\n",
              "      <td>20690.1825</td>\n",
              "      <td>4.000000e+04</td>\n",
              "    </tr>\n",
              "    <tr>\n",
              "      <th>paid_total</th>\n",
              "      <td>10000.0</td>\n",
              "      <td>2494.234773</td>\n",
              "      <td>3958.230365</td>\n",
              "      <td>0.00</td>\n",
              "      <td>928.7000</td>\n",
              "      <td>1563.300</td>\n",
              "      <td>2616.0050</td>\n",
              "      <td>4.163044e+04</td>\n",
              "    </tr>\n",
              "    <tr>\n",
              "      <th>paid_principal</th>\n",
              "      <td>10000.0</td>\n",
              "      <td>1894.448466</td>\n",
              "      <td>3884.407175</td>\n",
              "      <td>0.00</td>\n",
              "      <td>587.1000</td>\n",
              "      <td>984.990</td>\n",
              "      <td>1694.5550</td>\n",
              "      <td>4.000000e+04</td>\n",
              "    </tr>\n",
              "    <tr>\n",
              "      <th>paid_interest</th>\n",
              "      <td>10000.0</td>\n",
              "      <td>599.666781</td>\n",
              "      <td>517.328062</td>\n",
              "      <td>0.00</td>\n",
              "      <td>221.7575</td>\n",
              "      <td>446.140</td>\n",
              "      <td>825.4200</td>\n",
              "      <td>4.216440e+03</td>\n",
              "    </tr>\n",
              "    <tr>\n",
              "      <th>paid_late_fees</th>\n",
              "      <td>10000.0</td>\n",
              "      <td>0.119516</td>\n",
              "      <td>1.813468</td>\n",
              "      <td>0.00</td>\n",
              "      <td>0.0000</td>\n",
              "      <td>0.000</td>\n",
              "      <td>0.0000</td>\n",
              "      <td>5.298000e+01</td>\n",
              "    </tr>\n",
              "  </tbody>\n",
              "</table>\n",
              "</div>\n",
              "    <div class=\"colab-df-buttons\">\n",
              "\n",
              "  <div class=\"colab-df-container\">\n",
              "    <button class=\"colab-df-convert\" onclick=\"convertToInteractive('df-b165b827-5a62-4791-9ec2-6a8fda3c4c2e')\"\n",
              "            title=\"Convert this dataframe to an interactive table.\"\n",
              "            style=\"display:none;\">\n",
              "\n",
              "  <svg xmlns=\"http://www.w3.org/2000/svg\" height=\"24px\" viewBox=\"0 -960 960 960\">\n",
              "    <path d=\"M120-120v-720h720v720H120Zm60-500h600v-160H180v160Zm220 220h160v-160H400v160Zm0 220h160v-160H400v160ZM180-400h160v-160H180v160Zm440 0h160v-160H620v160ZM180-180h160v-160H180v160Zm440 0h160v-160H620v160Z\"/>\n",
              "  </svg>\n",
              "    </button>\n",
              "\n",
              "  <style>\n",
              "    .colab-df-container {\n",
              "      display:flex;\n",
              "      gap: 12px;\n",
              "    }\n",
              "\n",
              "    .colab-df-convert {\n",
              "      background-color: #E8F0FE;\n",
              "      border: none;\n",
              "      border-radius: 50%;\n",
              "      cursor: pointer;\n",
              "      display: none;\n",
              "      fill: #1967D2;\n",
              "      height: 32px;\n",
              "      padding: 0 0 0 0;\n",
              "      width: 32px;\n",
              "    }\n",
              "\n",
              "    .colab-df-convert:hover {\n",
              "      background-color: #E2EBFA;\n",
              "      box-shadow: 0px 1px 2px rgba(60, 64, 67, 0.3), 0px 1px 3px 1px rgba(60, 64, 67, 0.15);\n",
              "      fill: #174EA6;\n",
              "    }\n",
              "\n",
              "    .colab-df-buttons div {\n",
              "      margin-bottom: 4px;\n",
              "    }\n",
              "\n",
              "    [theme=dark] .colab-df-convert {\n",
              "      background-color: #3B4455;\n",
              "      fill: #D2E3FC;\n",
              "    }\n",
              "\n",
              "    [theme=dark] .colab-df-convert:hover {\n",
              "      background-color: #434B5C;\n",
              "      box-shadow: 0px 1px 3px 1px rgba(0, 0, 0, 0.15);\n",
              "      filter: drop-shadow(0px 1px 2px rgba(0, 0, 0, 0.3));\n",
              "      fill: #FFFFFF;\n",
              "    }\n",
              "  </style>\n",
              "\n",
              "    <script>\n",
              "      const buttonEl =\n",
              "        document.querySelector('#df-b165b827-5a62-4791-9ec2-6a8fda3c4c2e button.colab-df-convert');\n",
              "      buttonEl.style.display =\n",
              "        google.colab.kernel.accessAllowed ? 'block' : 'none';\n",
              "\n",
              "      async function convertToInteractive(key) {\n",
              "        const element = document.querySelector('#df-b165b827-5a62-4791-9ec2-6a8fda3c4c2e');\n",
              "        const dataTable =\n",
              "          await google.colab.kernel.invokeFunction('convertToInteractive',\n",
              "                                                    [key], {});\n",
              "        if (!dataTable) return;\n",
              "\n",
              "        const docLinkHtml = 'Like what you see? Visit the ' +\n",
              "          '<a target=\"_blank\" href=https://colab.research.google.com/notebooks/data_table.ipynb>data table notebook</a>'\n",
              "          + ' to learn more about interactive tables.';\n",
              "        element.innerHTML = '';\n",
              "        dataTable['output_type'] = 'display_data';\n",
              "        await google.colab.output.renderOutput(dataTable, element);\n",
              "        const docLink = document.createElement('div');\n",
              "        docLink.innerHTML = docLinkHtml;\n",
              "        element.appendChild(docLink);\n",
              "      }\n",
              "    </script>\n",
              "  </div>\n",
              "\n",
              "\n",
              "    <div id=\"df-156fd3bb-e774-46dd-a90d-efd327e51575\">\n",
              "      <button class=\"colab-df-quickchart\" onclick=\"quickchart('df-156fd3bb-e774-46dd-a90d-efd327e51575')\"\n",
              "                title=\"Suggest charts\"\n",
              "                style=\"display:none;\">\n",
              "\n",
              "<svg xmlns=\"http://www.w3.org/2000/svg\" height=\"24px\"viewBox=\"0 0 24 24\"\n",
              "     width=\"24px\">\n",
              "    <g>\n",
              "        <path d=\"M19 3H5c-1.1 0-2 .9-2 2v14c0 1.1.9 2 2 2h14c1.1 0 2-.9 2-2V5c0-1.1-.9-2-2-2zM9 17H7v-7h2v7zm4 0h-2V7h2v10zm4 0h-2v-4h2v4z\"/>\n",
              "    </g>\n",
              "</svg>\n",
              "      </button>\n",
              "\n",
              "<style>\n",
              "  .colab-df-quickchart {\n",
              "      --bg-color: #E8F0FE;\n",
              "      --fill-color: #1967D2;\n",
              "      --hover-bg-color: #E2EBFA;\n",
              "      --hover-fill-color: #174EA6;\n",
              "      --disabled-fill-color: #AAA;\n",
              "      --disabled-bg-color: #DDD;\n",
              "  }\n",
              "\n",
              "  [theme=dark] .colab-df-quickchart {\n",
              "      --bg-color: #3B4455;\n",
              "      --fill-color: #D2E3FC;\n",
              "      --hover-bg-color: #434B5C;\n",
              "      --hover-fill-color: #FFFFFF;\n",
              "      --disabled-bg-color: #3B4455;\n",
              "      --disabled-fill-color: #666;\n",
              "  }\n",
              "\n",
              "  .colab-df-quickchart {\n",
              "    background-color: var(--bg-color);\n",
              "    border: none;\n",
              "    border-radius: 50%;\n",
              "    cursor: pointer;\n",
              "    display: none;\n",
              "    fill: var(--fill-color);\n",
              "    height: 32px;\n",
              "    padding: 0;\n",
              "    width: 32px;\n",
              "  }\n",
              "\n",
              "  .colab-df-quickchart:hover {\n",
              "    background-color: var(--hover-bg-color);\n",
              "    box-shadow: 0 1px 2px rgba(60, 64, 67, 0.3), 0 1px 3px 1px rgba(60, 64, 67, 0.15);\n",
              "    fill: var(--button-hover-fill-color);\n",
              "  }\n",
              "\n",
              "  .colab-df-quickchart-complete:disabled,\n",
              "  .colab-df-quickchart-complete:disabled:hover {\n",
              "    background-color: var(--disabled-bg-color);\n",
              "    fill: var(--disabled-fill-color);\n",
              "    box-shadow: none;\n",
              "  }\n",
              "\n",
              "  .colab-df-spinner {\n",
              "    border: 2px solid var(--fill-color);\n",
              "    border-color: transparent;\n",
              "    border-bottom-color: var(--fill-color);\n",
              "    animation:\n",
              "      spin 1s steps(1) infinite;\n",
              "  }\n",
              "\n",
              "  @keyframes spin {\n",
              "    0% {\n",
              "      border-color: transparent;\n",
              "      border-bottom-color: var(--fill-color);\n",
              "      border-left-color: var(--fill-color);\n",
              "    }\n",
              "    20% {\n",
              "      border-color: transparent;\n",
              "      border-left-color: var(--fill-color);\n",
              "      border-top-color: var(--fill-color);\n",
              "    }\n",
              "    30% {\n",
              "      border-color: transparent;\n",
              "      border-left-color: var(--fill-color);\n",
              "      border-top-color: var(--fill-color);\n",
              "      border-right-color: var(--fill-color);\n",
              "    }\n",
              "    40% {\n",
              "      border-color: transparent;\n",
              "      border-right-color: var(--fill-color);\n",
              "      border-top-color: var(--fill-color);\n",
              "    }\n",
              "    60% {\n",
              "      border-color: transparent;\n",
              "      border-right-color: var(--fill-color);\n",
              "    }\n",
              "    80% {\n",
              "      border-color: transparent;\n",
              "      border-right-color: var(--fill-color);\n",
              "      border-bottom-color: var(--fill-color);\n",
              "    }\n",
              "    90% {\n",
              "      border-color: transparent;\n",
              "      border-bottom-color: var(--fill-color);\n",
              "    }\n",
              "  }\n",
              "</style>\n",
              "\n",
              "      <script>\n",
              "        async function quickchart(key) {\n",
              "          const quickchartButtonEl =\n",
              "            document.querySelector('#' + key + ' button');\n",
              "          quickchartButtonEl.disabled = true;  // To prevent multiple clicks.\n",
              "          quickchartButtonEl.classList.add('colab-df-spinner');\n",
              "          try {\n",
              "            const charts = await google.colab.kernel.invokeFunction(\n",
              "                'suggestCharts', [key], {});\n",
              "          } catch (error) {\n",
              "            console.error('Error during call to suggestCharts:', error);\n",
              "          }\n",
              "          quickchartButtonEl.classList.remove('colab-df-spinner');\n",
              "          quickchartButtonEl.classList.add('colab-df-quickchart-complete');\n",
              "        }\n",
              "        (() => {\n",
              "          let quickchartButtonEl =\n",
              "            document.querySelector('#df-156fd3bb-e774-46dd-a90d-efd327e51575 button');\n",
              "          quickchartButtonEl.style.display =\n",
              "            google.colab.kernel.accessAllowed ? 'block' : 'none';\n",
              "        })();\n",
              "      </script>\n",
              "    </div>\n",
              "\n",
              "    </div>\n",
              "  </div>\n"
            ],
            "application/vnd.google.colaboratory.intrinsic+json": {
              "type": "dataframe",
              "summary": "{\n  \"name\": \"df\",\n  \"rows\": 42,\n  \"fields\": [\n    {\n      \"column\": \"count\",\n      \"properties\": {\n        \"dtype\": \"number\",\n        \"std\": 2279.031256108223,\n        \"min\": 1495.0,\n        \"max\": 10000.0,\n        \"num_unique_values\": 8,\n        \"samples\": [\n          10000.0,\n          2285.0,\n          9183.0\n        ],\n        \"semantic_type\": \"\",\n        \"description\": \"\"\n      }\n    },\n    {\n      \"column\": \"mean\",\n      \"properties\": {\n        \"dtype\": \"number\",\n        \"std\": 36308.63277171842,\n        \"min\": 0.0,\n        \"max\": 183606.2304,\n        \"num_unique_values\": 41,\n        \"samples\": [\n          27357.4103,\n          0.0138,\n          1.9582\n        ],\n        \"semantic_type\": \"\",\n        \"description\": \"\"\n      }\n    },\n    {\n      \"column\": \"std\",\n      \"properties\": {\n        \"dtype\": \"number\",\n        \"std\": 32632.108120213514,\n        \"min\": 0.0,\n        \"max\": 187632.70777681237,\n        \"num_unique_values\": 41,\n        \"samples\": [\n          26570.164081410545,\n          0.12653521690071923,\n          2.3801300934879044\n        ],\n        \"semantic_type\": \"\",\n        \"description\": \"\"\n      }\n    },\n    {\n      \"column\": \"min\",\n      \"properties\": {\n        \"dtype\": \"number\",\n        \"std\": 2970.1834356120894,\n        \"min\": 0.0,\n        \"max\": 19200.0,\n        \"num_unique_values\": 11,\n        \"samples\": [\n          2.0,\n          0.0,\n          5.31\n        ],\n        \"semantic_type\": \"\",\n        \"description\": \"\"\n      }\n    },\n    {\n      \"column\": \"25%\",\n      \"properties\": {\n        \"dtype\": \"number\",\n        \"std\": 16771.402432816772,\n        \"min\": 0.0,\n        \"max\": 86833.5,\n        \"num_unique_values\": 26,\n        \"samples\": [\n          14.0,\n          3.0,\n          2.0\n        ],\n        \"semantic_type\": \"\",\n        \"description\": \"\"\n      }\n    },\n    {\n      \"column\": \"50%\",\n      \"properties\": {\n        \"dtype\": \"number\",\n        \"std\": 26498.200324089725,\n        \"min\": 0.0,\n        \"max\": 114667.0,\n        \"num_unique_values\": 30,\n        \"samples\": [\n          1563.3,\n          4.0,\n          36.0\n        ],\n        \"semantic_type\": \"\",\n        \"description\": \"\"\n      }\n    },\n    {\n      \"column\": \"75%\",\n      \"properties\": {\n        \"dtype\": \"number\",\n        \"std\": 49271.203693652074,\n        \"min\": 0.0,\n        \"max\": 267550.0,\n        \"num_unique_values\": 30,\n        \"samples\": [\n          2616.005,\n          11.0,\n          60.0\n        ],\n        \"semantic_type\": \"\",\n        \"description\": \"\"\n      }\n    },\n    {\n      \"column\": \"max\",\n      \"properties\": {\n        \"dtype\": \"number\",\n        \"std\": 650231.9755582501,\n        \"min\": 0.0,\n        \"max\": 3386034.0,\n        \"num_unique_values\": 35,\n        \"samples\": [\n          14.0,\n          3.0,\n          46.0\n        ],\n        \"semantic_type\": \"\",\n        \"description\": \"\"\n      }\n    }\n  ]\n}"
            }
          },
          "metadata": {},
          "execution_count": 3
        }
      ]
    },
    {
      "cell_type": "code",
      "source": [
        "df.head(10)"
      ],
      "metadata": {
        "colab": {
          "base_uri": "https://localhost:8080/",
          "height": 534
        },
        "id": "lxrNRGevsI0w",
        "outputId": "4ba63794-01bd-4886-c032-952c2c2fa961"
      },
      "execution_count": 4,
      "outputs": [
        {
          "output_type": "execute_result",
          "data": {
            "text/plain": [
              "                 emp_title  emp_length state homeownership  annual_income  \\\n",
              "0  global config engineer          3.0    NJ      MORTGAGE        90000.0   \n",
              "1   warehouse office clerk        10.0    HI          RENT        40000.0   \n",
              "2                 assembly         3.0    WI          RENT        40000.0   \n",
              "3         customer service         1.0    PA          RENT        30000.0   \n",
              "4     security supervisor         10.0    CA          RENT        35000.0   \n",
              "5                      NaN         NaN    KY           OWN        34000.0   \n",
              "6                      hr         10.0    MI      MORTGAGE        35000.0   \n",
              "7                   police        10.0    AZ      MORTGAGE       110000.0   \n",
              "8                    parts        10.0    NV      MORTGAGE        65000.0   \n",
              "9               4th person         3.0    IL          RENT        30000.0   \n",
              "\n",
              "   verified_income  debt_to_income  annual_income_joint  \\\n",
              "0         Verified           18.01                  NaN   \n",
              "1     Not Verified            5.04                  NaN   \n",
              "2  Source Verified           21.15                  NaN   \n",
              "3     Not Verified           10.16                  NaN   \n",
              "4         Verified           57.96              57000.0   \n",
              "5     Not Verified            6.46                  NaN   \n",
              "6  Source Verified           23.66             155000.0   \n",
              "7  Source Verified           16.19                  NaN   \n",
              "8  Source Verified           36.48                  NaN   \n",
              "9     Not Verified           18.91                  NaN   \n",
              "\n",
              "  verification_income_joint  debt_to_income_joint  ...  sub_grade  \\\n",
              "0                       NaN                   NaN  ...         C3   \n",
              "1                       NaN                   NaN  ...         C1   \n",
              "2                       NaN                   NaN  ...         D1   \n",
              "3                       NaN                   NaN  ...         A3   \n",
              "4                  Verified                 37.66  ...         C3   \n",
              "5                       NaN                   NaN  ...         A3   \n",
              "6              Not Verified                 13.12  ...         C2   \n",
              "7                       NaN                   NaN  ...         B5   \n",
              "8                       NaN                   NaN  ...         C2   \n",
              "9                       NaN                   NaN  ...         A3   \n",
              "\n",
              "   issue_month  loan_status  initial_listing_status  disbursement_method  \\\n",
              "0     Mar-2018      Current                   whole                 Cash   \n",
              "1     Feb-2018      Current                   whole                 Cash   \n",
              "2     Feb-2018      Current              fractional                 Cash   \n",
              "3     Jan-2018      Current                   whole                 Cash   \n",
              "4     Mar-2018      Current                   whole                 Cash   \n",
              "5     Jan-2018      Current                   whole                 Cash   \n",
              "6     Jan-2018      Current                   whole                 Cash   \n",
              "7     Jan-2018      Current                   whole                 Cash   \n",
              "8     Feb-2018      Current                   whole                 Cash   \n",
              "9     Mar-2018      Current              fractional                 Cash   \n",
              "\n",
              "    balance  paid_total  paid_principal  paid_interest  paid_late_fees  \n",
              "0  27015.86     1999.33          984.14        1015.19             0.0  \n",
              "1   4651.37      499.12          348.63         150.49             0.0  \n",
              "2   1824.63      281.80          175.37         106.43             0.0  \n",
              "3  18853.26     3312.89         2746.74         566.15             0.0  \n",
              "4  21430.15     2324.65         1569.85         754.80             0.0  \n",
              "5   4256.71      873.13          743.29         129.84             0.0  \n",
              "6  22560.00     2730.51         1440.00        1290.51             0.0  \n",
              "7  19005.39     1765.84          994.61         771.23             0.0  \n",
              "8  18156.66     2703.22         1843.34         859.88             0.0  \n",
              "9   6077.13      391.15          322.87          68.28             0.0  \n",
              "\n",
              "[10 rows x 55 columns]"
            ],
            "text/html": [
              "\n",
              "  <div id=\"df-4cc4c5ec-85f8-4f29-bb81-e3f93f0bd536\" class=\"colab-df-container\">\n",
              "    <div>\n",
              "<style scoped>\n",
              "    .dataframe tbody tr th:only-of-type {\n",
              "        vertical-align: middle;\n",
              "    }\n",
              "\n",
              "    .dataframe tbody tr th {\n",
              "        vertical-align: top;\n",
              "    }\n",
              "\n",
              "    .dataframe thead th {\n",
              "        text-align: right;\n",
              "    }\n",
              "</style>\n",
              "<table border=\"1\" class=\"dataframe\">\n",
              "  <thead>\n",
              "    <tr style=\"text-align: right;\">\n",
              "      <th></th>\n",
              "      <th>emp_title</th>\n",
              "      <th>emp_length</th>\n",
              "      <th>state</th>\n",
              "      <th>homeownership</th>\n",
              "      <th>annual_income</th>\n",
              "      <th>verified_income</th>\n",
              "      <th>debt_to_income</th>\n",
              "      <th>annual_income_joint</th>\n",
              "      <th>verification_income_joint</th>\n",
              "      <th>debt_to_income_joint</th>\n",
              "      <th>...</th>\n",
              "      <th>sub_grade</th>\n",
              "      <th>issue_month</th>\n",
              "      <th>loan_status</th>\n",
              "      <th>initial_listing_status</th>\n",
              "      <th>disbursement_method</th>\n",
              "      <th>balance</th>\n",
              "      <th>paid_total</th>\n",
              "      <th>paid_principal</th>\n",
              "      <th>paid_interest</th>\n",
              "      <th>paid_late_fees</th>\n",
              "    </tr>\n",
              "  </thead>\n",
              "  <tbody>\n",
              "    <tr>\n",
              "      <th>0</th>\n",
              "      <td>global config engineer</td>\n",
              "      <td>3.0</td>\n",
              "      <td>NJ</td>\n",
              "      <td>MORTGAGE</td>\n",
              "      <td>90000.0</td>\n",
              "      <td>Verified</td>\n",
              "      <td>18.01</td>\n",
              "      <td>NaN</td>\n",
              "      <td>NaN</td>\n",
              "      <td>NaN</td>\n",
              "      <td>...</td>\n",
              "      <td>C3</td>\n",
              "      <td>Mar-2018</td>\n",
              "      <td>Current</td>\n",
              "      <td>whole</td>\n",
              "      <td>Cash</td>\n",
              "      <td>27015.86</td>\n",
              "      <td>1999.33</td>\n",
              "      <td>984.14</td>\n",
              "      <td>1015.19</td>\n",
              "      <td>0.0</td>\n",
              "    </tr>\n",
              "    <tr>\n",
              "      <th>1</th>\n",
              "      <td>warehouse office clerk</td>\n",
              "      <td>10.0</td>\n",
              "      <td>HI</td>\n",
              "      <td>RENT</td>\n",
              "      <td>40000.0</td>\n",
              "      <td>Not Verified</td>\n",
              "      <td>5.04</td>\n",
              "      <td>NaN</td>\n",
              "      <td>NaN</td>\n",
              "      <td>NaN</td>\n",
              "      <td>...</td>\n",
              "      <td>C1</td>\n",
              "      <td>Feb-2018</td>\n",
              "      <td>Current</td>\n",
              "      <td>whole</td>\n",
              "      <td>Cash</td>\n",
              "      <td>4651.37</td>\n",
              "      <td>499.12</td>\n",
              "      <td>348.63</td>\n",
              "      <td>150.49</td>\n",
              "      <td>0.0</td>\n",
              "    </tr>\n",
              "    <tr>\n",
              "      <th>2</th>\n",
              "      <td>assembly</td>\n",
              "      <td>3.0</td>\n",
              "      <td>WI</td>\n",
              "      <td>RENT</td>\n",
              "      <td>40000.0</td>\n",
              "      <td>Source Verified</td>\n",
              "      <td>21.15</td>\n",
              "      <td>NaN</td>\n",
              "      <td>NaN</td>\n",
              "      <td>NaN</td>\n",
              "      <td>...</td>\n",
              "      <td>D1</td>\n",
              "      <td>Feb-2018</td>\n",
              "      <td>Current</td>\n",
              "      <td>fractional</td>\n",
              "      <td>Cash</td>\n",
              "      <td>1824.63</td>\n",
              "      <td>281.80</td>\n",
              "      <td>175.37</td>\n",
              "      <td>106.43</td>\n",
              "      <td>0.0</td>\n",
              "    </tr>\n",
              "    <tr>\n",
              "      <th>3</th>\n",
              "      <td>customer service</td>\n",
              "      <td>1.0</td>\n",
              "      <td>PA</td>\n",
              "      <td>RENT</td>\n",
              "      <td>30000.0</td>\n",
              "      <td>Not Verified</td>\n",
              "      <td>10.16</td>\n",
              "      <td>NaN</td>\n",
              "      <td>NaN</td>\n",
              "      <td>NaN</td>\n",
              "      <td>...</td>\n",
              "      <td>A3</td>\n",
              "      <td>Jan-2018</td>\n",
              "      <td>Current</td>\n",
              "      <td>whole</td>\n",
              "      <td>Cash</td>\n",
              "      <td>18853.26</td>\n",
              "      <td>3312.89</td>\n",
              "      <td>2746.74</td>\n",
              "      <td>566.15</td>\n",
              "      <td>0.0</td>\n",
              "    </tr>\n",
              "    <tr>\n",
              "      <th>4</th>\n",
              "      <td>security supervisor</td>\n",
              "      <td>10.0</td>\n",
              "      <td>CA</td>\n",
              "      <td>RENT</td>\n",
              "      <td>35000.0</td>\n",
              "      <td>Verified</td>\n",
              "      <td>57.96</td>\n",
              "      <td>57000.0</td>\n",
              "      <td>Verified</td>\n",
              "      <td>37.66</td>\n",
              "      <td>...</td>\n",
              "      <td>C3</td>\n",
              "      <td>Mar-2018</td>\n",
              "      <td>Current</td>\n",
              "      <td>whole</td>\n",
              "      <td>Cash</td>\n",
              "      <td>21430.15</td>\n",
              "      <td>2324.65</td>\n",
              "      <td>1569.85</td>\n",
              "      <td>754.80</td>\n",
              "      <td>0.0</td>\n",
              "    </tr>\n",
              "    <tr>\n",
              "      <th>5</th>\n",
              "      <td>NaN</td>\n",
              "      <td>NaN</td>\n",
              "      <td>KY</td>\n",
              "      <td>OWN</td>\n",
              "      <td>34000.0</td>\n",
              "      <td>Not Verified</td>\n",
              "      <td>6.46</td>\n",
              "      <td>NaN</td>\n",
              "      <td>NaN</td>\n",
              "      <td>NaN</td>\n",
              "      <td>...</td>\n",
              "      <td>A3</td>\n",
              "      <td>Jan-2018</td>\n",
              "      <td>Current</td>\n",
              "      <td>whole</td>\n",
              "      <td>Cash</td>\n",
              "      <td>4256.71</td>\n",
              "      <td>873.13</td>\n",
              "      <td>743.29</td>\n",
              "      <td>129.84</td>\n",
              "      <td>0.0</td>\n",
              "    </tr>\n",
              "    <tr>\n",
              "      <th>6</th>\n",
              "      <td>hr</td>\n",
              "      <td>10.0</td>\n",
              "      <td>MI</td>\n",
              "      <td>MORTGAGE</td>\n",
              "      <td>35000.0</td>\n",
              "      <td>Source Verified</td>\n",
              "      <td>23.66</td>\n",
              "      <td>155000.0</td>\n",
              "      <td>Not Verified</td>\n",
              "      <td>13.12</td>\n",
              "      <td>...</td>\n",
              "      <td>C2</td>\n",
              "      <td>Jan-2018</td>\n",
              "      <td>Current</td>\n",
              "      <td>whole</td>\n",
              "      <td>Cash</td>\n",
              "      <td>22560.00</td>\n",
              "      <td>2730.51</td>\n",
              "      <td>1440.00</td>\n",
              "      <td>1290.51</td>\n",
              "      <td>0.0</td>\n",
              "    </tr>\n",
              "    <tr>\n",
              "      <th>7</th>\n",
              "      <td>police</td>\n",
              "      <td>10.0</td>\n",
              "      <td>AZ</td>\n",
              "      <td>MORTGAGE</td>\n",
              "      <td>110000.0</td>\n",
              "      <td>Source Verified</td>\n",
              "      <td>16.19</td>\n",
              "      <td>NaN</td>\n",
              "      <td>NaN</td>\n",
              "      <td>NaN</td>\n",
              "      <td>...</td>\n",
              "      <td>B5</td>\n",
              "      <td>Jan-2018</td>\n",
              "      <td>Current</td>\n",
              "      <td>whole</td>\n",
              "      <td>Cash</td>\n",
              "      <td>19005.39</td>\n",
              "      <td>1765.84</td>\n",
              "      <td>994.61</td>\n",
              "      <td>771.23</td>\n",
              "      <td>0.0</td>\n",
              "    </tr>\n",
              "    <tr>\n",
              "      <th>8</th>\n",
              "      <td>parts</td>\n",
              "      <td>10.0</td>\n",
              "      <td>NV</td>\n",
              "      <td>MORTGAGE</td>\n",
              "      <td>65000.0</td>\n",
              "      <td>Source Verified</td>\n",
              "      <td>36.48</td>\n",
              "      <td>NaN</td>\n",
              "      <td>NaN</td>\n",
              "      <td>NaN</td>\n",
              "      <td>...</td>\n",
              "      <td>C2</td>\n",
              "      <td>Feb-2018</td>\n",
              "      <td>Current</td>\n",
              "      <td>whole</td>\n",
              "      <td>Cash</td>\n",
              "      <td>18156.66</td>\n",
              "      <td>2703.22</td>\n",
              "      <td>1843.34</td>\n",
              "      <td>859.88</td>\n",
              "      <td>0.0</td>\n",
              "    </tr>\n",
              "    <tr>\n",
              "      <th>9</th>\n",
              "      <td>4th person</td>\n",
              "      <td>3.0</td>\n",
              "      <td>IL</td>\n",
              "      <td>RENT</td>\n",
              "      <td>30000.0</td>\n",
              "      <td>Not Verified</td>\n",
              "      <td>18.91</td>\n",
              "      <td>NaN</td>\n",
              "      <td>NaN</td>\n",
              "      <td>NaN</td>\n",
              "      <td>...</td>\n",
              "      <td>A3</td>\n",
              "      <td>Mar-2018</td>\n",
              "      <td>Current</td>\n",
              "      <td>fractional</td>\n",
              "      <td>Cash</td>\n",
              "      <td>6077.13</td>\n",
              "      <td>391.15</td>\n",
              "      <td>322.87</td>\n",
              "      <td>68.28</td>\n",
              "      <td>0.0</td>\n",
              "    </tr>\n",
              "  </tbody>\n",
              "</table>\n",
              "<p>10 rows × 55 columns</p>\n",
              "</div>\n",
              "    <div class=\"colab-df-buttons\">\n",
              "\n",
              "  <div class=\"colab-df-container\">\n",
              "    <button class=\"colab-df-convert\" onclick=\"convertToInteractive('df-4cc4c5ec-85f8-4f29-bb81-e3f93f0bd536')\"\n",
              "            title=\"Convert this dataframe to an interactive table.\"\n",
              "            style=\"display:none;\">\n",
              "\n",
              "  <svg xmlns=\"http://www.w3.org/2000/svg\" height=\"24px\" viewBox=\"0 -960 960 960\">\n",
              "    <path d=\"M120-120v-720h720v720H120Zm60-500h600v-160H180v160Zm220 220h160v-160H400v160Zm0 220h160v-160H400v160ZM180-400h160v-160H180v160Zm440 0h160v-160H620v160ZM180-180h160v-160H180v160Zm440 0h160v-160H620v160Z\"/>\n",
              "  </svg>\n",
              "    </button>\n",
              "\n",
              "  <style>\n",
              "    .colab-df-container {\n",
              "      display:flex;\n",
              "      gap: 12px;\n",
              "    }\n",
              "\n",
              "    .colab-df-convert {\n",
              "      background-color: #E8F0FE;\n",
              "      border: none;\n",
              "      border-radius: 50%;\n",
              "      cursor: pointer;\n",
              "      display: none;\n",
              "      fill: #1967D2;\n",
              "      height: 32px;\n",
              "      padding: 0 0 0 0;\n",
              "      width: 32px;\n",
              "    }\n",
              "\n",
              "    .colab-df-convert:hover {\n",
              "      background-color: #E2EBFA;\n",
              "      box-shadow: 0px 1px 2px rgba(60, 64, 67, 0.3), 0px 1px 3px 1px rgba(60, 64, 67, 0.15);\n",
              "      fill: #174EA6;\n",
              "    }\n",
              "\n",
              "    .colab-df-buttons div {\n",
              "      margin-bottom: 4px;\n",
              "    }\n",
              "\n",
              "    [theme=dark] .colab-df-convert {\n",
              "      background-color: #3B4455;\n",
              "      fill: #D2E3FC;\n",
              "    }\n",
              "\n",
              "    [theme=dark] .colab-df-convert:hover {\n",
              "      background-color: #434B5C;\n",
              "      box-shadow: 0px 1px 3px 1px rgba(0, 0, 0, 0.15);\n",
              "      filter: drop-shadow(0px 1px 2px rgba(0, 0, 0, 0.3));\n",
              "      fill: #FFFFFF;\n",
              "    }\n",
              "  </style>\n",
              "\n",
              "    <script>\n",
              "      const buttonEl =\n",
              "        document.querySelector('#df-4cc4c5ec-85f8-4f29-bb81-e3f93f0bd536 button.colab-df-convert');\n",
              "      buttonEl.style.display =\n",
              "        google.colab.kernel.accessAllowed ? 'block' : 'none';\n",
              "\n",
              "      async function convertToInteractive(key) {\n",
              "        const element = document.querySelector('#df-4cc4c5ec-85f8-4f29-bb81-e3f93f0bd536');\n",
              "        const dataTable =\n",
              "          await google.colab.kernel.invokeFunction('convertToInteractive',\n",
              "                                                    [key], {});\n",
              "        if (!dataTable) return;\n",
              "\n",
              "        const docLinkHtml = 'Like what you see? Visit the ' +\n",
              "          '<a target=\"_blank\" href=https://colab.research.google.com/notebooks/data_table.ipynb>data table notebook</a>'\n",
              "          + ' to learn more about interactive tables.';\n",
              "        element.innerHTML = '';\n",
              "        dataTable['output_type'] = 'display_data';\n",
              "        await google.colab.output.renderOutput(dataTable, element);\n",
              "        const docLink = document.createElement('div');\n",
              "        docLink.innerHTML = docLinkHtml;\n",
              "        element.appendChild(docLink);\n",
              "      }\n",
              "    </script>\n",
              "  </div>\n",
              "\n",
              "\n",
              "    <div id=\"df-1340381b-3b31-4dd0-bcc5-566dd2e57820\">\n",
              "      <button class=\"colab-df-quickchart\" onclick=\"quickchart('df-1340381b-3b31-4dd0-bcc5-566dd2e57820')\"\n",
              "                title=\"Suggest charts\"\n",
              "                style=\"display:none;\">\n",
              "\n",
              "<svg xmlns=\"http://www.w3.org/2000/svg\" height=\"24px\"viewBox=\"0 0 24 24\"\n",
              "     width=\"24px\">\n",
              "    <g>\n",
              "        <path d=\"M19 3H5c-1.1 0-2 .9-2 2v14c0 1.1.9 2 2 2h14c1.1 0 2-.9 2-2V5c0-1.1-.9-2-2-2zM9 17H7v-7h2v7zm4 0h-2V7h2v10zm4 0h-2v-4h2v4z\"/>\n",
              "    </g>\n",
              "</svg>\n",
              "      </button>\n",
              "\n",
              "<style>\n",
              "  .colab-df-quickchart {\n",
              "      --bg-color: #E8F0FE;\n",
              "      --fill-color: #1967D2;\n",
              "      --hover-bg-color: #E2EBFA;\n",
              "      --hover-fill-color: #174EA6;\n",
              "      --disabled-fill-color: #AAA;\n",
              "      --disabled-bg-color: #DDD;\n",
              "  }\n",
              "\n",
              "  [theme=dark] .colab-df-quickchart {\n",
              "      --bg-color: #3B4455;\n",
              "      --fill-color: #D2E3FC;\n",
              "      --hover-bg-color: #434B5C;\n",
              "      --hover-fill-color: #FFFFFF;\n",
              "      --disabled-bg-color: #3B4455;\n",
              "      --disabled-fill-color: #666;\n",
              "  }\n",
              "\n",
              "  .colab-df-quickchart {\n",
              "    background-color: var(--bg-color);\n",
              "    border: none;\n",
              "    border-radius: 50%;\n",
              "    cursor: pointer;\n",
              "    display: none;\n",
              "    fill: var(--fill-color);\n",
              "    height: 32px;\n",
              "    padding: 0;\n",
              "    width: 32px;\n",
              "  }\n",
              "\n",
              "  .colab-df-quickchart:hover {\n",
              "    background-color: var(--hover-bg-color);\n",
              "    box-shadow: 0 1px 2px rgba(60, 64, 67, 0.3), 0 1px 3px 1px rgba(60, 64, 67, 0.15);\n",
              "    fill: var(--button-hover-fill-color);\n",
              "  }\n",
              "\n",
              "  .colab-df-quickchart-complete:disabled,\n",
              "  .colab-df-quickchart-complete:disabled:hover {\n",
              "    background-color: var(--disabled-bg-color);\n",
              "    fill: var(--disabled-fill-color);\n",
              "    box-shadow: none;\n",
              "  }\n",
              "\n",
              "  .colab-df-spinner {\n",
              "    border: 2px solid var(--fill-color);\n",
              "    border-color: transparent;\n",
              "    border-bottom-color: var(--fill-color);\n",
              "    animation:\n",
              "      spin 1s steps(1) infinite;\n",
              "  }\n",
              "\n",
              "  @keyframes spin {\n",
              "    0% {\n",
              "      border-color: transparent;\n",
              "      border-bottom-color: var(--fill-color);\n",
              "      border-left-color: var(--fill-color);\n",
              "    }\n",
              "    20% {\n",
              "      border-color: transparent;\n",
              "      border-left-color: var(--fill-color);\n",
              "      border-top-color: var(--fill-color);\n",
              "    }\n",
              "    30% {\n",
              "      border-color: transparent;\n",
              "      border-left-color: var(--fill-color);\n",
              "      border-top-color: var(--fill-color);\n",
              "      border-right-color: var(--fill-color);\n",
              "    }\n",
              "    40% {\n",
              "      border-color: transparent;\n",
              "      border-right-color: var(--fill-color);\n",
              "      border-top-color: var(--fill-color);\n",
              "    }\n",
              "    60% {\n",
              "      border-color: transparent;\n",
              "      border-right-color: var(--fill-color);\n",
              "    }\n",
              "    80% {\n",
              "      border-color: transparent;\n",
              "      border-right-color: var(--fill-color);\n",
              "      border-bottom-color: var(--fill-color);\n",
              "    }\n",
              "    90% {\n",
              "      border-color: transparent;\n",
              "      border-bottom-color: var(--fill-color);\n",
              "    }\n",
              "  }\n",
              "</style>\n",
              "\n",
              "      <script>\n",
              "        async function quickchart(key) {\n",
              "          const quickchartButtonEl =\n",
              "            document.querySelector('#' + key + ' button');\n",
              "          quickchartButtonEl.disabled = true;  // To prevent multiple clicks.\n",
              "          quickchartButtonEl.classList.add('colab-df-spinner');\n",
              "          try {\n",
              "            const charts = await google.colab.kernel.invokeFunction(\n",
              "                'suggestCharts', [key], {});\n",
              "          } catch (error) {\n",
              "            console.error('Error during call to suggestCharts:', error);\n",
              "          }\n",
              "          quickchartButtonEl.classList.remove('colab-df-spinner');\n",
              "          quickchartButtonEl.classList.add('colab-df-quickchart-complete');\n",
              "        }\n",
              "        (() => {\n",
              "          let quickchartButtonEl =\n",
              "            document.querySelector('#df-1340381b-3b31-4dd0-bcc5-566dd2e57820 button');\n",
              "          quickchartButtonEl.style.display =\n",
              "            google.colab.kernel.accessAllowed ? 'block' : 'none';\n",
              "        })();\n",
              "      </script>\n",
              "    </div>\n",
              "\n",
              "    </div>\n",
              "  </div>\n"
            ],
            "application/vnd.google.colaboratory.intrinsic+json": {
              "type": "dataframe",
              "variable_name": "df"
            }
          },
          "metadata": {},
          "execution_count": 4
        }
      ]
    },
    {
      "cell_type": "code",
      "source": [
        "# Create a list of the 15 out of 55 columns to keep\n",
        "columns_to_keep = ['interest_rate', 'verified_income', 'debt_to_income',\n",
        "                   'total_credit_utilized', 'total_credit_limit',\n",
        "    'public_record_bankrupt', 'loan_purpose', 'term',\n",
        "    'inquiries_last_12m', 'issue_month', 'annual_income',\n",
        "    'loan_amount', 'grade', 'emp_length', 'homeownership'\n",
        "]"
      ],
      "metadata": {
        "id": "3DCiAsit-htb"
      },
      "execution_count": 5,
      "outputs": []
    },
    {
      "cell_type": "code",
      "source": [
        "# filter the dataset to keep the 15 columns only\n",
        "df_filtered = df[columns_to_keep]"
      ],
      "metadata": {
        "id": "KBcXAmViROD6"
      },
      "execution_count": 6,
      "outputs": []
    },
    {
      "cell_type": "code",
      "source": [
        "df_filtered"
      ],
      "metadata": {
        "colab": {
          "base_uri": "https://localhost:8080/",
          "height": 443
        },
        "id": "YIVowi4cTbMR",
        "outputId": "bd722985-0e7f-46e2-e473-8aa7751540ed"
      },
      "execution_count": 7,
      "outputs": [
        {
          "output_type": "execute_result",
          "data": {
            "text/plain": [
              "      interest_rate  verified_income  debt_to_income  total_credit_utilized  \\\n",
              "0             14.07         Verified           18.01                  38767   \n",
              "1             12.61     Not Verified            5.04                   4321   \n",
              "2             17.09  Source Verified           21.15                  16000   \n",
              "3              6.72     Not Verified           10.16                   4997   \n",
              "4             14.07         Verified           57.96                  52722   \n",
              "...             ...              ...             ...                    ...   \n",
              "9995           7.35  Source Verified           22.28                  77963   \n",
              "9996          19.03         Verified           32.38                 101571   \n",
              "9997          23.88         Verified           45.26                  95421   \n",
              "9998           5.32  Source Verified           11.99                  27641   \n",
              "9999          10.91     Not Verified           20.82                  53413   \n",
              "\n",
              "      total_credit_limit  public_record_bankrupt        loan_purpose  term  \\\n",
              "0                  70795                       0              moving    60   \n",
              "1                  28800                       1  debt_consolidation    36   \n",
              "2                  24193                       0               other    36   \n",
              "3                  25400                       0  debt_consolidation    36   \n",
              "4                  69839                       0         credit_card    36   \n",
              "...                  ...                     ...                 ...   ...   \n",
              "9995              199195                       1               other    36   \n",
              "9996              382061                       0  debt_consolidation    36   \n",
              "9997              346402                       0  debt_consolidation    36   \n",
              "9998              294475                       0               other    36   \n",
              "9999               91887                       0         credit_card    36   \n",
              "\n",
              "      inquiries_last_12m issue_month  annual_income  loan_amount grade  \\\n",
              "0                      6    Mar-2018        90000.0        28000     C   \n",
              "1                      1    Feb-2018        40000.0         5000     C   \n",
              "2                      4    Feb-2018        40000.0         2000     D   \n",
              "3                      0    Jan-2018        30000.0        21600     A   \n",
              "4                      7    Mar-2018        35000.0        23000     C   \n",
              "...                  ...         ...            ...          ...   ...   \n",
              "9995                   5    Jan-2018       108000.0        24000     A   \n",
              "9996                   1    Feb-2018       121000.0        10000     D   \n",
              "9997                   0    Feb-2018        67000.0        30000     E   \n",
              "9998                   1    Feb-2018        80000.0        24000     A   \n",
              "9999                   0    Feb-2018        66000.0        12800     B   \n",
              "\n",
              "      emp_length homeownership  \n",
              "0            3.0      MORTGAGE  \n",
              "1           10.0          RENT  \n",
              "2            3.0          RENT  \n",
              "3            1.0          RENT  \n",
              "4           10.0          RENT  \n",
              "...          ...           ...  \n",
              "9995        10.0          RENT  \n",
              "9996         8.0      MORTGAGE  \n",
              "9997        10.0      MORTGAGE  \n",
              "9998         1.0      MORTGAGE  \n",
              "9999         3.0          RENT  \n",
              "\n",
              "[10000 rows x 15 columns]"
            ],
            "text/html": [
              "\n",
              "  <div id=\"df-dae7d599-ccbe-469a-a062-25fc088f551c\" class=\"colab-df-container\">\n",
              "    <div>\n",
              "<style scoped>\n",
              "    .dataframe tbody tr th:only-of-type {\n",
              "        vertical-align: middle;\n",
              "    }\n",
              "\n",
              "    .dataframe tbody tr th {\n",
              "        vertical-align: top;\n",
              "    }\n",
              "\n",
              "    .dataframe thead th {\n",
              "        text-align: right;\n",
              "    }\n",
              "</style>\n",
              "<table border=\"1\" class=\"dataframe\">\n",
              "  <thead>\n",
              "    <tr style=\"text-align: right;\">\n",
              "      <th></th>\n",
              "      <th>interest_rate</th>\n",
              "      <th>verified_income</th>\n",
              "      <th>debt_to_income</th>\n",
              "      <th>total_credit_utilized</th>\n",
              "      <th>total_credit_limit</th>\n",
              "      <th>public_record_bankrupt</th>\n",
              "      <th>loan_purpose</th>\n",
              "      <th>term</th>\n",
              "      <th>inquiries_last_12m</th>\n",
              "      <th>issue_month</th>\n",
              "      <th>annual_income</th>\n",
              "      <th>loan_amount</th>\n",
              "      <th>grade</th>\n",
              "      <th>emp_length</th>\n",
              "      <th>homeownership</th>\n",
              "    </tr>\n",
              "  </thead>\n",
              "  <tbody>\n",
              "    <tr>\n",
              "      <th>0</th>\n",
              "      <td>14.07</td>\n",
              "      <td>Verified</td>\n",
              "      <td>18.01</td>\n",
              "      <td>38767</td>\n",
              "      <td>70795</td>\n",
              "      <td>0</td>\n",
              "      <td>moving</td>\n",
              "      <td>60</td>\n",
              "      <td>6</td>\n",
              "      <td>Mar-2018</td>\n",
              "      <td>90000.0</td>\n",
              "      <td>28000</td>\n",
              "      <td>C</td>\n",
              "      <td>3.0</td>\n",
              "      <td>MORTGAGE</td>\n",
              "    </tr>\n",
              "    <tr>\n",
              "      <th>1</th>\n",
              "      <td>12.61</td>\n",
              "      <td>Not Verified</td>\n",
              "      <td>5.04</td>\n",
              "      <td>4321</td>\n",
              "      <td>28800</td>\n",
              "      <td>1</td>\n",
              "      <td>debt_consolidation</td>\n",
              "      <td>36</td>\n",
              "      <td>1</td>\n",
              "      <td>Feb-2018</td>\n",
              "      <td>40000.0</td>\n",
              "      <td>5000</td>\n",
              "      <td>C</td>\n",
              "      <td>10.0</td>\n",
              "      <td>RENT</td>\n",
              "    </tr>\n",
              "    <tr>\n",
              "      <th>2</th>\n",
              "      <td>17.09</td>\n",
              "      <td>Source Verified</td>\n",
              "      <td>21.15</td>\n",
              "      <td>16000</td>\n",
              "      <td>24193</td>\n",
              "      <td>0</td>\n",
              "      <td>other</td>\n",
              "      <td>36</td>\n",
              "      <td>4</td>\n",
              "      <td>Feb-2018</td>\n",
              "      <td>40000.0</td>\n",
              "      <td>2000</td>\n",
              "      <td>D</td>\n",
              "      <td>3.0</td>\n",
              "      <td>RENT</td>\n",
              "    </tr>\n",
              "    <tr>\n",
              "      <th>3</th>\n",
              "      <td>6.72</td>\n",
              "      <td>Not Verified</td>\n",
              "      <td>10.16</td>\n",
              "      <td>4997</td>\n",
              "      <td>25400</td>\n",
              "      <td>0</td>\n",
              "      <td>debt_consolidation</td>\n",
              "      <td>36</td>\n",
              "      <td>0</td>\n",
              "      <td>Jan-2018</td>\n",
              "      <td>30000.0</td>\n",
              "      <td>21600</td>\n",
              "      <td>A</td>\n",
              "      <td>1.0</td>\n",
              "      <td>RENT</td>\n",
              "    </tr>\n",
              "    <tr>\n",
              "      <th>4</th>\n",
              "      <td>14.07</td>\n",
              "      <td>Verified</td>\n",
              "      <td>57.96</td>\n",
              "      <td>52722</td>\n",
              "      <td>69839</td>\n",
              "      <td>0</td>\n",
              "      <td>credit_card</td>\n",
              "      <td>36</td>\n",
              "      <td>7</td>\n",
              "      <td>Mar-2018</td>\n",
              "      <td>35000.0</td>\n",
              "      <td>23000</td>\n",
              "      <td>C</td>\n",
              "      <td>10.0</td>\n",
              "      <td>RENT</td>\n",
              "    </tr>\n",
              "    <tr>\n",
              "      <th>...</th>\n",
              "      <td>...</td>\n",
              "      <td>...</td>\n",
              "      <td>...</td>\n",
              "      <td>...</td>\n",
              "      <td>...</td>\n",
              "      <td>...</td>\n",
              "      <td>...</td>\n",
              "      <td>...</td>\n",
              "      <td>...</td>\n",
              "      <td>...</td>\n",
              "      <td>...</td>\n",
              "      <td>...</td>\n",
              "      <td>...</td>\n",
              "      <td>...</td>\n",
              "      <td>...</td>\n",
              "    </tr>\n",
              "    <tr>\n",
              "      <th>9995</th>\n",
              "      <td>7.35</td>\n",
              "      <td>Source Verified</td>\n",
              "      <td>22.28</td>\n",
              "      <td>77963</td>\n",
              "      <td>199195</td>\n",
              "      <td>1</td>\n",
              "      <td>other</td>\n",
              "      <td>36</td>\n",
              "      <td>5</td>\n",
              "      <td>Jan-2018</td>\n",
              "      <td>108000.0</td>\n",
              "      <td>24000</td>\n",
              "      <td>A</td>\n",
              "      <td>10.0</td>\n",
              "      <td>RENT</td>\n",
              "    </tr>\n",
              "    <tr>\n",
              "      <th>9996</th>\n",
              "      <td>19.03</td>\n",
              "      <td>Verified</td>\n",
              "      <td>32.38</td>\n",
              "      <td>101571</td>\n",
              "      <td>382061</td>\n",
              "      <td>0</td>\n",
              "      <td>debt_consolidation</td>\n",
              "      <td>36</td>\n",
              "      <td>1</td>\n",
              "      <td>Feb-2018</td>\n",
              "      <td>121000.0</td>\n",
              "      <td>10000</td>\n",
              "      <td>D</td>\n",
              "      <td>8.0</td>\n",
              "      <td>MORTGAGE</td>\n",
              "    </tr>\n",
              "    <tr>\n",
              "      <th>9997</th>\n",
              "      <td>23.88</td>\n",
              "      <td>Verified</td>\n",
              "      <td>45.26</td>\n",
              "      <td>95421</td>\n",
              "      <td>346402</td>\n",
              "      <td>0</td>\n",
              "      <td>debt_consolidation</td>\n",
              "      <td>36</td>\n",
              "      <td>0</td>\n",
              "      <td>Feb-2018</td>\n",
              "      <td>67000.0</td>\n",
              "      <td>30000</td>\n",
              "      <td>E</td>\n",
              "      <td>10.0</td>\n",
              "      <td>MORTGAGE</td>\n",
              "    </tr>\n",
              "    <tr>\n",
              "      <th>9998</th>\n",
              "      <td>5.32</td>\n",
              "      <td>Source Verified</td>\n",
              "      <td>11.99</td>\n",
              "      <td>27641</td>\n",
              "      <td>294475</td>\n",
              "      <td>0</td>\n",
              "      <td>other</td>\n",
              "      <td>36</td>\n",
              "      <td>1</td>\n",
              "      <td>Feb-2018</td>\n",
              "      <td>80000.0</td>\n",
              "      <td>24000</td>\n",
              "      <td>A</td>\n",
              "      <td>1.0</td>\n",
              "      <td>MORTGAGE</td>\n",
              "    </tr>\n",
              "    <tr>\n",
              "      <th>9999</th>\n",
              "      <td>10.91</td>\n",
              "      <td>Not Verified</td>\n",
              "      <td>20.82</td>\n",
              "      <td>53413</td>\n",
              "      <td>91887</td>\n",
              "      <td>0</td>\n",
              "      <td>credit_card</td>\n",
              "      <td>36</td>\n",
              "      <td>0</td>\n",
              "      <td>Feb-2018</td>\n",
              "      <td>66000.0</td>\n",
              "      <td>12800</td>\n",
              "      <td>B</td>\n",
              "      <td>3.0</td>\n",
              "      <td>RENT</td>\n",
              "    </tr>\n",
              "  </tbody>\n",
              "</table>\n",
              "<p>10000 rows × 15 columns</p>\n",
              "</div>\n",
              "    <div class=\"colab-df-buttons\">\n",
              "\n",
              "  <div class=\"colab-df-container\">\n",
              "    <button class=\"colab-df-convert\" onclick=\"convertToInteractive('df-dae7d599-ccbe-469a-a062-25fc088f551c')\"\n",
              "            title=\"Convert this dataframe to an interactive table.\"\n",
              "            style=\"display:none;\">\n",
              "\n",
              "  <svg xmlns=\"http://www.w3.org/2000/svg\" height=\"24px\" viewBox=\"0 -960 960 960\">\n",
              "    <path d=\"M120-120v-720h720v720H120Zm60-500h600v-160H180v160Zm220 220h160v-160H400v160Zm0 220h160v-160H400v160ZM180-400h160v-160H180v160Zm440 0h160v-160H620v160ZM180-180h160v-160H180v160Zm440 0h160v-160H620v160Z\"/>\n",
              "  </svg>\n",
              "    </button>\n",
              "\n",
              "  <style>\n",
              "    .colab-df-container {\n",
              "      display:flex;\n",
              "      gap: 12px;\n",
              "    }\n",
              "\n",
              "    .colab-df-convert {\n",
              "      background-color: #E8F0FE;\n",
              "      border: none;\n",
              "      border-radius: 50%;\n",
              "      cursor: pointer;\n",
              "      display: none;\n",
              "      fill: #1967D2;\n",
              "      height: 32px;\n",
              "      padding: 0 0 0 0;\n",
              "      width: 32px;\n",
              "    }\n",
              "\n",
              "    .colab-df-convert:hover {\n",
              "      background-color: #E2EBFA;\n",
              "      box-shadow: 0px 1px 2px rgba(60, 64, 67, 0.3), 0px 1px 3px 1px rgba(60, 64, 67, 0.15);\n",
              "      fill: #174EA6;\n",
              "    }\n",
              "\n",
              "    .colab-df-buttons div {\n",
              "      margin-bottom: 4px;\n",
              "    }\n",
              "\n",
              "    [theme=dark] .colab-df-convert {\n",
              "      background-color: #3B4455;\n",
              "      fill: #D2E3FC;\n",
              "    }\n",
              "\n",
              "    [theme=dark] .colab-df-convert:hover {\n",
              "      background-color: #434B5C;\n",
              "      box-shadow: 0px 1px 3px 1px rgba(0, 0, 0, 0.15);\n",
              "      filter: drop-shadow(0px 1px 2px rgba(0, 0, 0, 0.3));\n",
              "      fill: #FFFFFF;\n",
              "    }\n",
              "  </style>\n",
              "\n",
              "    <script>\n",
              "      const buttonEl =\n",
              "        document.querySelector('#df-dae7d599-ccbe-469a-a062-25fc088f551c button.colab-df-convert');\n",
              "      buttonEl.style.display =\n",
              "        google.colab.kernel.accessAllowed ? 'block' : 'none';\n",
              "\n",
              "      async function convertToInteractive(key) {\n",
              "        const element = document.querySelector('#df-dae7d599-ccbe-469a-a062-25fc088f551c');\n",
              "        const dataTable =\n",
              "          await google.colab.kernel.invokeFunction('convertToInteractive',\n",
              "                                                    [key], {});\n",
              "        if (!dataTable) return;\n",
              "\n",
              "        const docLinkHtml = 'Like what you see? Visit the ' +\n",
              "          '<a target=\"_blank\" href=https://colab.research.google.com/notebooks/data_table.ipynb>data table notebook</a>'\n",
              "          + ' to learn more about interactive tables.';\n",
              "        element.innerHTML = '';\n",
              "        dataTable['output_type'] = 'display_data';\n",
              "        await google.colab.output.renderOutput(dataTable, element);\n",
              "        const docLink = document.createElement('div');\n",
              "        docLink.innerHTML = docLinkHtml;\n",
              "        element.appendChild(docLink);\n",
              "      }\n",
              "    </script>\n",
              "  </div>\n",
              "\n",
              "\n",
              "    <div id=\"df-0d981472-4255-4b72-98b8-f42d6716d6bf\">\n",
              "      <button class=\"colab-df-quickchart\" onclick=\"quickchart('df-0d981472-4255-4b72-98b8-f42d6716d6bf')\"\n",
              "                title=\"Suggest charts\"\n",
              "                style=\"display:none;\">\n",
              "\n",
              "<svg xmlns=\"http://www.w3.org/2000/svg\" height=\"24px\"viewBox=\"0 0 24 24\"\n",
              "     width=\"24px\">\n",
              "    <g>\n",
              "        <path d=\"M19 3H5c-1.1 0-2 .9-2 2v14c0 1.1.9 2 2 2h14c1.1 0 2-.9 2-2V5c0-1.1-.9-2-2-2zM9 17H7v-7h2v7zm4 0h-2V7h2v10zm4 0h-2v-4h2v4z\"/>\n",
              "    </g>\n",
              "</svg>\n",
              "      </button>\n",
              "\n",
              "<style>\n",
              "  .colab-df-quickchart {\n",
              "      --bg-color: #E8F0FE;\n",
              "      --fill-color: #1967D2;\n",
              "      --hover-bg-color: #E2EBFA;\n",
              "      --hover-fill-color: #174EA6;\n",
              "      --disabled-fill-color: #AAA;\n",
              "      --disabled-bg-color: #DDD;\n",
              "  }\n",
              "\n",
              "  [theme=dark] .colab-df-quickchart {\n",
              "      --bg-color: #3B4455;\n",
              "      --fill-color: #D2E3FC;\n",
              "      --hover-bg-color: #434B5C;\n",
              "      --hover-fill-color: #FFFFFF;\n",
              "      --disabled-bg-color: #3B4455;\n",
              "      --disabled-fill-color: #666;\n",
              "  }\n",
              "\n",
              "  .colab-df-quickchart {\n",
              "    background-color: var(--bg-color);\n",
              "    border: none;\n",
              "    border-radius: 50%;\n",
              "    cursor: pointer;\n",
              "    display: none;\n",
              "    fill: var(--fill-color);\n",
              "    height: 32px;\n",
              "    padding: 0;\n",
              "    width: 32px;\n",
              "  }\n",
              "\n",
              "  .colab-df-quickchart:hover {\n",
              "    background-color: var(--hover-bg-color);\n",
              "    box-shadow: 0 1px 2px rgba(60, 64, 67, 0.3), 0 1px 3px 1px rgba(60, 64, 67, 0.15);\n",
              "    fill: var(--button-hover-fill-color);\n",
              "  }\n",
              "\n",
              "  .colab-df-quickchart-complete:disabled,\n",
              "  .colab-df-quickchart-complete:disabled:hover {\n",
              "    background-color: var(--disabled-bg-color);\n",
              "    fill: var(--disabled-fill-color);\n",
              "    box-shadow: none;\n",
              "  }\n",
              "\n",
              "  .colab-df-spinner {\n",
              "    border: 2px solid var(--fill-color);\n",
              "    border-color: transparent;\n",
              "    border-bottom-color: var(--fill-color);\n",
              "    animation:\n",
              "      spin 1s steps(1) infinite;\n",
              "  }\n",
              "\n",
              "  @keyframes spin {\n",
              "    0% {\n",
              "      border-color: transparent;\n",
              "      border-bottom-color: var(--fill-color);\n",
              "      border-left-color: var(--fill-color);\n",
              "    }\n",
              "    20% {\n",
              "      border-color: transparent;\n",
              "      border-left-color: var(--fill-color);\n",
              "      border-top-color: var(--fill-color);\n",
              "    }\n",
              "    30% {\n",
              "      border-color: transparent;\n",
              "      border-left-color: var(--fill-color);\n",
              "      border-top-color: var(--fill-color);\n",
              "      border-right-color: var(--fill-color);\n",
              "    }\n",
              "    40% {\n",
              "      border-color: transparent;\n",
              "      border-right-color: var(--fill-color);\n",
              "      border-top-color: var(--fill-color);\n",
              "    }\n",
              "    60% {\n",
              "      border-color: transparent;\n",
              "      border-right-color: var(--fill-color);\n",
              "    }\n",
              "    80% {\n",
              "      border-color: transparent;\n",
              "      border-right-color: var(--fill-color);\n",
              "      border-bottom-color: var(--fill-color);\n",
              "    }\n",
              "    90% {\n",
              "      border-color: transparent;\n",
              "      border-bottom-color: var(--fill-color);\n",
              "    }\n",
              "  }\n",
              "</style>\n",
              "\n",
              "      <script>\n",
              "        async function quickchart(key) {\n",
              "          const quickchartButtonEl =\n",
              "            document.querySelector('#' + key + ' button');\n",
              "          quickchartButtonEl.disabled = true;  // To prevent multiple clicks.\n",
              "          quickchartButtonEl.classList.add('colab-df-spinner');\n",
              "          try {\n",
              "            const charts = await google.colab.kernel.invokeFunction(\n",
              "                'suggestCharts', [key], {});\n",
              "          } catch (error) {\n",
              "            console.error('Error during call to suggestCharts:', error);\n",
              "          }\n",
              "          quickchartButtonEl.classList.remove('colab-df-spinner');\n",
              "          quickchartButtonEl.classList.add('colab-df-quickchart-complete');\n",
              "        }\n",
              "        (() => {\n",
              "          let quickchartButtonEl =\n",
              "            document.querySelector('#df-0d981472-4255-4b72-98b8-f42d6716d6bf button');\n",
              "          quickchartButtonEl.style.display =\n",
              "            google.colab.kernel.accessAllowed ? 'block' : 'none';\n",
              "        })();\n",
              "      </script>\n",
              "    </div>\n",
              "\n",
              "  <div id=\"id_462e5bd0-d3f9-4e20-a8b2-86431614287e\">\n",
              "    <style>\n",
              "      .colab-df-generate {\n",
              "        background-color: #E8F0FE;\n",
              "        border: none;\n",
              "        border-radius: 50%;\n",
              "        cursor: pointer;\n",
              "        display: none;\n",
              "        fill: #1967D2;\n",
              "        height: 32px;\n",
              "        padding: 0 0 0 0;\n",
              "        width: 32px;\n",
              "      }\n",
              "\n",
              "      .colab-df-generate:hover {\n",
              "        background-color: #E2EBFA;\n",
              "        box-shadow: 0px 1px 2px rgba(60, 64, 67, 0.3), 0px 1px 3px 1px rgba(60, 64, 67, 0.15);\n",
              "        fill: #174EA6;\n",
              "      }\n",
              "\n",
              "      [theme=dark] .colab-df-generate {\n",
              "        background-color: #3B4455;\n",
              "        fill: #D2E3FC;\n",
              "      }\n",
              "\n",
              "      [theme=dark] .colab-df-generate:hover {\n",
              "        background-color: #434B5C;\n",
              "        box-shadow: 0px 1px 3px 1px rgba(0, 0, 0, 0.15);\n",
              "        filter: drop-shadow(0px 1px 2px rgba(0, 0, 0, 0.3));\n",
              "        fill: #FFFFFF;\n",
              "      }\n",
              "    </style>\n",
              "    <button class=\"colab-df-generate\" onclick=\"generateWithVariable('df_filtered')\"\n",
              "            title=\"Generate code using this dataframe.\"\n",
              "            style=\"display:none;\">\n",
              "\n",
              "  <svg xmlns=\"http://www.w3.org/2000/svg\" height=\"24px\"viewBox=\"0 0 24 24\"\n",
              "       width=\"24px\">\n",
              "    <path d=\"M7,19H8.4L18.45,9,17,7.55,7,17.6ZM5,21V16.75L18.45,3.32a2,2,0,0,1,2.83,0l1.4,1.43a1.91,1.91,0,0,1,.58,1.4,1.91,1.91,0,0,1-.58,1.4L9.25,21ZM18.45,9,17,7.55Zm-12,3A5.31,5.31,0,0,0,4.9,8.1,5.31,5.31,0,0,0,1,6.5,5.31,5.31,0,0,0,4.9,4.9,5.31,5.31,0,0,0,6.5,1,5.31,5.31,0,0,0,8.1,4.9,5.31,5.31,0,0,0,12,6.5,5.46,5.46,0,0,0,6.5,12Z\"/>\n",
              "  </svg>\n",
              "    </button>\n",
              "    <script>\n",
              "      (() => {\n",
              "      const buttonEl =\n",
              "        document.querySelector('#id_462e5bd0-d3f9-4e20-a8b2-86431614287e button.colab-df-generate');\n",
              "      buttonEl.style.display =\n",
              "        google.colab.kernel.accessAllowed ? 'block' : 'none';\n",
              "\n",
              "      buttonEl.onclick = () => {\n",
              "        google.colab.notebook.generateWithVariable('df_filtered');\n",
              "      }\n",
              "      })();\n",
              "    </script>\n",
              "  </div>\n",
              "\n",
              "    </div>\n",
              "  </div>\n"
            ],
            "application/vnd.google.colaboratory.intrinsic+json": {
              "type": "dataframe",
              "variable_name": "df_filtered",
              "summary": "{\n  \"name\": \"df_filtered\",\n  \"rows\": 10000,\n  \"fields\": [\n    {\n      \"column\": \"interest_rate\",\n      \"properties\": {\n        \"dtype\": \"number\",\n        \"std\": 5.001104881366526,\n        \"min\": 5.31,\n        \"max\": 30.94,\n        \"num_unique_values\": 58,\n        \"samples\": [\n          14.07,\n          11.99,\n          10.91\n        ],\n        \"semantic_type\": \"\",\n        \"description\": \"\"\n      }\n    },\n    {\n      \"column\": \"verified_income\",\n      \"properties\": {\n        \"dtype\": \"category\",\n        \"num_unique_values\": 3,\n        \"samples\": [\n          \"Verified\",\n          \"Not Verified\",\n          \"Source Verified\"\n        ],\n        \"semantic_type\": \"\",\n        \"description\": \"\"\n      }\n    },\n    {\n      \"column\": \"debt_to_income\",\n      \"properties\": {\n        \"dtype\": \"number\",\n        \"std\": 15.004851306313055,\n        \"min\": 0.0,\n        \"max\": 469.09,\n        \"num_unique_values\": 3673,\n        \"samples\": [\n          20.95,\n          36.4,\n          5.66\n        ],\n        \"semantic_type\": \"\",\n        \"description\": \"\"\n      }\n    },\n    {\n      \"column\": \"total_credit_utilized\",\n      \"properties\": {\n        \"dtype\": \"number\",\n        \"std\": 53636,\n        \"min\": 0,\n        \"max\": 942456,\n        \"num_unique_values\": 9497,\n        \"samples\": [\n          180500,\n          15058,\n          17136\n        ],\n        \"semantic_type\": \"\",\n        \"description\": \"\"\n      }\n    },\n    {\n      \"column\": \"total_credit_limit\",\n      \"properties\": {\n        \"dtype\": \"number\",\n        \"std\": 187632,\n        \"min\": 0,\n        \"max\": 3386034,\n        \"num_unique_values\": 9119,\n        \"samples\": [\n          122598,\n          470538,\n          355333\n        ],\n        \"semantic_type\": \"\",\n        \"description\": \"\"\n      }\n    },\n    {\n      \"column\": \"public_record_bankrupt\",\n      \"properties\": {\n        \"dtype\": \"number\",\n        \"std\": 0,\n        \"min\": 0,\n        \"max\": 3,\n        \"num_unique_values\": 4,\n        \"samples\": [\n          1,\n          3,\n          0\n        ],\n        \"semantic_type\": \"\",\n        \"description\": \"\"\n      }\n    },\n    {\n      \"column\": \"loan_purpose\",\n      \"properties\": {\n        \"dtype\": \"category\",\n        \"num_unique_values\": 12,\n        \"samples\": [\n          \"vacation\",\n          \"major_purchase\",\n          \"moving\"\n        ],\n        \"semantic_type\": \"\",\n        \"description\": \"\"\n      }\n    },\n    {\n      \"column\": \"term\",\n      \"properties\": {\n        \"dtype\": \"number\",\n        \"std\": 11,\n        \"min\": 36,\n        \"max\": 60,\n        \"num_unique_values\": 2,\n        \"samples\": [\n          36,\n          60\n        ],\n        \"semantic_type\": \"\",\n        \"description\": \"\"\n      }\n    },\n    {\n      \"column\": \"inquiries_last_12m\",\n      \"properties\": {\n        \"dtype\": \"number\",\n        \"std\": 2,\n        \"min\": 0,\n        \"max\": 29,\n        \"num_unique_values\": 26,\n        \"samples\": [\n          5,\n          16\n        ],\n        \"semantic_type\": \"\",\n        \"description\": \"\"\n      }\n    },\n    {\n      \"column\": \"issue_month\",\n      \"properties\": {\n        \"dtype\": \"object\",\n        \"num_unique_values\": 3,\n        \"samples\": [\n          \"Mar-2018\",\n          \"Feb-2018\"\n        ],\n        \"semantic_type\": \"\",\n        \"description\": \"\"\n      }\n    },\n    {\n      \"column\": \"annual_income\",\n      \"properties\": {\n        \"dtype\": \"number\",\n        \"std\": 64734.290491764026,\n        \"min\": 0.0,\n        \"max\": 2300000.0,\n        \"num_unique_values\": 1463,\n        \"samples\": [\n          39362.0,\n          44500.0\n        ],\n        \"semantic_type\": \"\",\n        \"description\": \"\"\n      }\n    },\n    {\n      \"column\": \"loan_amount\",\n      \"properties\": {\n        \"dtype\": \"number\",\n        \"std\": 10301,\n        \"min\": 1000,\n        \"max\": 40000,\n        \"num_unique_values\": 612,\n        \"samples\": [\n          4000,\n          33750\n        ],\n        \"semantic_type\": \"\",\n        \"description\": \"\"\n      }\n    },\n    {\n      \"column\": \"grade\",\n      \"properties\": {\n        \"dtype\": \"category\",\n        \"num_unique_values\": 7,\n        \"samples\": [\n          \"C\",\n          \"D\"\n        ],\n        \"semantic_type\": \"\",\n        \"description\": \"\"\n      }\n    },\n    {\n      \"column\": \"emp_length\",\n      \"properties\": {\n        \"dtype\": \"number\",\n        \"std\": 3.7037336245930694,\n        \"min\": 0.0,\n        \"max\": 10.0,\n        \"num_unique_values\": 11,\n        \"samples\": [\n          7.0,\n          3.0\n        ],\n        \"semantic_type\": \"\",\n        \"description\": \"\"\n      }\n    },\n    {\n      \"column\": \"homeownership\",\n      \"properties\": {\n        \"dtype\": \"category\",\n        \"num_unique_values\": 3,\n        \"samples\": [\n          \"MORTGAGE\",\n          \"RENT\"\n        ],\n        \"semantic_type\": \"\",\n        \"description\": \"\"\n      }\n    }\n  ]\n}"
            }
          },
          "metadata": {},
          "execution_count": 7
        }
      ]
    },
    {
      "cell_type": "markdown",
      "source": [
        "(b) Rename the variable inquiries_last_12m to credit_checks"
      ],
      "metadata": {
        "id": "Svm67946NH6q"
      }
    },
    {
      "cell_type": "code",
      "source": [
        "df_cleaned = df_filtered.rename(columns={\"inquiries_last_12m\":\"credit_checks\"})"
      ],
      "metadata": {
        "id": "FxO6gOABTyna"
      },
      "execution_count": 8,
      "outputs": []
    },
    {
      "cell_type": "code",
      "source": [
        "# check the columns' names after the rename\n",
        "print(df_cleaned.columns)"
      ],
      "metadata": {
        "colab": {
          "base_uri": "https://localhost:8080/"
        },
        "id": "yxTwW-pQUvAk",
        "outputId": "f80fce1f-19de-48a4-a5bc-8b14c8bd4f66"
      },
      "execution_count": 9,
      "outputs": [
        {
          "output_type": "stream",
          "name": "stdout",
          "text": [
            "Index(['interest_rate', 'verified_income', 'debt_to_income',\n",
            "       'total_credit_utilized', 'total_credit_limit', 'public_record_bankrupt',\n",
            "       'loan_purpose', 'term', 'credit_checks', 'issue_month', 'annual_income',\n",
            "       'loan_amount', 'grade', 'emp_length', 'homeownership'],\n",
            "      dtype='object')\n"
          ]
        }
      ]
    },
    {
      "cell_type": "code",
      "source": [
        "df_cleaned.describe()"
      ],
      "metadata": {
        "colab": {
          "base_uri": "https://localhost:8080/",
          "height": 320
        },
        "id": "rVtjh4KRh05E",
        "outputId": "358ab4e3-a24d-466e-c78e-c07fc00197ef"
      },
      "execution_count": 10,
      "outputs": [
        {
          "output_type": "execute_result",
          "data": {
            "text/plain": [
              "       interest_rate  debt_to_income  total_credit_utilized  \\\n",
              "count   10000.000000     9976.000000           10000.000000   \n",
              "mean       12.427524       19.308192           51049.063100   \n",
              "std         5.001105       15.004851           53636.731172   \n",
              "min         5.310000        0.000000               0.000000   \n",
              "25%         9.430000       11.057500           19185.500000   \n",
              "50%        11.980000       17.570000           36927.000000   \n",
              "75%        15.050000       25.002500           65421.000000   \n",
              "max        30.940000      469.090000          942456.000000   \n",
              "\n",
              "       total_credit_limit  public_record_bankrupt          term  \\\n",
              "count        1.000000e+04            10000.000000  10000.000000   \n",
              "mean         1.836062e+05                0.123800     43.272000   \n",
              "std          1.876327e+05                0.337172     11.029877   \n",
              "min          0.000000e+00                0.000000     36.000000   \n",
              "25%          5.159375e+04                0.000000     36.000000   \n",
              "50%          1.146670e+05                0.000000     36.000000   \n",
              "75%          2.675500e+05                0.000000     60.000000   \n",
              "max          3.386034e+06                3.000000     60.000000   \n",
              "\n",
              "       credit_checks  annual_income   loan_amount   emp_length  \n",
              "count    10000.00000   1.000000e+04  10000.000000  9183.000000  \n",
              "mean         1.95820   7.922215e+04  16361.922500     5.930306  \n",
              "std          2.38013   6.473429e+04  10301.956759     3.703734  \n",
              "min          0.00000   0.000000e+00   1000.000000     0.000000  \n",
              "25%          0.00000   4.500000e+04   8000.000000     2.000000  \n",
              "50%          1.00000   6.500000e+04  14500.000000     6.000000  \n",
              "75%          3.00000   9.500000e+04  24000.000000    10.000000  \n",
              "max         29.00000   2.300000e+06  40000.000000    10.000000  "
            ],
            "text/html": [
              "\n",
              "  <div id=\"df-1d8b9dc5-cd41-487b-802b-8a784a80d6c1\" class=\"colab-df-container\">\n",
              "    <div>\n",
              "<style scoped>\n",
              "    .dataframe tbody tr th:only-of-type {\n",
              "        vertical-align: middle;\n",
              "    }\n",
              "\n",
              "    .dataframe tbody tr th {\n",
              "        vertical-align: top;\n",
              "    }\n",
              "\n",
              "    .dataframe thead th {\n",
              "        text-align: right;\n",
              "    }\n",
              "</style>\n",
              "<table border=\"1\" class=\"dataframe\">\n",
              "  <thead>\n",
              "    <tr style=\"text-align: right;\">\n",
              "      <th></th>\n",
              "      <th>interest_rate</th>\n",
              "      <th>debt_to_income</th>\n",
              "      <th>total_credit_utilized</th>\n",
              "      <th>total_credit_limit</th>\n",
              "      <th>public_record_bankrupt</th>\n",
              "      <th>term</th>\n",
              "      <th>credit_checks</th>\n",
              "      <th>annual_income</th>\n",
              "      <th>loan_amount</th>\n",
              "      <th>emp_length</th>\n",
              "    </tr>\n",
              "  </thead>\n",
              "  <tbody>\n",
              "    <tr>\n",
              "      <th>count</th>\n",
              "      <td>10000.000000</td>\n",
              "      <td>9976.000000</td>\n",
              "      <td>10000.000000</td>\n",
              "      <td>1.000000e+04</td>\n",
              "      <td>10000.000000</td>\n",
              "      <td>10000.000000</td>\n",
              "      <td>10000.00000</td>\n",
              "      <td>1.000000e+04</td>\n",
              "      <td>10000.000000</td>\n",
              "      <td>9183.000000</td>\n",
              "    </tr>\n",
              "    <tr>\n",
              "      <th>mean</th>\n",
              "      <td>12.427524</td>\n",
              "      <td>19.308192</td>\n",
              "      <td>51049.063100</td>\n",
              "      <td>1.836062e+05</td>\n",
              "      <td>0.123800</td>\n",
              "      <td>43.272000</td>\n",
              "      <td>1.95820</td>\n",
              "      <td>7.922215e+04</td>\n",
              "      <td>16361.922500</td>\n",
              "      <td>5.930306</td>\n",
              "    </tr>\n",
              "    <tr>\n",
              "      <th>std</th>\n",
              "      <td>5.001105</td>\n",
              "      <td>15.004851</td>\n",
              "      <td>53636.731172</td>\n",
              "      <td>1.876327e+05</td>\n",
              "      <td>0.337172</td>\n",
              "      <td>11.029877</td>\n",
              "      <td>2.38013</td>\n",
              "      <td>6.473429e+04</td>\n",
              "      <td>10301.956759</td>\n",
              "      <td>3.703734</td>\n",
              "    </tr>\n",
              "    <tr>\n",
              "      <th>min</th>\n",
              "      <td>5.310000</td>\n",
              "      <td>0.000000</td>\n",
              "      <td>0.000000</td>\n",
              "      <td>0.000000e+00</td>\n",
              "      <td>0.000000</td>\n",
              "      <td>36.000000</td>\n",
              "      <td>0.00000</td>\n",
              "      <td>0.000000e+00</td>\n",
              "      <td>1000.000000</td>\n",
              "      <td>0.000000</td>\n",
              "    </tr>\n",
              "    <tr>\n",
              "      <th>25%</th>\n",
              "      <td>9.430000</td>\n",
              "      <td>11.057500</td>\n",
              "      <td>19185.500000</td>\n",
              "      <td>5.159375e+04</td>\n",
              "      <td>0.000000</td>\n",
              "      <td>36.000000</td>\n",
              "      <td>0.00000</td>\n",
              "      <td>4.500000e+04</td>\n",
              "      <td>8000.000000</td>\n",
              "      <td>2.000000</td>\n",
              "    </tr>\n",
              "    <tr>\n",
              "      <th>50%</th>\n",
              "      <td>11.980000</td>\n",
              "      <td>17.570000</td>\n",
              "      <td>36927.000000</td>\n",
              "      <td>1.146670e+05</td>\n",
              "      <td>0.000000</td>\n",
              "      <td>36.000000</td>\n",
              "      <td>1.00000</td>\n",
              "      <td>6.500000e+04</td>\n",
              "      <td>14500.000000</td>\n",
              "      <td>6.000000</td>\n",
              "    </tr>\n",
              "    <tr>\n",
              "      <th>75%</th>\n",
              "      <td>15.050000</td>\n",
              "      <td>25.002500</td>\n",
              "      <td>65421.000000</td>\n",
              "      <td>2.675500e+05</td>\n",
              "      <td>0.000000</td>\n",
              "      <td>60.000000</td>\n",
              "      <td>3.00000</td>\n",
              "      <td>9.500000e+04</td>\n",
              "      <td>24000.000000</td>\n",
              "      <td>10.000000</td>\n",
              "    </tr>\n",
              "    <tr>\n",
              "      <th>max</th>\n",
              "      <td>30.940000</td>\n",
              "      <td>469.090000</td>\n",
              "      <td>942456.000000</td>\n",
              "      <td>3.386034e+06</td>\n",
              "      <td>3.000000</td>\n",
              "      <td>60.000000</td>\n",
              "      <td>29.00000</td>\n",
              "      <td>2.300000e+06</td>\n",
              "      <td>40000.000000</td>\n",
              "      <td>10.000000</td>\n",
              "    </tr>\n",
              "  </tbody>\n",
              "</table>\n",
              "</div>\n",
              "    <div class=\"colab-df-buttons\">\n",
              "\n",
              "  <div class=\"colab-df-container\">\n",
              "    <button class=\"colab-df-convert\" onclick=\"convertToInteractive('df-1d8b9dc5-cd41-487b-802b-8a784a80d6c1')\"\n",
              "            title=\"Convert this dataframe to an interactive table.\"\n",
              "            style=\"display:none;\">\n",
              "\n",
              "  <svg xmlns=\"http://www.w3.org/2000/svg\" height=\"24px\" viewBox=\"0 -960 960 960\">\n",
              "    <path d=\"M120-120v-720h720v720H120Zm60-500h600v-160H180v160Zm220 220h160v-160H400v160Zm0 220h160v-160H400v160ZM180-400h160v-160H180v160Zm440 0h160v-160H620v160ZM180-180h160v-160H180v160Zm440 0h160v-160H620v160Z\"/>\n",
              "  </svg>\n",
              "    </button>\n",
              "\n",
              "  <style>\n",
              "    .colab-df-container {\n",
              "      display:flex;\n",
              "      gap: 12px;\n",
              "    }\n",
              "\n",
              "    .colab-df-convert {\n",
              "      background-color: #E8F0FE;\n",
              "      border: none;\n",
              "      border-radius: 50%;\n",
              "      cursor: pointer;\n",
              "      display: none;\n",
              "      fill: #1967D2;\n",
              "      height: 32px;\n",
              "      padding: 0 0 0 0;\n",
              "      width: 32px;\n",
              "    }\n",
              "\n",
              "    .colab-df-convert:hover {\n",
              "      background-color: #E2EBFA;\n",
              "      box-shadow: 0px 1px 2px rgba(60, 64, 67, 0.3), 0px 1px 3px 1px rgba(60, 64, 67, 0.15);\n",
              "      fill: #174EA6;\n",
              "    }\n",
              "\n",
              "    .colab-df-buttons div {\n",
              "      margin-bottom: 4px;\n",
              "    }\n",
              "\n",
              "    [theme=dark] .colab-df-convert {\n",
              "      background-color: #3B4455;\n",
              "      fill: #D2E3FC;\n",
              "    }\n",
              "\n",
              "    [theme=dark] .colab-df-convert:hover {\n",
              "      background-color: #434B5C;\n",
              "      box-shadow: 0px 1px 3px 1px rgba(0, 0, 0, 0.15);\n",
              "      filter: drop-shadow(0px 1px 2px rgba(0, 0, 0, 0.3));\n",
              "      fill: #FFFFFF;\n",
              "    }\n",
              "  </style>\n",
              "\n",
              "    <script>\n",
              "      const buttonEl =\n",
              "        document.querySelector('#df-1d8b9dc5-cd41-487b-802b-8a784a80d6c1 button.colab-df-convert');\n",
              "      buttonEl.style.display =\n",
              "        google.colab.kernel.accessAllowed ? 'block' : 'none';\n",
              "\n",
              "      async function convertToInteractive(key) {\n",
              "        const element = document.querySelector('#df-1d8b9dc5-cd41-487b-802b-8a784a80d6c1');\n",
              "        const dataTable =\n",
              "          await google.colab.kernel.invokeFunction('convertToInteractive',\n",
              "                                                    [key], {});\n",
              "        if (!dataTable) return;\n",
              "\n",
              "        const docLinkHtml = 'Like what you see? Visit the ' +\n",
              "          '<a target=\"_blank\" href=https://colab.research.google.com/notebooks/data_table.ipynb>data table notebook</a>'\n",
              "          + ' to learn more about interactive tables.';\n",
              "        element.innerHTML = '';\n",
              "        dataTable['output_type'] = 'display_data';\n",
              "        await google.colab.output.renderOutput(dataTable, element);\n",
              "        const docLink = document.createElement('div');\n",
              "        docLink.innerHTML = docLinkHtml;\n",
              "        element.appendChild(docLink);\n",
              "      }\n",
              "    </script>\n",
              "  </div>\n",
              "\n",
              "\n",
              "    <div id=\"df-1541306c-c177-4857-803e-5f584618e97a\">\n",
              "      <button class=\"colab-df-quickchart\" onclick=\"quickchart('df-1541306c-c177-4857-803e-5f584618e97a')\"\n",
              "                title=\"Suggest charts\"\n",
              "                style=\"display:none;\">\n",
              "\n",
              "<svg xmlns=\"http://www.w3.org/2000/svg\" height=\"24px\"viewBox=\"0 0 24 24\"\n",
              "     width=\"24px\">\n",
              "    <g>\n",
              "        <path d=\"M19 3H5c-1.1 0-2 .9-2 2v14c0 1.1.9 2 2 2h14c1.1 0 2-.9 2-2V5c0-1.1-.9-2-2-2zM9 17H7v-7h2v7zm4 0h-2V7h2v10zm4 0h-2v-4h2v4z\"/>\n",
              "    </g>\n",
              "</svg>\n",
              "      </button>\n",
              "\n",
              "<style>\n",
              "  .colab-df-quickchart {\n",
              "      --bg-color: #E8F0FE;\n",
              "      --fill-color: #1967D2;\n",
              "      --hover-bg-color: #E2EBFA;\n",
              "      --hover-fill-color: #174EA6;\n",
              "      --disabled-fill-color: #AAA;\n",
              "      --disabled-bg-color: #DDD;\n",
              "  }\n",
              "\n",
              "  [theme=dark] .colab-df-quickchart {\n",
              "      --bg-color: #3B4455;\n",
              "      --fill-color: #D2E3FC;\n",
              "      --hover-bg-color: #434B5C;\n",
              "      --hover-fill-color: #FFFFFF;\n",
              "      --disabled-bg-color: #3B4455;\n",
              "      --disabled-fill-color: #666;\n",
              "  }\n",
              "\n",
              "  .colab-df-quickchart {\n",
              "    background-color: var(--bg-color);\n",
              "    border: none;\n",
              "    border-radius: 50%;\n",
              "    cursor: pointer;\n",
              "    display: none;\n",
              "    fill: var(--fill-color);\n",
              "    height: 32px;\n",
              "    padding: 0;\n",
              "    width: 32px;\n",
              "  }\n",
              "\n",
              "  .colab-df-quickchart:hover {\n",
              "    background-color: var(--hover-bg-color);\n",
              "    box-shadow: 0 1px 2px rgba(60, 64, 67, 0.3), 0 1px 3px 1px rgba(60, 64, 67, 0.15);\n",
              "    fill: var(--button-hover-fill-color);\n",
              "  }\n",
              "\n",
              "  .colab-df-quickchart-complete:disabled,\n",
              "  .colab-df-quickchart-complete:disabled:hover {\n",
              "    background-color: var(--disabled-bg-color);\n",
              "    fill: var(--disabled-fill-color);\n",
              "    box-shadow: none;\n",
              "  }\n",
              "\n",
              "  .colab-df-spinner {\n",
              "    border: 2px solid var(--fill-color);\n",
              "    border-color: transparent;\n",
              "    border-bottom-color: var(--fill-color);\n",
              "    animation:\n",
              "      spin 1s steps(1) infinite;\n",
              "  }\n",
              "\n",
              "  @keyframes spin {\n",
              "    0% {\n",
              "      border-color: transparent;\n",
              "      border-bottom-color: var(--fill-color);\n",
              "      border-left-color: var(--fill-color);\n",
              "    }\n",
              "    20% {\n",
              "      border-color: transparent;\n",
              "      border-left-color: var(--fill-color);\n",
              "      border-top-color: var(--fill-color);\n",
              "    }\n",
              "    30% {\n",
              "      border-color: transparent;\n",
              "      border-left-color: var(--fill-color);\n",
              "      border-top-color: var(--fill-color);\n",
              "      border-right-color: var(--fill-color);\n",
              "    }\n",
              "    40% {\n",
              "      border-color: transparent;\n",
              "      border-right-color: var(--fill-color);\n",
              "      border-top-color: var(--fill-color);\n",
              "    }\n",
              "    60% {\n",
              "      border-color: transparent;\n",
              "      border-right-color: var(--fill-color);\n",
              "    }\n",
              "    80% {\n",
              "      border-color: transparent;\n",
              "      border-right-color: var(--fill-color);\n",
              "      border-bottom-color: var(--fill-color);\n",
              "    }\n",
              "    90% {\n",
              "      border-color: transparent;\n",
              "      border-bottom-color: var(--fill-color);\n",
              "    }\n",
              "  }\n",
              "</style>\n",
              "\n",
              "      <script>\n",
              "        async function quickchart(key) {\n",
              "          const quickchartButtonEl =\n",
              "            document.querySelector('#' + key + ' button');\n",
              "          quickchartButtonEl.disabled = true;  // To prevent multiple clicks.\n",
              "          quickchartButtonEl.classList.add('colab-df-spinner');\n",
              "          try {\n",
              "            const charts = await google.colab.kernel.invokeFunction(\n",
              "                'suggestCharts', [key], {});\n",
              "          } catch (error) {\n",
              "            console.error('Error during call to suggestCharts:', error);\n",
              "          }\n",
              "          quickchartButtonEl.classList.remove('colab-df-spinner');\n",
              "          quickchartButtonEl.classList.add('colab-df-quickchart-complete');\n",
              "        }\n",
              "        (() => {\n",
              "          let quickchartButtonEl =\n",
              "            document.querySelector('#df-1541306c-c177-4857-803e-5f584618e97a button');\n",
              "          quickchartButtonEl.style.display =\n",
              "            google.colab.kernel.accessAllowed ? 'block' : 'none';\n",
              "        })();\n",
              "      </script>\n",
              "    </div>\n",
              "\n",
              "    </div>\n",
              "  </div>\n"
            ],
            "application/vnd.google.colaboratory.intrinsic+json": {
              "type": "dataframe",
              "summary": "{\n  \"name\": \"df_cleaned\",\n  \"rows\": 8,\n  \"fields\": [\n    {\n      \"column\": \"interest_rate\",\n      \"properties\": {\n        \"dtype\": \"number\",\n        \"std\": 3530.9905871976193,\n        \"min\": 5.001104881366526,\n        \"max\": 10000.0,\n        \"num_unique_values\": 8,\n        \"samples\": [\n          12.427524,\n          11.98,\n          10000.0\n        ],\n        \"semantic_type\": \"\",\n        \"description\": \"\"\n      }\n    },\n    {\n      \"column\": \"debt_to_income\",\n      \"properties\": {\n        \"dtype\": \"number\",\n        \"std\": 3502.533314670008,\n        \"min\": 0.0,\n        \"max\": 9976.0,\n        \"num_unique_values\": 8,\n        \"samples\": [\n          19.30819165998396,\n          17.57,\n          9976.0\n        ],\n        \"semantic_type\": \"\",\n        \"description\": \"\"\n      }\n    },\n    {\n      \"column\": \"total_credit_utilized\",\n      \"properties\": {\n        \"dtype\": \"number\",\n        \"std\": 322082.1502404345,\n        \"min\": 0.0,\n        \"max\": 942456.0,\n        \"num_unique_values\": 8,\n        \"samples\": [\n          51049.0631,\n          36927.0,\n          10000.0\n        ],\n        \"semantic_type\": \"\",\n        \"description\": \"\"\n      }\n    },\n    {\n      \"column\": \"total_credit_limit\",\n      \"properties\": {\n        \"dtype\": \"number\",\n        \"std\": 1159772.0803841627,\n        \"min\": 0.0,\n        \"max\": 3386034.0,\n        \"num_unique_values\": 8,\n        \"samples\": [\n          183606.2304,\n          114667.0,\n          10000.0\n        ],\n        \"semantic_type\": \"\",\n        \"description\": \"\"\n      }\n    },\n    {\n      \"column\": \"public_record_bankrupt\",\n      \"properties\": {\n        \"dtype\": \"number\",\n        \"std\": 3535.3592503213345,\n        \"min\": 0.0,\n        \"max\": 10000.0,\n        \"num_unique_values\": 5,\n        \"samples\": [\n          0.1238,\n          3.0,\n          0.33717195686007057\n        ],\n        \"semantic_type\": \"\",\n        \"description\": \"\"\n      }\n    },\n    {\n      \"column\": \"term\",\n      \"properties\": {\n        \"dtype\": \"number\",\n        \"std\": 3521.3099356125863,\n        \"min\": 11.029876781640894,\n        \"max\": 10000.0,\n        \"num_unique_values\": 5,\n        \"samples\": [\n          43.272,\n          60.0,\n          11.029876781640894\n        ],\n        \"semantic_type\": \"\",\n        \"description\": \"\"\n      }\n    },\n    {\n      \"column\": \"credit_checks\",\n      \"properties\": {\n        \"dtype\": \"number\",\n        \"std\": 3533.6614035681587,\n        \"min\": 0.0,\n        \"max\": 10000.0,\n        \"num_unique_values\": 7,\n        \"samples\": [\n          10000.0,\n          1.9582,\n          3.0\n        ],\n        \"semantic_type\": \"\",\n        \"description\": \"\"\n      }\n    },\n    {\n      \"column\": \"annual_income\",\n      \"properties\": {\n        \"dtype\": \"number\",\n        \"std\": 795710.4201517042,\n        \"min\": 0.0,\n        \"max\": 2300000.0,\n        \"num_unique_values\": 8,\n        \"samples\": [\n          79222.148412,\n          65000.0,\n          10000.0\n        ],\n        \"semantic_type\": \"\",\n        \"description\": \"\"\n      }\n    },\n    {\n      \"column\": \"loan_amount\",\n      \"properties\": {\n        \"dtype\": \"number\",\n        \"std\": 11940.382901706602,\n        \"min\": 1000.0,\n        \"max\": 40000.0,\n        \"num_unique_values\": 8,\n        \"samples\": [\n          16361.9225,\n          14500.0,\n          10000.0\n        ],\n        \"semantic_type\": \"\",\n        \"description\": \"\"\n      }\n    },\n    {\n      \"column\": \"emp_length\",\n      \"properties\": {\n        \"dtype\": \"number\",\n        \"std\": 3244.781885132454,\n        \"min\": 0.0,\n        \"max\": 9183.0,\n        \"num_unique_values\": 7,\n        \"samples\": [\n          9183.0,\n          5.930306000217794,\n          6.0\n        ],\n        \"semantic_type\": \"\",\n        \"description\": \"\"\n      }\n    }\n  ]\n}"
            }
          },
          "metadata": {},
          "execution_count": 10
        }
      ]
    },
    {
      "cell_type": "code",
      "source": [
        "df_cleaned.describe().round(2).T"
      ],
      "metadata": {
        "colab": {
          "base_uri": "https://localhost:8080/",
          "height": 363
        },
        "id": "I1945EGVvFun",
        "outputId": "5b3a0859-328b-456a-bc56-796dbf345890"
      },
      "execution_count": 11,
      "outputs": [
        {
          "output_type": "execute_result",
          "data": {
            "text/plain": [
              "                          count       mean        std      min       25%  \\\n",
              "interest_rate           10000.0      12.43       5.00     5.31      9.43   \n",
              "debt_to_income           9976.0      19.31      15.00     0.00     11.06   \n",
              "total_credit_utilized   10000.0   51049.06   53636.73     0.00  19185.50   \n",
              "total_credit_limit      10000.0  183606.23  187632.71     0.00  51593.75   \n",
              "public_record_bankrupt  10000.0       0.12       0.34     0.00      0.00   \n",
              "term                    10000.0      43.27      11.03    36.00     36.00   \n",
              "credit_checks           10000.0       1.96       2.38     0.00      0.00   \n",
              "annual_income           10000.0   79222.15   64734.29     0.00  45000.00   \n",
              "loan_amount             10000.0   16361.92   10301.96  1000.00   8000.00   \n",
              "emp_length               9183.0       5.93       3.70     0.00      2.00   \n",
              "\n",
              "                              50%        75%         max  \n",
              "interest_rate               11.98      15.05       30.94  \n",
              "debt_to_income              17.57      25.00      469.09  \n",
              "total_credit_utilized    36927.00   65421.00   942456.00  \n",
              "total_credit_limit      114667.00  267550.00  3386034.00  \n",
              "public_record_bankrupt       0.00       0.00        3.00  \n",
              "term                        36.00      60.00       60.00  \n",
              "credit_checks                1.00       3.00       29.00  \n",
              "annual_income            65000.00   95000.00  2300000.00  \n",
              "loan_amount              14500.00   24000.00    40000.00  \n",
              "emp_length                   6.00      10.00       10.00  "
            ],
            "text/html": [
              "\n",
              "  <div id=\"df-2865acff-1fd7-48f1-9143-c61e61ad8b01\" class=\"colab-df-container\">\n",
              "    <div>\n",
              "<style scoped>\n",
              "    .dataframe tbody tr th:only-of-type {\n",
              "        vertical-align: middle;\n",
              "    }\n",
              "\n",
              "    .dataframe tbody tr th {\n",
              "        vertical-align: top;\n",
              "    }\n",
              "\n",
              "    .dataframe thead th {\n",
              "        text-align: right;\n",
              "    }\n",
              "</style>\n",
              "<table border=\"1\" class=\"dataframe\">\n",
              "  <thead>\n",
              "    <tr style=\"text-align: right;\">\n",
              "      <th></th>\n",
              "      <th>count</th>\n",
              "      <th>mean</th>\n",
              "      <th>std</th>\n",
              "      <th>min</th>\n",
              "      <th>25%</th>\n",
              "      <th>50%</th>\n",
              "      <th>75%</th>\n",
              "      <th>max</th>\n",
              "    </tr>\n",
              "  </thead>\n",
              "  <tbody>\n",
              "    <tr>\n",
              "      <th>interest_rate</th>\n",
              "      <td>10000.0</td>\n",
              "      <td>12.43</td>\n",
              "      <td>5.00</td>\n",
              "      <td>5.31</td>\n",
              "      <td>9.43</td>\n",
              "      <td>11.98</td>\n",
              "      <td>15.05</td>\n",
              "      <td>30.94</td>\n",
              "    </tr>\n",
              "    <tr>\n",
              "      <th>debt_to_income</th>\n",
              "      <td>9976.0</td>\n",
              "      <td>19.31</td>\n",
              "      <td>15.00</td>\n",
              "      <td>0.00</td>\n",
              "      <td>11.06</td>\n",
              "      <td>17.57</td>\n",
              "      <td>25.00</td>\n",
              "      <td>469.09</td>\n",
              "    </tr>\n",
              "    <tr>\n",
              "      <th>total_credit_utilized</th>\n",
              "      <td>10000.0</td>\n",
              "      <td>51049.06</td>\n",
              "      <td>53636.73</td>\n",
              "      <td>0.00</td>\n",
              "      <td>19185.50</td>\n",
              "      <td>36927.00</td>\n",
              "      <td>65421.00</td>\n",
              "      <td>942456.00</td>\n",
              "    </tr>\n",
              "    <tr>\n",
              "      <th>total_credit_limit</th>\n",
              "      <td>10000.0</td>\n",
              "      <td>183606.23</td>\n",
              "      <td>187632.71</td>\n",
              "      <td>0.00</td>\n",
              "      <td>51593.75</td>\n",
              "      <td>114667.00</td>\n",
              "      <td>267550.00</td>\n",
              "      <td>3386034.00</td>\n",
              "    </tr>\n",
              "    <tr>\n",
              "      <th>public_record_bankrupt</th>\n",
              "      <td>10000.0</td>\n",
              "      <td>0.12</td>\n",
              "      <td>0.34</td>\n",
              "      <td>0.00</td>\n",
              "      <td>0.00</td>\n",
              "      <td>0.00</td>\n",
              "      <td>0.00</td>\n",
              "      <td>3.00</td>\n",
              "    </tr>\n",
              "    <tr>\n",
              "      <th>term</th>\n",
              "      <td>10000.0</td>\n",
              "      <td>43.27</td>\n",
              "      <td>11.03</td>\n",
              "      <td>36.00</td>\n",
              "      <td>36.00</td>\n",
              "      <td>36.00</td>\n",
              "      <td>60.00</td>\n",
              "      <td>60.00</td>\n",
              "    </tr>\n",
              "    <tr>\n",
              "      <th>credit_checks</th>\n",
              "      <td>10000.0</td>\n",
              "      <td>1.96</td>\n",
              "      <td>2.38</td>\n",
              "      <td>0.00</td>\n",
              "      <td>0.00</td>\n",
              "      <td>1.00</td>\n",
              "      <td>3.00</td>\n",
              "      <td>29.00</td>\n",
              "    </tr>\n",
              "    <tr>\n",
              "      <th>annual_income</th>\n",
              "      <td>10000.0</td>\n",
              "      <td>79222.15</td>\n",
              "      <td>64734.29</td>\n",
              "      <td>0.00</td>\n",
              "      <td>45000.00</td>\n",
              "      <td>65000.00</td>\n",
              "      <td>95000.00</td>\n",
              "      <td>2300000.00</td>\n",
              "    </tr>\n",
              "    <tr>\n",
              "      <th>loan_amount</th>\n",
              "      <td>10000.0</td>\n",
              "      <td>16361.92</td>\n",
              "      <td>10301.96</td>\n",
              "      <td>1000.00</td>\n",
              "      <td>8000.00</td>\n",
              "      <td>14500.00</td>\n",
              "      <td>24000.00</td>\n",
              "      <td>40000.00</td>\n",
              "    </tr>\n",
              "    <tr>\n",
              "      <th>emp_length</th>\n",
              "      <td>9183.0</td>\n",
              "      <td>5.93</td>\n",
              "      <td>3.70</td>\n",
              "      <td>0.00</td>\n",
              "      <td>2.00</td>\n",
              "      <td>6.00</td>\n",
              "      <td>10.00</td>\n",
              "      <td>10.00</td>\n",
              "    </tr>\n",
              "  </tbody>\n",
              "</table>\n",
              "</div>\n",
              "    <div class=\"colab-df-buttons\">\n",
              "\n",
              "  <div class=\"colab-df-container\">\n",
              "    <button class=\"colab-df-convert\" onclick=\"convertToInteractive('df-2865acff-1fd7-48f1-9143-c61e61ad8b01')\"\n",
              "            title=\"Convert this dataframe to an interactive table.\"\n",
              "            style=\"display:none;\">\n",
              "\n",
              "  <svg xmlns=\"http://www.w3.org/2000/svg\" height=\"24px\" viewBox=\"0 -960 960 960\">\n",
              "    <path d=\"M120-120v-720h720v720H120Zm60-500h600v-160H180v160Zm220 220h160v-160H400v160Zm0 220h160v-160H400v160ZM180-400h160v-160H180v160Zm440 0h160v-160H620v160ZM180-180h160v-160H180v160Zm440 0h160v-160H620v160Z\"/>\n",
              "  </svg>\n",
              "    </button>\n",
              "\n",
              "  <style>\n",
              "    .colab-df-container {\n",
              "      display:flex;\n",
              "      gap: 12px;\n",
              "    }\n",
              "\n",
              "    .colab-df-convert {\n",
              "      background-color: #E8F0FE;\n",
              "      border: none;\n",
              "      border-radius: 50%;\n",
              "      cursor: pointer;\n",
              "      display: none;\n",
              "      fill: #1967D2;\n",
              "      height: 32px;\n",
              "      padding: 0 0 0 0;\n",
              "      width: 32px;\n",
              "    }\n",
              "\n",
              "    .colab-df-convert:hover {\n",
              "      background-color: #E2EBFA;\n",
              "      box-shadow: 0px 1px 2px rgba(60, 64, 67, 0.3), 0px 1px 3px 1px rgba(60, 64, 67, 0.15);\n",
              "      fill: #174EA6;\n",
              "    }\n",
              "\n",
              "    .colab-df-buttons div {\n",
              "      margin-bottom: 4px;\n",
              "    }\n",
              "\n",
              "    [theme=dark] .colab-df-convert {\n",
              "      background-color: #3B4455;\n",
              "      fill: #D2E3FC;\n",
              "    }\n",
              "\n",
              "    [theme=dark] .colab-df-convert:hover {\n",
              "      background-color: #434B5C;\n",
              "      box-shadow: 0px 1px 3px 1px rgba(0, 0, 0, 0.15);\n",
              "      filter: drop-shadow(0px 1px 2px rgba(0, 0, 0, 0.3));\n",
              "      fill: #FFFFFF;\n",
              "    }\n",
              "  </style>\n",
              "\n",
              "    <script>\n",
              "      const buttonEl =\n",
              "        document.querySelector('#df-2865acff-1fd7-48f1-9143-c61e61ad8b01 button.colab-df-convert');\n",
              "      buttonEl.style.display =\n",
              "        google.colab.kernel.accessAllowed ? 'block' : 'none';\n",
              "\n",
              "      async function convertToInteractive(key) {\n",
              "        const element = document.querySelector('#df-2865acff-1fd7-48f1-9143-c61e61ad8b01');\n",
              "        const dataTable =\n",
              "          await google.colab.kernel.invokeFunction('convertToInteractive',\n",
              "                                                    [key], {});\n",
              "        if (!dataTable) return;\n",
              "\n",
              "        const docLinkHtml = 'Like what you see? Visit the ' +\n",
              "          '<a target=\"_blank\" href=https://colab.research.google.com/notebooks/data_table.ipynb>data table notebook</a>'\n",
              "          + ' to learn more about interactive tables.';\n",
              "        element.innerHTML = '';\n",
              "        dataTable['output_type'] = 'display_data';\n",
              "        await google.colab.output.renderOutput(dataTable, element);\n",
              "        const docLink = document.createElement('div');\n",
              "        docLink.innerHTML = docLinkHtml;\n",
              "        element.appendChild(docLink);\n",
              "      }\n",
              "    </script>\n",
              "  </div>\n",
              "\n",
              "\n",
              "    <div id=\"df-73b1cbcf-b84a-46bb-b68c-dad3c40f8795\">\n",
              "      <button class=\"colab-df-quickchart\" onclick=\"quickchart('df-73b1cbcf-b84a-46bb-b68c-dad3c40f8795')\"\n",
              "                title=\"Suggest charts\"\n",
              "                style=\"display:none;\">\n",
              "\n",
              "<svg xmlns=\"http://www.w3.org/2000/svg\" height=\"24px\"viewBox=\"0 0 24 24\"\n",
              "     width=\"24px\">\n",
              "    <g>\n",
              "        <path d=\"M19 3H5c-1.1 0-2 .9-2 2v14c0 1.1.9 2 2 2h14c1.1 0 2-.9 2-2V5c0-1.1-.9-2-2-2zM9 17H7v-7h2v7zm4 0h-2V7h2v10zm4 0h-2v-4h2v4z\"/>\n",
              "    </g>\n",
              "</svg>\n",
              "      </button>\n",
              "\n",
              "<style>\n",
              "  .colab-df-quickchart {\n",
              "      --bg-color: #E8F0FE;\n",
              "      --fill-color: #1967D2;\n",
              "      --hover-bg-color: #E2EBFA;\n",
              "      --hover-fill-color: #174EA6;\n",
              "      --disabled-fill-color: #AAA;\n",
              "      --disabled-bg-color: #DDD;\n",
              "  }\n",
              "\n",
              "  [theme=dark] .colab-df-quickchart {\n",
              "      --bg-color: #3B4455;\n",
              "      --fill-color: #D2E3FC;\n",
              "      --hover-bg-color: #434B5C;\n",
              "      --hover-fill-color: #FFFFFF;\n",
              "      --disabled-bg-color: #3B4455;\n",
              "      --disabled-fill-color: #666;\n",
              "  }\n",
              "\n",
              "  .colab-df-quickchart {\n",
              "    background-color: var(--bg-color);\n",
              "    border: none;\n",
              "    border-radius: 50%;\n",
              "    cursor: pointer;\n",
              "    display: none;\n",
              "    fill: var(--fill-color);\n",
              "    height: 32px;\n",
              "    padding: 0;\n",
              "    width: 32px;\n",
              "  }\n",
              "\n",
              "  .colab-df-quickchart:hover {\n",
              "    background-color: var(--hover-bg-color);\n",
              "    box-shadow: 0 1px 2px rgba(60, 64, 67, 0.3), 0 1px 3px 1px rgba(60, 64, 67, 0.15);\n",
              "    fill: var(--button-hover-fill-color);\n",
              "  }\n",
              "\n",
              "  .colab-df-quickchart-complete:disabled,\n",
              "  .colab-df-quickchart-complete:disabled:hover {\n",
              "    background-color: var(--disabled-bg-color);\n",
              "    fill: var(--disabled-fill-color);\n",
              "    box-shadow: none;\n",
              "  }\n",
              "\n",
              "  .colab-df-spinner {\n",
              "    border: 2px solid var(--fill-color);\n",
              "    border-color: transparent;\n",
              "    border-bottom-color: var(--fill-color);\n",
              "    animation:\n",
              "      spin 1s steps(1) infinite;\n",
              "  }\n",
              "\n",
              "  @keyframes spin {\n",
              "    0% {\n",
              "      border-color: transparent;\n",
              "      border-bottom-color: var(--fill-color);\n",
              "      border-left-color: var(--fill-color);\n",
              "    }\n",
              "    20% {\n",
              "      border-color: transparent;\n",
              "      border-left-color: var(--fill-color);\n",
              "      border-top-color: var(--fill-color);\n",
              "    }\n",
              "    30% {\n",
              "      border-color: transparent;\n",
              "      border-left-color: var(--fill-color);\n",
              "      border-top-color: var(--fill-color);\n",
              "      border-right-color: var(--fill-color);\n",
              "    }\n",
              "    40% {\n",
              "      border-color: transparent;\n",
              "      border-right-color: var(--fill-color);\n",
              "      border-top-color: var(--fill-color);\n",
              "    }\n",
              "    60% {\n",
              "      border-color: transparent;\n",
              "      border-right-color: var(--fill-color);\n",
              "    }\n",
              "    80% {\n",
              "      border-color: transparent;\n",
              "      border-right-color: var(--fill-color);\n",
              "      border-bottom-color: var(--fill-color);\n",
              "    }\n",
              "    90% {\n",
              "      border-color: transparent;\n",
              "      border-bottom-color: var(--fill-color);\n",
              "    }\n",
              "  }\n",
              "</style>\n",
              "\n",
              "      <script>\n",
              "        async function quickchart(key) {\n",
              "          const quickchartButtonEl =\n",
              "            document.querySelector('#' + key + ' button');\n",
              "          quickchartButtonEl.disabled = true;  // To prevent multiple clicks.\n",
              "          quickchartButtonEl.classList.add('colab-df-spinner');\n",
              "          try {\n",
              "            const charts = await google.colab.kernel.invokeFunction(\n",
              "                'suggestCharts', [key], {});\n",
              "          } catch (error) {\n",
              "            console.error('Error during call to suggestCharts:', error);\n",
              "          }\n",
              "          quickchartButtonEl.classList.remove('colab-df-spinner');\n",
              "          quickchartButtonEl.classList.add('colab-df-quickchart-complete');\n",
              "        }\n",
              "        (() => {\n",
              "          let quickchartButtonEl =\n",
              "            document.querySelector('#df-73b1cbcf-b84a-46bb-b68c-dad3c40f8795 button');\n",
              "          quickchartButtonEl.style.display =\n",
              "            google.colab.kernel.accessAllowed ? 'block' : 'none';\n",
              "        })();\n",
              "      </script>\n",
              "    </div>\n",
              "\n",
              "    </div>\n",
              "  </div>\n"
            ],
            "application/vnd.google.colaboratory.intrinsic+json": {
              "type": "dataframe",
              "summary": "{\n  \"name\": \"df_cleaned\",\n  \"rows\": 10,\n  \"fields\": [\n    {\n      \"column\": \"count\",\n      \"properties\": {\n        \"dtype\": \"number\",\n        \"std\": 257.62524462223547,\n        \"min\": 9183.0,\n        \"max\": 10000.0,\n        \"num_unique_values\": 3,\n        \"samples\": [\n          10000.0,\n          9976.0,\n          9183.0\n        ],\n        \"semantic_type\": \"\",\n        \"description\": \"\"\n      }\n    },\n    {\n      \"column\": \"mean\",\n      \"properties\": {\n        \"dtype\": \"number\",\n        \"std\": 59581.71854615004,\n        \"min\": 0.12,\n        \"max\": 183606.23,\n        \"num_unique_values\": 10,\n        \"samples\": [\n          16361.92,\n          19.31,\n          43.27\n        ],\n        \"semantic_type\": \"\",\n        \"description\": \"\"\n      }\n    },\n    {\n      \"column\": \"std\",\n      \"properties\": {\n        \"dtype\": \"number\",\n        \"std\": 59974.34036255064,\n        \"min\": 0.34,\n        \"max\": 187632.71,\n        \"num_unique_values\": 10,\n        \"samples\": [\n          10301.96,\n          15.0,\n          11.03\n        ],\n        \"semantic_type\": \"\",\n        \"description\": \"\"\n      }\n    },\n    {\n      \"column\": \"min\",\n      \"properties\": {\n        \"dtype\": \"number\",\n        \"std\": 314.9764619935909,\n        \"min\": 0.0,\n        \"max\": 1000.0,\n        \"num_unique_values\": 4,\n        \"samples\": [\n          0.0,\n          1000.0,\n          5.31\n        ],\n        \"semantic_type\": \"\",\n        \"description\": \"\"\n      }\n    },\n    {\n      \"column\": \"25%\",\n      \"properties\": {\n        \"dtype\": \"number\",\n        \"std\": 19959.462739736147,\n        \"min\": 0.0,\n        \"max\": 51593.75,\n        \"num_unique_values\": 9,\n        \"samples\": [\n          8000.0,\n          11.06,\n          36.0\n        ],\n        \"semantic_type\": \"\",\n        \"description\": \"\"\n      }\n    },\n    {\n      \"column\": \"50%\",\n      \"properties\": {\n        \"dtype\": \"number\",\n        \"std\": 38878.126697176034,\n        \"min\": 0.0,\n        \"max\": 114667.0,\n        \"num_unique_values\": 10,\n        \"samples\": [\n          14500.0,\n          17.57,\n          36.0\n        ],\n        \"semantic_type\": \"\",\n        \"description\": \"\"\n      }\n    },\n    {\n      \"column\": \"75%\",\n      \"properties\": {\n        \"dtype\": \"number\",\n        \"std\": 85000.5983476079,\n        \"min\": 0.0,\n        \"max\": 267550.0,\n        \"num_unique_values\": 10,\n        \"samples\": [\n          24000.0,\n          25.0,\n          60.0\n        ],\n        \"semantic_type\": \"\",\n        \"description\": \"\"\n      }\n    },\n    {\n      \"column\": \"max\",\n      \"properties\": {\n        \"dtype\": \"number\",\n        \"std\": 1210939.5312999168,\n        \"min\": 3.0,\n        \"max\": 3386034.0,\n        \"num_unique_values\": 10,\n        \"samples\": [\n          40000.0,\n          469.09,\n          60.0\n        ],\n        \"semantic_type\": \"\",\n        \"description\": \"\"\n      }\n    }\n  ]\n}"
            }
          },
          "metadata": {},
          "execution_count": 11
        }
      ]
    },
    {
      "cell_type": "code",
      "source": [
        "import pandas as pd\n",
        "\n",
        "summary_stats = df_cleaned.describe().round(2) # round to 2 decimal places\n",
        "# Format all numbers with comma as thousand separator\n",
        "summary_stats_formatted = summary_stats.applymap(lambda x: f\"{x:,.2f}\")\n",
        "summary_stats.to_csv(\"summary_statistics.csv\")  #save as CSV"
      ],
      "metadata": {
        "id": "G6E_G6oiqbDz",
        "colab": {
          "base_uri": "https://localhost:8080/"
        },
        "outputId": "59ae78e5-0606-44c5-eda0-9de859a946a9"
      },
      "execution_count": 12,
      "outputs": [
        {
          "output_type": "stream",
          "name": "stderr",
          "text": [
            "<ipython-input-12-356ba6e68734>:5: FutureWarning: DataFrame.applymap has been deprecated. Use DataFrame.map instead.\n",
            "  summary_stats_formatted = summary_stats.applymap(lambda x: f\"{x:,.2f}\")\n"
          ]
        }
      ]
    },
    {
      "cell_type": "markdown",
      "source": [],
      "metadata": {
        "id": "q74AIWyANfq-"
      }
    },
    {
      "cell_type": "code",
      "source": [
        "# before cleaning, use df.shape to get the number of row, which is the number of\n",
        "# observations\n",
        "# df.shape returns a tuple like (rows, columns)\n",
        "print(\"before cleaning:\", df.shape[0], \"observations\")"
      ],
      "metadata": {
        "colab": {
          "base_uri": "https://localhost:8080/"
        },
        "id": "bAMVEjndae1A",
        "outputId": "71a2c146-8d50-4967-df15-c214f5cf1f67"
      },
      "execution_count": 13,
      "outputs": [
        {
          "output_type": "stream",
          "name": "stdout",
          "text": [
            "before cleaning: 10000 observations\n"
          ]
        }
      ]
    },
    {
      "cell_type": "code",
      "source": [
        "# Return the number of observations after dropping NaN\n",
        "print(\"after cleaning:\", df_cleaned.shape[0], \"observations\")"
      ],
      "metadata": {
        "colab": {
          "base_uri": "https://localhost:8080/"
        },
        "id": "0Qp7WQu5ebb8",
        "outputId": "f27a9ed5-1722-4fc8-d80c-6759cfe64fda"
      },
      "execution_count": 14,
      "outputs": [
        {
          "output_type": "stream",
          "name": "stdout",
          "text": [
            "after cleaning: 10000 observations\n"
          ]
        }
      ]
    },
    {
      "cell_type": "markdown",
      "source": [
        "Part B: Exploratory Data Analysis (EDA)\n",
        "\n",
        "2.1 Descriptive Statistics\n",
        "Report the results neatly in a table\n",
        "\n",
        "(a) Calculate mean, median, standard deviation, minimum, and maximum for:\n",
        "\n",
        "• interest rate\n",
        "\n",
        "• annual income\n",
        "\n",
        "• debt to income\n",
        "\n",
        "• loan amount"
      ],
      "metadata": {
        "id": "KhqUywHAUdqB"
      }
    },
    {
      "cell_type": "code",
      "source": [
        "# filter the selected column to describe\n",
        "columns_to_describe = [\"interest_rate\",\"annual_income\",\"debt_to_income\",\"loan_amount\"]\n",
        "# filter the statistics required for the summary\n",
        "summary2 = pd.DataFrame({\"Mean\": df_cleaned[columns_to_describe].mean(),\n",
        "                        \"Median\":df_cleaned[columns_to_describe].median(),\n",
        "                        \"Std Dev\":df_cleaned[columns_to_describe].std(),\n",
        "                        \"Min\":df_cleaned[columns_to_describe].min(),\n",
        "                        \"Max\":df_cleaned[columns_to_describe].max()\n",
        "                        })\n",
        "# round numbers for neatness\n",
        "summary2 = summary2.round(2)\n",
        "print(summary2)"
      ],
      "metadata": {
        "colab": {
          "base_uri": "https://localhost:8080/"
        },
        "id": "QZdVGsfGYDqc",
        "outputId": "337da803-c6d1-43ba-c3fa-ea1f41c65b09"
      },
      "execution_count": 15,
      "outputs": [
        {
          "output_type": "stream",
          "name": "stdout",
          "text": [
            "                    Mean    Median   Std Dev      Min         Max\n",
            "interest_rate      12.43     11.98      5.00     5.31       30.94\n",
            "annual_income   79222.15  65000.00  64734.29     0.00  2300000.00\n",
            "debt_to_income     19.31     17.57     15.00     0.00      469.09\n",
            "loan_amount     16361.92  14500.00  10301.96  1000.00    40000.00\n"
          ]
        }
      ]
    },
    {
      "cell_type": "code",
      "source": [
        "# save as CSV\n",
        "summary2.to_csv(\"summary2.csv\")"
      ],
      "metadata": {
        "id": "8Eeca_y2xvQn"
      },
      "execution_count": 16,
      "outputs": []
    },
    {
      "cell_type": "markdown",
      "source": [
        "(b) Count unique values and frequencies for:\n",
        "\n",
        "• grade\n",
        "\n",
        "• verified income\n",
        "\n",
        "• homeownership"
      ],
      "metadata": {
        "id": "qHS5p19-RjHR"
      }
    },
    {
      "cell_type": "code",
      "source": [
        "# Use the method unique to count the unique values for \"grade\"\n",
        "grade_unique_values=df_cleaned[\"grade\"].unique()\n",
        "print(\"Grade unique values: \\n\", grade_unique_values)"
      ],
      "metadata": {
        "colab": {
          "base_uri": "https://localhost:8080/"
        },
        "id": "-UPgQ06eD6ke",
        "outputId": "3c45f5f5-048a-4df8-bcd3-f3db1c199216"
      },
      "execution_count": 17,
      "outputs": [
        {
          "output_type": "stream",
          "name": "stdout",
          "text": [
            "Grade unique values: \n",
            " ['C' 'D' 'A' 'B' 'F' 'E' 'G']\n"
          ]
        }
      ]
    },
    {
      "cell_type": "code",
      "source": [
        "# Use the built-in function to put the unique values in the alphabetical order\n",
        "sorted_grade_unique_values = sorted(grade_unique_values)\n",
        "print(\"Sorted grade unique value\", sorted_grade_unique_values)"
      ],
      "metadata": {
        "colab": {
          "base_uri": "https://localhost:8080/"
        },
        "id": "IKodmvQdFL_m",
        "outputId": "972b0fc1-9580-4b7d-daca-b8f4192c7714"
      },
      "execution_count": 18,
      "outputs": [
        {
          "output_type": "stream",
          "name": "stdout",
          "text": [
            "Sorted grade unique value ['A', 'B', 'C', 'D', 'E', 'F', 'G']\n"
          ]
        }
      ]
    },
    {
      "cell_type": "code",
      "source": [
        "# use the method value_counts to count frequencies for \"grade\"\n",
        "grade_frequencies=df_cleaned[\"grade\"].value_counts()\n",
        "print(\"Grade counts: \\n\", grade_frequencies)"
      ],
      "metadata": {
        "colab": {
          "base_uri": "https://localhost:8080/"
        },
        "id": "FRJTybmLqRkC",
        "outputId": "e320d3c5-cd5a-4277-cf17-2c7b189f9eae"
      },
      "execution_count": 19,
      "outputs": [
        {
          "output_type": "stream",
          "name": "stdout",
          "text": [
            "Grade counts: \n",
            " grade\n",
            "B    3037\n",
            "C    2653\n",
            "A    2459\n",
            "D    1446\n",
            "E     335\n",
            "F      58\n",
            "G      12\n",
            "Name: count, dtype: int64\n"
          ]
        }
      ]
    },
    {
      "cell_type": "code",
      "source": [
        "total_count_grade = grade_frequencies.sum()\n",
        "print(\"Total count of grade:\", total_count_grade)"
      ],
      "metadata": {
        "colab": {
          "base_uri": "https://localhost:8080/"
        },
        "id": "Iv4EI8a0HP5g",
        "outputId": "2ee533c8-e3d9-49cc-d0e2-a6ac61c5ab60"
      },
      "execution_count": 20,
      "outputs": [
        {
          "output_type": "stream",
          "name": "stdout",
          "text": [
            "Total count of grade: 10000\n"
          ]
        }
      ]
    },
    {
      "cell_type": "code",
      "source": [
        "# Count frequencies of grade\n",
        "grade_frequencies = df_cleaned[\"grade\"].value_counts()\n",
        "\n",
        "# Sort alphabetically by index (the grade names)\n",
        "grade_frequencies_sorted = grade_frequencies.sort_index()\n",
        "\n",
        "# Turn into a table (DataFrame)\n",
        "grade_table = grade_frequencies_sorted.to_frame(name=\"Frequency\")\n",
        "\n",
        "# Add a 'Total' row\n",
        "grade_table.loc[\"Total Count\"] = grade_table[\"Frequency\"].sum()\n",
        "\n",
        "# Display the table\n",
        "print(grade_table)"
      ],
      "metadata": {
        "colab": {
          "base_uri": "https://localhost:8080/"
        },
        "id": "J5hz9FoR3Y5D",
        "outputId": "235ed4dc-ecd4-463c-95ff-57e798e11a65"
      },
      "execution_count": 21,
      "outputs": [
        {
          "output_type": "stream",
          "name": "stdout",
          "text": [
            "             Frequency\n",
            "grade                 \n",
            "A                 2459\n",
            "B                 3037\n",
            "C                 2653\n",
            "D                 1446\n",
            "E                  335\n",
            "F                   58\n",
            "G                   12\n",
            "Total Count      10000\n"
          ]
        }
      ]
    },
    {
      "cell_type": "code",
      "source": [
        "grade_table.to_csv(\"grade_table.csv\")"
      ],
      "metadata": {
        "id": "R_XKRSUH3wr8"
      },
      "execution_count": 22,
      "outputs": []
    },
    {
      "cell_type": "code",
      "source": [
        "# Use the method unique to count the unique values for \"verified_income\"\n",
        "verified_income_u_values=df_cleaned['verified_income'].unique()\n",
        "print(\"Verified income unique values\", verified_income_u_values)"
      ],
      "metadata": {
        "colab": {
          "base_uri": "https://localhost:8080/"
        },
        "id": "2YZ0C52bRuuk",
        "outputId": "4c8e6e75-eeb0-4a46-c6a4-ed60dc59424c"
      },
      "execution_count": 23,
      "outputs": [
        {
          "output_type": "stream",
          "name": "stdout",
          "text": [
            "Verified income unique values ['Verified' 'Not Verified' 'Source Verified']\n"
          ]
        }
      ]
    },
    {
      "cell_type": "code",
      "source": [
        "# Use the method value_counts to count the frequencies for \"verified_income\"\n",
        "verified_income_frequencies = df_cleaned['verified_income'].value_counts()\n",
        "\n",
        "# Convert to a DataFrame for easier manipulation\n",
        "verified_income_table = verified_income_frequencies.to_frame(name=\"Frequency\")\n",
        "\n",
        "# Add a 'Total' row\n",
        "verified_income_table.loc[\"Total Count\"] = verified_income_table[\"Frequency\"].sum()\n",
        "\n",
        "# Print the result\n",
        "print(\"Verified income frequencies:\\n\", verified_income_table)"
      ],
      "metadata": {
        "colab": {
          "base_uri": "https://localhost:8080/"
        },
        "id": "VSUbt19uTOMQ",
        "outputId": "e8b300b4-54b1-40b2-eb39-6a0e3c0b60ae"
      },
      "execution_count": 24,
      "outputs": [
        {
          "output_type": "stream",
          "name": "stdout",
          "text": [
            "Verified income frequencies:\n",
            "                  Frequency\n",
            "verified_income           \n",
            "Source Verified       4116\n",
            "Not Verified          3594\n",
            "Verified              2290\n",
            "Total Count          10000\n"
          ]
        }
      ]
    },
    {
      "cell_type": "code",
      "source": [
        "verified_income_table.to_csv(\"verified_income_table.csv\")"
      ],
      "metadata": {
        "id": "7I1BTGKb5iY9"
      },
      "execution_count": 25,
      "outputs": []
    },
    {
      "cell_type": "code",
      "source": [
        "# Use the method unique to count the unique values for homeownership\n",
        "homeownership_u_values=df_cleaned[\"homeownership\"].unique()\n",
        "print(\"Homeownership unique values\", homeownership_u_values)"
      ],
      "metadata": {
        "colab": {
          "base_uri": "https://localhost:8080/"
        },
        "id": "BHM7iVx5Xb1r",
        "outputId": "d9dac8d5-23e2-467b-f658-bf307ba6d457"
      },
      "execution_count": 26,
      "outputs": [
        {
          "output_type": "stream",
          "name": "stdout",
          "text": [
            "Homeownership unique values ['MORTGAGE' 'RENT' 'OWN']\n"
          ]
        }
      ]
    },
    {
      "cell_type": "code",
      "source": [
        "# Use the method value_counts to count the frequencies for \"homeownership\"\n",
        "homeownership_frequencies = df_cleaned[\"homeownership\"].value_counts()\n",
        "\n",
        "# Convert to a DataFrame, name=\"Frequency\" part specifies the name of the column\n",
        "homeownership_table = homeownership_frequencies.to_frame(name=\"Frequency\")\n",
        "\n",
        "# Add a 'Total' row\n",
        "homeownership_table.loc[\"Total Count\"] = homeownership_table[\"Frequency\"].sum()\n",
        "\n",
        "# Print the result\n",
        "print(\"Homeownership frequencies:\\n\", homeownership_table)"
      ],
      "metadata": {
        "colab": {
          "base_uri": "https://localhost:8080/"
        },
        "id": "NzhVFy5VYsvD",
        "outputId": "9f18a5e6-de18-40ba-c824-cf30ca3a4c5f"
      },
      "execution_count": 27,
      "outputs": [
        {
          "output_type": "stream",
          "name": "stdout",
          "text": [
            "Homeownership frequencies:\n",
            "                Frequency\n",
            "homeownership           \n",
            "MORTGAGE            4789\n",
            "RENT                3858\n",
            "OWN                 1353\n",
            "Total Count        10000\n"
          ]
        }
      ]
    },
    {
      "cell_type": "code",
      "source": [
        "homeownership_table.to_csv(\"homeownership_table.csv\")"
      ],
      "metadata": {
        "id": "AJOmu-iy9Yfo"
      },
      "execution_count": 28,
      "outputs": []
    },
    {
      "cell_type": "markdown",
      "source": [
        "2.2 Visualizations\n",
        "Create and interpret the following plots (minimum 8×6 inches, with clear labels):\n",
        "\n",
        "(a) Histograms:\n",
        "\n",
        "• Distribution of interest rate\n",
        "\n",
        "• Distribution of annual income"
      ],
      "metadata": {
        "id": "e6im7pcNMNvp"
      }
    },
    {
      "cell_type": "code",
      "source": [
        "import numpy as np"
      ],
      "metadata": {
        "id": "6_T-kbUz7shm"
      },
      "execution_count": 29,
      "outputs": []
    },
    {
      "cell_type": "code",
      "source": [
        "# Distribution of interest rate in Frequency\n",
        "import seaborn as sns\n",
        "import matplotlib.pyplot as plt\n",
        "\n",
        "# Use seaborn and use the column \"interest_rate\" as the x axis\n",
        "\n",
        "# plt.figure(figsize=(8, 6)); set figure size to minimum 8x6 inches\n",
        "sns.set(rc={\"figure.figsize\": (8, 6)})\n",
        "sns.histplot(data=df_cleaned, x = \"interest_rate\", kde=True,\n",
        "             color=\"blue\", alpha=0.5, binwidth=0.5)\n",
        "\n",
        "sns.despine()\n",
        "# Find the mode bin\n",
        "# Add a Kernel Density Estimate (KDE) line to histogram\n",
        "# KDE is a smooth curve that estimates the probability density of the data.\n",
        "# use line_kws means to pass extra styling options (i.e., keyword\n",
        "# arguments) specifically to the line that’s being plotted\n",
        "plt.title(\"Distribution of Interest Rate\")\n",
        "plt.xlabel(\"Interest Rate\")\n",
        "plt.ylabel(\"Frequency\")\n",
        "plt.xlim(5,32.5)\n",
        "plt.ylim(0,700)\n",
        "plt.xticks(np.arange(5,32.6,2.5))\n",
        "plt.yticks(np.arange(0,701,50))\n",
        "plt.grid(True)\n",
        "plt.savefig(\"hist_interest_rate\")\n",
        "plt.show()"
      ],
      "metadata": {
        "colab": {
          "base_uri": "https://localhost:8080/",
          "height": 573
        },
        "id": "sOOs1Hm_bDOl",
        "outputId": "98d5c002-0868-4579-fef5-b92e20a649f2"
      },
      "execution_count": 30,
      "outputs": [
        {
          "output_type": "display_data",
          "data": {
            "text/plain": [
              "<Figure size 800x600 with 1 Axes>"
            ],
            "image/png": "[encoded data removed]"
          },
          "metadata": {}
        }
      ]
    },
    {
      "cell_type": "code",
      "source": [
        "# show the maximum frequency of bar\n",
        "counts, bins, patches = plt.hist(df_cleaned[\"interest_rate\"], bins=np.arange(5, 32.5, 0.5))\n",
        "print(\"Maximum frequency:\", counts.max())"
      ],
      "metadata": {
        "colab": {
          "base_uri": "https://localhost:8080/",
          "height": 545
        },
        "id": "7hnptVSDcSUf",
        "outputId": "b3231ccd-8056-445c-c14a-eb374ff75620"
      },
      "execution_count": 31,
      "outputs": [
        {
          "output_type": "stream",
          "name": "stdout",
          "text": [
            "Maximum frequency: 647.0\n"
          ]
        },
        {
          "output_type": "display_data",
          "data": {
            "text/plain": [
              "<Figure size 800x600 with 1 Axes>"
            ],
            "image/png": "[encoded data removed]"
          },
          "metadata": {}
        }
      ]
    },
    {
      "cell_type": "code",
      "source": [
        "# get the number of bins\n",
        "data = df_cleaned['interest_rate']\n",
        "binwidth = 0.5\n",
        "num_bins = (data.max() - data.min()) / binwidth\n",
        "print(f\"Number of bins: {int(np.ceil(num_bins))}\")"
      ],
      "metadata": {
        "colab": {
          "base_uri": "https://localhost:8080/"
        },
        "id": "7srql2dVcB3o",
        "outputId": "8ad1fc22-a550-4857-e804-d4abff83fec0"
      },
      "execution_count": 32,
      "outputs": [
        {
          "output_type": "stream",
          "name": "stdout",
          "text": [
            "Number of bins: 52\n"
          ]
        }
      ]
    },
    {
      "cell_type": "code",
      "source": [
        "# Distribution of Annual Income in Frequency\n",
        "plt.figure(figsize=(8, 6)) # set figure size to minimum 8x6 inches\n",
        "sns.histplot(data=df_cleaned, x = \"annual_income\", kde=True,color=\"brown\", bins=92)\n",
        "sns.despine()\n",
        "sns.set_palette(\"deep\")\n",
        "plt.title(\"Distribution of Annual Income\")\n",
        "plt.xlabel(\"Annual Income\")\n",
        "plt.ylabel(\"Frequency\")\n",
        "plt.xticks(np.arange(0, 2400001, 200000))\n",
        "plt.yticks(np.arange(0, 3501, 500))\n",
        "plt.grid(True)\n",
        "plt.savefig(\"hist_annual_income.png\")\n",
        "plt.show()"
      ],
      "metadata": {
        "colab": {
          "base_uri": "https://localhost:8080/",
          "height": 573
        },
        "id": "oxM-NgNYqXlo",
        "outputId": "9e4327a7-879c-4710-b336-d72b8a33e2e0"
      },
      "execution_count": 33,
      "outputs": [
        {
          "output_type": "display_data",
          "data": {
            "text/plain": [
              "<Figure size 800x600 with 1 Axes>"
            ],
            "image/png": "[encoded data removed]"
          },
          "metadata": {}
        }
      ]
    },
    {
      "cell_type": "code",
      "source": [
        "# show the maximum frequency of bar\n",
        "counts, bins, patches = plt.hist(df_cleaned[\"annual_income\"], bins=np.arange(0, 2400000, 25000))\n",
        "print(\"Maximum frequency:\", counts.max())"
      ],
      "metadata": {
        "colab": {
          "base_uri": "https://localhost:8080/",
          "height": 564
        },
        "id": "8a40rWTBtdzK",
        "outputId": "80f1e2ee-5937-4bea-cc39-880ee9871b58"
      },
      "execution_count": 34,
      "outputs": [
        {
          "output_type": "stream",
          "name": "stdout",
          "text": [
            "Maximum frequency: 3016.0\n"
          ]
        },
        {
          "output_type": "display_data",
          "data": {
            "text/plain": [
              "<Figure size 800x600 with 1 Axes>"
            ],
            "image/png": "[encoded data removed]"
          },
          "metadata": {}
        }
      ]
    },
    {
      "cell_type": "code",
      "source": [
        "# get the number of bins\n",
        "data = df_cleaned['annual_income']\n",
        "binwidth = 25000\n",
        "num_bins = (data.max() - data.min()) / binwidth\n",
        "print(f\"Number of bins: {int(np.ceil(num_bins))}\")"
      ],
      "metadata": {
        "colab": {
          "base_uri": "https://localhost:8080/"
        },
        "id": "levhRK8DvFU6",
        "outputId": "b96d8486-902e-4026-9c13-e3ae002d5e4a"
      },
      "execution_count": 35,
      "outputs": [
        {
          "output_type": "stream",
          "name": "stdout",
          "text": [
            "Number of bins: 92\n"
          ]
        }
      ]
    },
    {
      "cell_type": "markdown",
      "source": [
        "(b) Scatterplots:\n",
        "\n",
        "• interest rate vs. annual income\n",
        "\n",
        "• interest rate vs. debt to income (include regression line)"
      ],
      "metadata": {
        "id": "RpKN0qtLsE_w"
      }
    },
    {
      "cell_type": "code",
      "source": [
        "# Summary statistics on annual income and interest rate\n",
        "# Transpose the DataFrame\n",
        "df_cleaned.filter([\"annual_income\",\"interest_rate\"]).describe(percentiles=[0.25, 0.5, 0.75]).T"
      ],
      "metadata": {
        "colab": {
          "base_uri": "https://localhost:8080/",
          "height": 112
        },
        "id": "mhEGZfSgwVLJ",
        "outputId": "e0e45136-11c8-405b-f679-639db632757b"
      },
      "execution_count": 36,
      "outputs": [
        {
          "output_type": "execute_result",
          "data": {
            "text/plain": [
              "                 count          mean           std   min       25%       50%  \\\n",
              "annual_income  10000.0  79222.148412  64734.290492  0.00  45000.00  65000.00   \n",
              "interest_rate  10000.0     12.427524      5.001105  5.31      9.43     11.98   \n",
              "\n",
              "                    75%         max  \n",
              "annual_income  95000.00  2300000.00  \n",
              "interest_rate     15.05       30.94  "
            ],
            "text/html": [
              "\n",
              "  <div id=\"df-ba11460a-525b-420c-9011-3887b6264dd6\" class=\"colab-df-container\">\n",
              "    <div>\n",
              "<style scoped>\n",
              "    .dataframe tbody tr th:only-of-type {\n",
              "        vertical-align: middle;\n",
              "    }\n",
              "\n",
              "    .dataframe tbody tr th {\n",
              "        vertical-align: top;\n",
              "    }\n",
              "\n",
              "    .dataframe thead th {\n",
              "        text-align: right;\n",
              "    }\n",
              "</style>\n",
              "<table border=\"1\" class=\"dataframe\">\n",
              "  <thead>\n",
              "    <tr style=\"text-align: right;\">\n",
              "      <th></th>\n",
              "      <th>count</th>\n",
              "      <th>mean</th>\n",
              "      <th>std</th>\n",
              "      <th>min</th>\n",
              "      <th>25%</th>\n",
              "      <th>50%</th>\n",
              "      <th>75%</th>\n",
              "      <th>max</th>\n",
              "    </tr>\n",
              "  </thead>\n",
              "  <tbody>\n",
              "    <tr>\n",
              "      <th>annual_income</th>\n",
              "      <td>10000.0</td>\n",
              "      <td>79222.148412</td>\n",
              "      <td>64734.290492</td>\n",
              "      <td>0.00</td>\n",
              "      <td>45000.00</td>\n",
              "      <td>65000.00</td>\n",
              "      <td>95000.00</td>\n",
              "      <td>2300000.00</td>\n",
              "    </tr>\n",
              "    <tr>\n",
              "      <th>interest_rate</th>\n",
              "      <td>10000.0</td>\n",
              "      <td>12.427524</td>\n",
              "      <td>5.001105</td>\n",
              "      <td>5.31</td>\n",
              "      <td>9.43</td>\n",
              "      <td>11.98</td>\n",
              "      <td>15.05</td>\n",
              "      <td>30.94</td>\n",
              "    </tr>\n",
              "  </tbody>\n",
              "</table>\n",
              "</div>\n",
              "    <div class=\"colab-df-buttons\">\n",
              "\n",
              "  <div class=\"colab-df-container\">\n",
              "    <button class=\"colab-df-convert\" onclick=\"convertToInteractive('df-ba11460a-525b-420c-9011-3887b6264dd6')\"\n",
              "            title=\"Convert this dataframe to an interactive table.\"\n",
              "            style=\"display:none;\">\n",
              "\n",
              "  <svg xmlns=\"http://www.w3.org/2000/svg\" height=\"24px\" viewBox=\"0 -960 960 960\">\n",
              "    <path d=\"M120-120v-720h720v720H120Zm60-500h600v-160H180v160Zm220 220h160v-160H400v160Zm0 220h160v-160H400v160ZM180-400h160v-160H180v160Zm440 0h160v-160H620v160ZM180-180h160v-160H180v160Zm440 0h160v-160H620v160Z\"/>\n",
              "  </svg>\n",
              "    </button>\n",
              "\n",
              "  <style>\n",
              "    .colab-df-container {\n",
              "      display:flex;\n",
              "      gap: 12px;\n",
              "    }\n",
              "\n",
              "    .colab-df-convert {\n",
              "      background-color: #E8F0FE;\n",
              "      border: none;\n",
              "      border-radius: 50%;\n",
              "      cursor: pointer;\n",
              "      display: none;\n",
              "      fill: #1967D2;\n",
              "      height: 32px;\n",
              "      padding: 0 0 0 0;\n",
              "      width: 32px;\n",
              "    }\n",
              "\n",
              "    .colab-df-convert:hover {\n",
              "      background-color: #E2EBFA;\n",
              "      box-shadow: 0px 1px 2px rgba(60, 64, 67, 0.3), 0px 1px 3px 1px rgba(60, 64, 67, 0.15);\n",
              "      fill: #174EA6;\n",
              "    }\n",
              "\n",
              "    .colab-df-buttons div {\n",
              "      margin-bottom: 4px;\n",
              "    }\n",
              "\n",
              "    [theme=dark] .colab-df-convert {\n",
              "      background-color: #3B4455;\n",
              "      fill: #D2E3FC;\n",
              "    }\n",
              "\n",
              "    [theme=dark] .colab-df-convert:hover {\n",
              "      background-color: #434B5C;\n",
              "      box-shadow: 0px 1px 3px 1px rgba(0, 0, 0, 0.15);\n",
              "      filter: drop-shadow(0px 1px 2px rgba(0, 0, 0, 0.3));\n",
              "      fill: #FFFFFF;\n",
              "    }\n",
              "  </style>\n",
              "\n",
              "    <script>\n",
              "      const buttonEl =\n",
              "        document.querySelector('#df-ba11460a-525b-420c-9011-3887b6264dd6 button.colab-df-convert');\n",
              "      buttonEl.style.display =\n",
              "        google.colab.kernel.accessAllowed ? 'block' : 'none';\n",
              "\n",
              "      async function convertToInteractive(key) {\n",
              "        const element = document.querySelector('#df-ba11460a-525b-420c-9011-3887b6264dd6');\n",
              "        const dataTable =\n",
              "          await google.colab.kernel.invokeFunction('convertToInteractive',\n",
              "                                                    [key], {});\n",
              "        if (!dataTable) return;\n",
              "\n",
              "        const docLinkHtml = 'Like what you see? Visit the ' +\n",
              "          '<a target=\"_blank\" href=https://colab.research.google.com/notebooks/data_table.ipynb>data table notebook</a>'\n",
              "          + ' to learn more about interactive tables.';\n",
              "        element.innerHTML = '';\n",
              "        dataTable['output_type'] = 'display_data';\n",
              "        await google.colab.output.renderOutput(dataTable, element);\n",
              "        const docLink = document.createElement('div');\n",
              "        docLink.innerHTML = docLinkHtml;\n",
              "        element.appendChild(docLink);\n",
              "      }\n",
              "    </script>\n",
              "  </div>\n",
              "\n",
              "\n",
              "    <div id=\"df-f196dabc-2e60-4414-9d95-aaa78f5b22f1\">\n",
              "      <button class=\"colab-df-quickchart\" onclick=\"quickchart('df-f196dabc-2e60-4414-9d95-aaa78f5b22f1')\"\n",
              "                title=\"Suggest charts\"\n",
              "                style=\"display:none;\">\n",
              "\n",
              "<svg xmlns=\"http://www.w3.org/2000/svg\" height=\"24px\"viewBox=\"0 0 24 24\"\n",
              "     width=\"24px\">\n",
              "    <g>\n",
              "        <path d=\"M19 3H5c-1.1 0-2 .9-2 2v14c0 1.1.9 2 2 2h14c1.1 0 2-.9 2-2V5c0-1.1-.9-2-2-2zM9 17H7v-7h2v7zm4 0h-2V7h2v10zm4 0h-2v-4h2v4z\"/>\n",
              "    </g>\n",
              "</svg>\n",
              "      </button>\n",
              "\n",
              "<style>\n",
              "  .colab-df-quickchart {\n",
              "      --bg-color: #E8F0FE;\n",
              "      --fill-color: #1967D2;\n",
              "      --hover-bg-color: #E2EBFA;\n",
              "      --hover-fill-color: #174EA6;\n",
              "      --disabled-fill-color: #AAA;\n",
              "      --disabled-bg-color: #DDD;\n",
              "  }\n",
              "\n",
              "  [theme=dark] .colab-df-quickchart {\n",
              "      --bg-color: #3B4455;\n",
              "      --fill-color: #D2E3FC;\n",
              "      --hover-bg-color: #434B5C;\n",
              "      --hover-fill-color: #FFFFFF;\n",
              "      --disabled-bg-color: #3B4455;\n",
              "      --disabled-fill-color: #666;\n",
              "  }\n",
              "\n",
              "  .colab-df-quickchart {\n",
              "    background-color: var(--bg-color);\n",
              "    border: none;\n",
              "    border-radius: 50%;\n",
              "    cursor: pointer;\n",
              "    display: none;\n",
              "    fill: var(--fill-color);\n",
              "    height: 32px;\n",
              "    padding: 0;\n",
              "    width: 32px;\n",
              "  }\n",
              "\n",
              "  .colab-df-quickchart:hover {\n",
              "    background-color: var(--hover-bg-color);\n",
              "    box-shadow: 0 1px 2px rgba(60, 64, 67, 0.3), 0 1px 3px 1px rgba(60, 64, 67, 0.15);\n",
              "    fill: var(--button-hover-fill-color);\n",
              "  }\n",
              "\n",
              "  .colab-df-quickchart-complete:disabled,\n",
              "  .colab-df-quickchart-complete:disabled:hover {\n",
              "    background-color: var(--disabled-bg-color);\n",
              "    fill: var(--disabled-fill-color);\n",
              "    box-shadow: none;\n",
              "  }\n",
              "\n",
              "  .colab-df-spinner {\n",
              "    border: 2px solid var(--fill-color);\n",
              "    border-color: transparent;\n",
              "    border-bottom-color: var(--fill-color);\n",
              "    animation:\n",
              "      spin 1s steps(1) infinite;\n",
              "  }\n",
              "\n",
              "  @keyframes spin {\n",
              "    0% {\n",
              "      border-color: transparent;\n",
              "      border-bottom-color: var(--fill-color);\n",
              "      border-left-color: var(--fill-color);\n",
              "    }\n",
              "    20% {\n",
              "      border-color: transparent;\n",
              "      border-left-color: var(--fill-color);\n",
              "      border-top-color: var(--fill-color);\n",
              "    }\n",
              "    30% {\n",
              "      border-color: transparent;\n",
              "      border-left-color: var(--fill-color);\n",
              "      border-top-color: var(--fill-color);\n",
              "      border-right-color: var(--fill-color);\n",
              "    }\n",
              "    40% {\n",
              "      border-color: transparent;\n",
              "      border-right-color: var(--fill-color);\n",
              "      border-top-color: var(--fill-color);\n",
              "    }\n",
              "    60% {\n",
              "      border-color: transparent;\n",
              "      border-right-color: var(--fill-color);\n",
              "    }\n",
              "    80% {\n",
              "      border-color: transparent;\n",
              "      border-right-color: var(--fill-color);\n",
              "      border-bottom-color: var(--fill-color);\n",
              "    }\n",
              "    90% {\n",
              "      border-color: transparent;\n",
              "      border-bottom-color: var(--fill-color);\n",
              "    }\n",
              "  }\n",
              "</style>\n",
              "\n",
              "      <script>\n",
              "        async function quickchart(key) {\n",
              "          const quickchartButtonEl =\n",
              "            document.querySelector('#' + key + ' button');\n",
              "          quickchartButtonEl.disabled = true;  // To prevent multiple clicks.\n",
              "          quickchartButtonEl.classList.add('colab-df-spinner');\n",
              "          try {\n",
              "            const charts = await google.colab.kernel.invokeFunction(\n",
              "                'suggestCharts', [key], {});\n",
              "          } catch (error) {\n",
              "            console.error('Error during call to suggestCharts:', error);\n",
              "          }\n",
              "          quickchartButtonEl.classList.remove('colab-df-spinner');\n",
              "          quickchartButtonEl.classList.add('colab-df-quickchart-complete');\n",
              "        }\n",
              "        (() => {\n",
              "          let quickchartButtonEl =\n",
              "            document.querySelector('#df-f196dabc-2e60-4414-9d95-aaa78f5b22f1 button');\n",
              "          quickchartButtonEl.style.display =\n",
              "            google.colab.kernel.accessAllowed ? 'block' : 'none';\n",
              "        })();\n",
              "      </script>\n",
              "    </div>\n",
              "\n",
              "    </div>\n",
              "  </div>\n"
            ],
            "application/vnd.google.colaboratory.intrinsic+json": {
              "type": "dataframe",
              "summary": "{\n  \"name\": \"df_cleaned\",\n  \"rows\": 2,\n  \"fields\": [\n    {\n      \"column\": \"count\",\n      \"properties\": {\n        \"dtype\": \"number\",\n        \"std\": 0.0,\n        \"min\": 10000.0,\n        \"max\": 10000.0,\n        \"num_unique_values\": 1,\n        \"samples\": [\n          10000.0\n        ],\n        \"semantic_type\": \"\",\n        \"description\": \"\"\n      }\n    },\n    {\n      \"column\": \"mean\",\n      \"properties\": {\n        \"dtype\": \"number\",\n        \"std\": 56009.73077579852,\n        \"min\": 12.427524,\n        \"max\": 79222.148412,\n        \"num_unique_values\": 2,\n        \"samples\": [\n          12.427524\n        ],\n        \"semantic_type\": \"\",\n        \"description\": \"\"\n      }\n    },\n    {\n      \"column\": \"std\",\n      \"properties\": {\n        \"dtype\": \"number\",\n        \"std\": 45770.519466851154,\n        \"min\": 5.001104881366526,\n        \"max\": 64734.290491764026,\n        \"num_unique_values\": 2,\n        \"samples\": [\n          5.001104881366526\n        ],\n        \"semantic_type\": \"\",\n        \"description\": \"\"\n      }\n    },\n    {\n      \"column\": \"min\",\n      \"properties\": {\n        \"dtype\": \"number\",\n        \"std\": 3.754737008100567,\n        \"min\": 0.0,\n        \"max\": 5.31,\n        \"num_unique_values\": 2,\n        \"samples\": [\n          5.31\n        ],\n        \"semantic_type\": \"\",\n        \"description\": \"\"\n      }\n    },\n    {\n      \"column\": \"25%\",\n      \"properties\": {\n        \"dtype\": \"number\",\n        \"std\": 31813.13713644805,\n        \"min\": 9.43,\n        \"max\": 45000.0,\n        \"num_unique_values\": 2,\n        \"samples\": [\n          9.43\n        ],\n        \"semantic_type\": \"\",\n        \"description\": \"\"\n      }\n    },\n    {\n      \"column\": \"50%\",\n      \"properties\": {\n        \"dtype\": \"number\",\n        \"std\": 45953.46963788698,\n        \"min\": 11.98,\n        \"max\": 65000.0,\n        \"num_unique_values\": 2,\n        \"samples\": [\n          11.98\n        ],\n        \"semantic_type\": \"\",\n        \"description\": \"\"\n      }\n    },\n    {\n      \"column\": \"75%\",\n      \"properties\": {\n        \"dtype\": \"number\",\n        \"std\": 67164.50225566515,\n        \"min\": 15.05,\n        \"max\": 95000.0,\n        \"num_unique_values\": 2,\n        \"samples\": [\n          15.05\n        ],\n        \"semantic_type\": \"\",\n        \"description\": \"\"\n      }\n    },\n    {\n      \"column\": \"max\",\n      \"properties\": {\n        \"dtype\": \"number\",\n        \"std\": 1626323.7188452494,\n        \"min\": 30.94,\n        \"max\": 2300000.0,\n        \"num_unique_values\": 2,\n        \"samples\": [\n          30.94\n        ],\n        \"semantic_type\": \"\",\n        \"description\": \"\"\n      }\n    }\n  ]\n}"
            }
          },
          "metadata": {},
          "execution_count": 36
        }
      ]
    },
    {
      "cell_type": "code",
      "source": [
        "# scatterplot of interest rate vs annual income\n",
        "plt.figure(figsize=(10,6))\n",
        "\n",
        "\n",
        "sns.scatterplot(data=df_cleaned, x=\"annual_income\", y=\"interest_rate\",\n",
        "                hue=\"annual_income\",alpha=0.8,s=50\n",
        "# have 80% transparency (alpha=0.8)，and\n",
        "# have an area of 20 square pixels (s=12).\n",
        "           )\n",
        "\n",
        "# set x and y limits\n",
        "# range(0, 2400001) creates numbers from 0 up to (but not including) 2400001\n",
        "plt.xlim(0,2400001)\n",
        "plt.ylim(5,31)\n",
        "\n",
        "# set x and y ticks\n",
        "# np.arange(start, stop, step) generates numbers from 0 to 31 (inclusive) with\n",
        "# steps of 5 set axis labels\n",
        "plt.xticks(np.arange(0,2400001,200000))\n",
        "plt.yticks(np.arange(5,31,2.5))\n",
        "plt.xlabel(\"Annual income\")\n",
        "plt.ylabel(\"Interest rate\")\n",
        "plt.savefig('scatter_annualincome')\n",
        "plt.title('Interes rate vs Annual income')\n",
        "plt.grid(True)\n",
        "plt.show()"
      ],
      "metadata": {
        "colab": {
          "base_uri": "https://localhost:8080/",
          "height": 573
        },
        "id": "H_iqd7xZtK5g",
        "outputId": "89b01ced-c4b2-4ffc-eca7-efdd1deb7c89"
      },
      "execution_count": 37,
      "outputs": [
        {
          "output_type": "display_data",
          "data": {
            "text/plain": [
              "<Figure size 1000x600 with 1 Axes>"
            ],
            "image/png": "[encoded data removed]"
          },
          "metadata": {}
        }
      ]
    },
    {
      "cell_type": "markdown",
      "source": [
        "level-level interest rate ~ annual income"
      ],
      "metadata": {
        "id": "WAvzSk9YiYqn"
      }
    },
    {
      "cell_type": "code",
      "source": [
        "import statsmodels.formula.api as smf\n",
        "# Log-level linear regression\n",
        "reg_annual_income1 = smf.ols(\"interest_rate ~ annual_income\", data=df_cleaned).fit()\n",
        "print(reg_annual_income1.summary())"
      ],
      "metadata": {
        "colab": {
          "base_uri": "https://localhost:8080/"
        },
        "id": "CRnDhEzmiXly",
        "outputId": "5dba3d8e-faa3-4163-dc90-2b294f391820"
      },
      "execution_count": 38,
      "outputs": [
        {
          "output_type": "stream",
          "name": "stdout",
          "text": [
            "                            OLS Regression Results                            \n",
            "==============================================================================\n",
            "Dep. Variable:          interest_rate   R-squared:                       0.010\n",
            "Model:                            OLS   Adj. R-squared:                  0.010\n",
            "Method:                 Least Squares   F-statistic:                     100.1\n",
            "Date:                Tue, 20 May 2025   Prob (F-statistic):           1.83e-23\n",
            "Time:                        09:23:07   Log-Likelihood:                -30236.\n",
            "No. Observations:               10000   AIC:                         6.048e+04\n",
            "Df Residuals:                    9998   BIC:                         6.049e+04\n",
            "Df Model:                           1                                         \n",
            "Covariance Type:            nonrobust                                         \n",
            "=================================================================================\n",
            "                    coef    std err          t      P>|t|      [0.025      0.975]\n",
            "---------------------------------------------------------------------------------\n",
            "Intercept        13.0370      0.079    165.757      0.000      12.883      13.191\n",
            "annual_income -7.693e-06   7.69e-07    -10.007      0.000    -9.2e-06   -6.19e-06\n",
            "==============================================================================\n",
            "Omnibus:                     1054.217   Durbin-Watson:                   1.990\n",
            "Prob(Omnibus):                  0.000   Jarque-Bera (JB):             1423.401\n",
            "Skew:                           0.871   Prob(JB):                    8.17e-310\n",
            "Kurtosis:                       3.615   Cond. No.                     1.62e+05\n",
            "==============================================================================\n",
            "\n",
            "Notes:\n",
            "[1] Standard Errors assume that the covariance matrix of the errors is correctly specified.\n",
            "[2] The condition number is large, 1.62e+05. This might indicate that there are\n",
            "strong multicollinearity or other numerical problems.\n"
          ]
        }
      ]
    },
    {
      "cell_type": "code",
      "source": [
        "plt.figure(figsize=(8,6))\n",
        "sns.lmplot(data=df_cleaned, x=\"debt_to_income\", y=\"interest_rate\",\n",
        "           scatter_kws={\"color\":\"blue\",\"alpha\":0.4,\"s\":10}, line_kws = {'color':'red'})\n",
        "# The points will be blue (color=\"blue\")，have 40% transparency (alpha=0.4)， and\n",
        "# have an area of 10 square pixels (s=12).\n",
        "#             scatter_kws={\"color\":\"red\",\"alpha\":0.5,\"s\":10},\n",
        "\n",
        "plt.xlim(0,500)\n",
        "plt.ylim(5,32.5)\n",
        "plt.xticks(np.arange(0,501,50))\n",
        "plt.yticks(np.arange(5,32.6,2.5))\n",
        "plt.xlabel(\"Debt to Income Ratio\")\n",
        "plt.ylabel(\"Interest rate\")\n",
        "plt.title('Interes rate vs Debt to income')\n",
        "plt.grid(True)\n",
        "plt.savefig('lmplot_debttoincome')\n",
        "plt.show()"
      ],
      "metadata": {
        "colab": {
          "base_uri": "https://localhost:8080/",
          "height": 541
        },
        "id": "IVRcE9Agv_S5",
        "outputId": "58f57034-9941-4dd2-fff7-3d85b419db33"
      },
      "execution_count": 39,
      "outputs": [
        {
          "output_type": "display_data",
          "data": {
            "text/plain": [
              "<Figure size 800x600 with 0 Axes>"
            ]
          },
          "metadata": {}
        },
        {
          "output_type": "display_data",
          "data": {
            "text/plain": [
              "<Figure size 500x500 with 1 Axes>"
            ],
            "image/png": "[encoded data removed]"
          },
          "metadata": {}
        }
      ]
    },
    {
      "cell_type": "markdown",
      "source": [
        "(c) Boxplots:\n",
        "\n",
        "• interest rate by grade\n",
        "\n",
        "• interest rate by verified income\n",
        "\n",
        "• interest rate by homeownership"
      ],
      "metadata": {
        "id": "vv5qd42gxh1U"
      }
    },
    {
      "cell_type": "code",
      "source": [
        "# Boxplot interest rate by grade\n",
        "# Create the boxplot with the sorted grade values\n",
        "plt.figure(figsize=(8, 6))\n",
        "\n",
        "# Cleans up the plot by removing the top and right borders (spines)\n",
        "sns.despine\n",
        "# Use sorted grade for\n",
        "sns.boxplot(data=df_cleaned, x='grade', y='interest_rate', order = sorted_grade_unique_values)\n",
        "\n",
        "plt.ylim(5, 32.5)\n",
        "plt.yticks(np.arange(5,32.6,2.5))\n",
        "plt.xlabel('Grade')\n",
        "plt.ylabel('Interest Rate')\n",
        "plt.title('Interest Rate by Grade')\n",
        "plt.grid(True)\n",
        "plt.savefig('box_grade')\n",
        "plt.show()"
      ],
      "metadata": {
        "colab": {
          "base_uri": "https://localhost:8080/",
          "height": 573
        },
        "id": "Ezzj-4bJyPyq",
        "outputId": "8d6f9234-47d4-46e4-f306-2de0f35ac2bd"
      },
      "execution_count": 40,
      "outputs": [
        {
          "output_type": "display_data",
          "data": {
            "text/plain": [
              "<Figure size 800x600 with 1 Axes>"
            ],
            "image/png": "[encoded data removed]"
          },
          "metadata": {}
        }
      ]
    },
    {
      "cell_type": "code",
      "source": [
        "# Group by 'grade' and calculate summary statistics for 'interest_rate'\n",
        "grade_summary = df_cleaned.groupby('grade')['interest_rate'].agg(\n",
        "    count='count',\n",
        "    mean='mean',\n",
        "    median='median',\n",
        "    std='std',\n",
        "    min='min',\n",
        "    max='max'\n",
        ").round(2)  # Round to 2 decimal places\n",
        "\n",
        "# Sort by grade label\n",
        "grade_summary = grade_summary.sort_index()\n",
        "\n",
        "# Display the summary table\n",
        "print(grade_summary)"
      ],
      "metadata": {
        "colab": {
          "base_uri": "https://localhost:8080/"
        },
        "id": "3baMk8PBPXCp",
        "outputId": "ecf9c60b-4208-4a77-c646-b3cec0f23048"
      },
      "execution_count": 41,
      "outputs": [
        {
          "output_type": "stream",
          "name": "stdout",
          "text": [
            "       count   mean  median   std    min    max\n",
            "grade                                          \n",
            "A       2459   6.74    6.72  0.90   5.31   7.97\n",
            "B       3037  10.52   10.42  0.90   9.43  11.99\n",
            "C       2653  14.18   14.07  1.18  12.61  16.02\n",
            "D       1446  19.11   19.03  1.58   6.00  21.85\n",
            "E        335  25.10   24.85  1.23  22.90  26.77\n",
            "F         58  29.40   28.72  0.79  28.72  30.75\n",
            "G         12  30.80   30.79  0.04  30.79  30.94\n"
          ]
        }
      ]
    },
    {
      "cell_type": "code",
      "source": [
        "# Boxplot interest rate by verified income\n",
        "plt.figure(figsize=(8, 6))\n",
        "# reorder the categories on the x-axis\n",
        "sns.boxplot(data=df_cleaned, x=\"verified_income\", y=\"interest_rate\", order=\n",
        " [\"Not Verified\", \"Verified\", \"Source Verified\"])\n",
        "plt.ylim(5, 32.5)\n",
        "plt.yticks(np.arange(5,32.6,2.5))\n",
        "plt.title(\"Interest rate by verified income\")\n",
        "plt.xlabel(\"Verified Income\")\n",
        "plt.ylabel(\"Interest Rate\")\n",
        "# turns on the grid lines in the plot\n",
        "plt.grid(True)\n",
        "plt.savefig('box_verified_income')\n",
        "plt.show()"
      ],
      "metadata": {
        "colab": {
          "base_uri": "https://localhost:8080/",
          "height": 573
        },
        "id": "Kwq1A4sRyj-t",
        "outputId": "986011cd-d976-4006-ac17-8334ca6e0c02"
      },
      "execution_count": 42,
      "outputs": [
        {
          "output_type": "display_data",
          "data": {
            "text/plain": [
              "<Figure size 800x600 with 1 Axes>"
            ],
            "image/png": "[encoded data removed]"
          },
          "metadata": {}
        }
      ]
    },
    {
      "cell_type": "code",
      "source": [
        "# Group by 'verified_income' and calculate summary statistics for 'interest_rate'\n",
        "verified_income_summary = df_cleaned.groupby('verified_income')['interest_rate'].agg(\n",
        "    count='count',\n",
        "    mean='mean',\n",
        "    median='median',\n",
        "    std='std',\n",
        "    min='min',\n",
        "    q25=lambda x: x.quantile(0.25),\n",
        "    q75=lambda x: x.quantile(0.75),\n",
        "    max='max'\n",
        ").round(2)  # Round to 2 decimal places\n",
        "\n",
        "\n",
        "# Display the summary table\n",
        "print(verified_income_summary)"
      ],
      "metadata": {
        "colab": {
          "base_uri": "https://localhost:8080/"
        },
        "id": "Oxa-qJWWPwqx",
        "outputId": "35943ae2-1d7d-45e8-ea62-f90849523241"
      },
      "execution_count": 43,
      "outputs": [
        {
          "output_type": "stream",
          "name": "stdout",
          "text": [
            "                 count   mean  median   std   min    q25    q75    max\n",
            "verified_income                                                       \n",
            "Not Verified      3594  11.10   10.41  4.57  5.31   7.35  13.59  30.79\n",
            "Source Verified   4116  12.52   11.99  4.74  5.31   9.44  15.05  30.79\n",
            "Verified          2290  14.35   13.59  5.45  5.31  10.41  18.06  30.94\n"
          ]
        }
      ]
    },
    {
      "cell_type": "code",
      "source": [
        "# Boxplot interest rate by home ownership\n",
        "plt.figure(figsize=(8, 6))\n",
        "sns.boxplot(data=df_cleaned, x=\"homeownership\", y=\"interest_rate\")\n",
        "plt.ylim(5, 32.5)\n",
        "plt.yticks(np.arange(5,32.6,2.5))\n",
        "plt.title(\"Interest rate by home ownership\")\n",
        "plt.xlabel(\"Home ownership\")\n",
        "plt.ylabel(\"Interest Rate\")\n",
        "plt.grid(True)\n",
        "plt.savefig('box_home_ownership')\n",
        "plt.show()"
      ],
      "metadata": {
        "colab": {
          "base_uri": "https://localhost:8080/",
          "height": 573
        },
        "id": "PGnAPZ6oKnyM",
        "outputId": "f59e5b94-ac8d-4edb-efc9-548e230c6e53"
      },
      "execution_count": 44,
      "outputs": [
        {
          "output_type": "display_data",
          "data": {
            "text/plain": [
              "<Figure size 800x600 with 1 Axes>"
            ],
            "image/png": "[encoded data removed]"
          },
          "metadata": {}
        }
      ]
    },
    {
      "cell_type": "code",
      "source": [
        "# Group by 'home_ownership' and calculate summary statistics for 'interest_rate'\n",
        "homeownership_summary = df_cleaned.groupby('homeownership')['interest_rate'].agg(\n",
        "    count='count',\n",
        "    mean='mean',\n",
        "    median='median',\n",
        "    std='std',\n",
        "    min='min',\n",
        "    q25=lambda x: x.quantile(0.25),\n",
        "    q75=lambda x: x.quantile(0.75),\n",
        "    max='max'\n",
        ").round(2)  # Round to 2 decimal places\n",
        "\n",
        "\n",
        "# Display the summary table\n",
        "print(homeownership_summary)"
      ],
      "metadata": {
        "colab": {
          "base_uri": "https://localhost:8080/"
        },
        "id": "i2NxfP4lRHGb",
        "outputId": "9ec02908-4018-43e2-97a8-eefb055348d7"
      },
      "execution_count": 45,
      "outputs": [
        {
          "output_type": "stream",
          "name": "stdout",
          "text": [
            "               count   mean  median   std   min   q25    q75    max\n",
            "homeownership                                                      \n",
            "MORTGAGE        4789  12.06   10.91  4.96  5.31  7.97  15.04  30.94\n",
            "OWN             1353  12.31   11.98  4.92  5.31  7.97  15.05  30.79\n",
            "RENT            3858  12.92   11.99  5.04  5.31  9.44  16.01  30.79\n"
          ]
        }
      ]
    },
    {
      "cell_type": "markdown",
      "source": [
        "2.3 Derived Variables [4 marks]\n",
        "\n",
        "Create and analyze:\n",
        "\n",
        "(a) credit_util =\n",
        "total_credit_utilized/total_credit_limit\n",
        "\n",
        "• Set to 0 if total credit limit = 0"
      ],
      "metadata": {
        "id": "SSTjlt52US5v"
      }
    },
    {
      "cell_type": "code",
      "source": [
        "\n",
        "# create a column \"credit_util\"\n",
        "# Use lambda to check the condition and gives the value zero if the condition is\n",
        "# true，apply the function to each row\n",
        "df_cleaned[\"credit_util\"] = df_cleaned.apply(\n",
        "    lambda row: 0 if row[\"total_credit_limit\"]==0\n",
        "    else\n",
        "    row[\"total_credit_utilized\"] / row[\"total_credit_limit\"],\n",
        "    axis=1)\n",
        "# axis=1 means applying the function row by row (i.e., across columns)"
      ],
      "metadata": {
        "id": "PIvDw5AgjR2Y"
      },
      "execution_count": 46,
      "outputs": []
    },
    {
      "cell_type": "code",
      "source": [
        "import numpy as np"
      ],
      "metadata": {
        "id": "56HgfEIkcykN"
      },
      "execution_count": 47,
      "outputs": []
    },
    {
      "cell_type": "code",
      "source": [
        "# apply NumPy function np.where (condition, value_if_true, value_if_false)\n",
        "# conditional logic to evaluate the entire column\n",
        "df_cleaned['credit_util']= np.where(df_cleaned['total_credit_limit'] == 0,\n",
        "                                    0,\n",
        "                                    df_cleaned['total_credit_utilized']/\n",
        "                                    df_cleaned['total_credit_limit']\n",
        "                                    )"
      ],
      "metadata": {
        "id": "aNYsLtRccLAK"
      },
      "execution_count": 48,
      "outputs": []
    },
    {
      "cell_type": "code",
      "source": [
        "df_cleaned['credit_util'].describe()"
      ],
      "metadata": {
        "colab": {
          "base_uri": "https://localhost:8080/",
          "height": 335
        },
        "id": "PjiuVLT-ddCe",
        "outputId": "640bfde0-699f-4423-9f3b-d2a8916c0cc5"
      },
      "execution_count": 49,
      "outputs": [
        {
          "output_type": "execute_result",
          "data": {
            "text/plain": [
              "count    10000.000000\n",
              "mean         0.403077\n",
              "std          0.269346\n",
              "min          0.000000\n",
              "25%          0.169002\n",
              "50%          0.360163\n",
              "75%          0.607295\n",
              "max          1.835280\n",
              "Name: credit_util, dtype: float64"
            ],
            "text/html": [
              "<div>\n",
              "<style scoped>\n",
              "    .dataframe tbody tr th:only-of-type {\n",
              "        vertical-align: middle;\n",
              "    }\n",
              "\n",
              "    .dataframe tbody tr th {\n",
              "        vertical-align: top;\n",
              "    }\n",
              "\n",
              "    .dataframe thead th {\n",
              "        text-align: right;\n",
              "    }\n",
              "</style>\n",
              "<table border=\"1\" class=\"dataframe\">\n",
              "  <thead>\n",
              "    <tr style=\"text-align: right;\">\n",
              "      <th></th>\n",
              "      <th>credit_util</th>\n",
              "    </tr>\n",
              "  </thead>\n",
              "  <tbody>\n",
              "    <tr>\n",
              "      <th>count</th>\n",
              "      <td>10000.000000</td>\n",
              "    </tr>\n",
              "    <tr>\n",
              "      <th>mean</th>\n",
              "      <td>0.403077</td>\n",
              "    </tr>\n",
              "    <tr>\n",
              "      <th>std</th>\n",
              "      <td>0.269346</td>\n",
              "    </tr>\n",
              "    <tr>\n",
              "      <th>min</th>\n",
              "      <td>0.000000</td>\n",
              "    </tr>\n",
              "    <tr>\n",
              "      <th>25%</th>\n",
              "      <td>0.169002</td>\n",
              "    </tr>\n",
              "    <tr>\n",
              "      <th>50%</th>\n",
              "      <td>0.360163</td>\n",
              "    </tr>\n",
              "    <tr>\n",
              "      <th>75%</th>\n",
              "      <td>0.607295</td>\n",
              "    </tr>\n",
              "    <tr>\n",
              "      <th>max</th>\n",
              "      <td>1.835280</td>\n",
              "    </tr>\n",
              "  </tbody>\n",
              "</table>\n",
              "</div><br><label><b>dtype:</b> float64</label>"
            ]
          },
          "metadata": {},
          "execution_count": 49
        }
      ]
    },
    {
      "cell_type": "markdown",
      "source": [
        "(b) bankruptcy dummy\n",
        "\n",
        "• 0 if public record bankrupt = 0\n",
        "\n",
        "• 1 if public record bankrupt ≥ 1"
      ],
      "metadata": {
        "id": "H_cYdR0FnryR"
      }
    },
    {
      "cell_type": "code",
      "source": [
        "# Create the bankruptcy dummy column\n",
        "# Apply NumPy function np.where (condition, value_if_true, value_if_false)\n",
        "df_cleaned['bankruptcy_dummy']=np.where(df_cleaned['public_record_bankrupt']>=1\n",
        "                                        , 1, 0)"
      ],
      "metadata": {
        "id": "pi8-X7bLne7b"
      },
      "execution_count": 50,
      "outputs": []
    },
    {
      "cell_type": "code",
      "source": [
        "df_cleaned['credit_util'].describe()"
      ],
      "metadata": {
        "colab": {
          "base_uri": "https://localhost:8080/",
          "height": 335
        },
        "id": "qZdbFzahvYtQ",
        "outputId": "4614db1d-cec8-463f-a15d-6245271ce874"
      },
      "execution_count": 51,
      "outputs": [
        {
          "output_type": "execute_result",
          "data": {
            "text/plain": [
              "count    10000.000000\n",
              "mean         0.403077\n",
              "std          0.269346\n",
              "min          0.000000\n",
              "25%          0.169002\n",
              "50%          0.360163\n",
              "75%          0.607295\n",
              "max          1.835280\n",
              "Name: credit_util, dtype: float64"
            ],
            "text/html": [
              "<div>\n",
              "<style scoped>\n",
              "    .dataframe tbody tr th:only-of-type {\n",
              "        vertical-align: middle;\n",
              "    }\n",
              "\n",
              "    .dataframe tbody tr th {\n",
              "        vertical-align: top;\n",
              "    }\n",
              "\n",
              "    .dataframe thead th {\n",
              "        text-align: right;\n",
              "    }\n",
              "</style>\n",
              "<table border=\"1\" class=\"dataframe\">\n",
              "  <thead>\n",
              "    <tr style=\"text-align: right;\">\n",
              "      <th></th>\n",
              "      <th>credit_util</th>\n",
              "    </tr>\n",
              "  </thead>\n",
              "  <tbody>\n",
              "    <tr>\n",
              "      <th>count</th>\n",
              "      <td>10000.000000</td>\n",
              "    </tr>\n",
              "    <tr>\n",
              "      <th>mean</th>\n",
              "      <td>0.403077</td>\n",
              "    </tr>\n",
              "    <tr>\n",
              "      <th>std</th>\n",
              "      <td>0.269346</td>\n",
              "    </tr>\n",
              "    <tr>\n",
              "      <th>min</th>\n",
              "      <td>0.000000</td>\n",
              "    </tr>\n",
              "    <tr>\n",
              "      <th>25%</th>\n",
              "      <td>0.169002</td>\n",
              "    </tr>\n",
              "    <tr>\n",
              "      <th>50%</th>\n",
              "      <td>0.360163</td>\n",
              "    </tr>\n",
              "    <tr>\n",
              "      <th>75%</th>\n",
              "      <td>0.607295</td>\n",
              "    </tr>\n",
              "    <tr>\n",
              "      <th>max</th>\n",
              "      <td>1.835280</td>\n",
              "    </tr>\n",
              "  </tbody>\n",
              "</table>\n",
              "</div><br><label><b>dtype:</b> float64</label>"
            ]
          },
          "metadata": {},
          "execution_count": 51
        }
      ]
    },
    {
      "cell_type": "markdown",
      "source": [
        "Report mean and proportion of non-zero values for both variables"
      ],
      "metadata": {
        "id": "W5YEUaWfsLkZ"
      }
    },
    {
      "cell_type": "code",
      "source": [
        "# get the mean of \"credit_util\"\n",
        "df_cleaned['credit_util'].mean()"
      ],
      "metadata": {
        "colab": {
          "base_uri": "https://localhost:8080/"
        },
        "id": "mBtM5J8RsK4a",
        "outputId": "67993c8f-33b3-424c-cc28-5261b918b535"
      },
      "execution_count": 52,
      "outputs": [
        {
          "output_type": "execute_result",
          "data": {
            "text/plain": [
              "np.float64(0.40307696513838126)"
            ]
          },
          "metadata": {},
          "execution_count": 52
        }
      ]
    },
    {
      "cell_type": "code",
      "source": [
        "# get the non-zero proportion of credit_util\n",
        "# This returns a Boolean Series: True for non-zero values, False for zeros.\n",
        "# .mean()\n",
        "# in pandas, True is treated as 1 and False as 0,\n",
        "# so the mean gives the proportion of True values - i.e., non-zero entries.\n",
        "# Use :.2f for format as a floating number with 2 decimal places\n",
        "credit_util_non_zero_proportion = (df_cleaned['credit_util']!=0).mean()\n",
        "print(f\"Proportion of non-zero values for credit_util:{credit_util_non_zero_proportion * 100:.2f}%\")"
      ],
      "metadata": {
        "colab": {
          "base_uri": "https://localhost:8080/"
        },
        "id": "o48mHXIYsuj-",
        "outputId": "2c64e1c0-4f01-4235-b809-9bf7e9d05007"
      },
      "execution_count": 53,
      "outputs": [
        {
          "output_type": "stream",
          "name": "stdout",
          "text": [
            "Proportion of non-zero values for credit_util:99.72%\n"
          ]
        }
      ]
    },
    {
      "cell_type": "code",
      "source": [
        "# get the mean of bankruptcy_dummy\n",
        "# returns a Series of True (non-zero) and False (zero) values.\n",
        "df_cleaned[\"bankruptcy_dummy\"].mean()"
      ],
      "metadata": {
        "colab": {
          "base_uri": "https://localhost:8080/"
        },
        "id": "W4z0P0DjSZiB",
        "outputId": "66e31d9e-7526-4dd1-b9b1-3dafe237a71b"
      },
      "execution_count": 54,
      "outputs": [
        {
          "output_type": "execute_result",
          "data": {
            "text/plain": [
              "np.float64(0.1215)"
            ]
          },
          "metadata": {},
          "execution_count": 54
        }
      ]
    },
    {
      "cell_type": "code",
      "source": [
        "# get the non-zero proportion of bankruptcy_dummy\n",
        "# mean = Number of True values / Total number of values\n",
        "# the proportion is the same as mean value\n",
        "bankruptcy_dummy_non_zero_proportion = (df_cleaned['bankruptcy_dummy']!=0).mean()\n",
        "print(f\"Proportion of non-zero values for bankcruptcy_dummy: {bankruptcy_dummy_non_zero_proportion * 100:.2f}%\"\n",
        "      )"
      ],
      "metadata": {
        "colab": {
          "base_uri": "https://localhost:8080/"
        },
        "id": "rBdOvGvzvRMa",
        "outputId": "bf265a80-306a-4af3-c364-90a18e87e8b5"
      },
      "execution_count": 55,
      "outputs": [
        {
          "output_type": "stream",
          "name": "stdout",
          "text": [
            "Proportion of non-zero values for bankcruptcy_dummy: 12.15%\n"
          ]
        }
      ]
    },
    {
      "cell_type": "markdown",
      "source": [
        "3 Part C: Regression Analysis\n",
        "3.1 Models\n",
        "\n",
        "(a) Model 1: Simple Linear Regression\n",
        "\n",
        "• Estimate:\n",
        "\n",
        "interest rate = β0 + β1 debt to income + ε\n",
        "\n",
        "• Report regression equation with estimated coefficients\n",
        "\n",
        "• Interpret the coefficient β1 in the model\n",
        "\n",
        "• Test H0 : β1 = 0 at α = 0.01, 0.05, 0.1 significance levels"
      ],
      "metadata": {
        "id": "h14nrnuP2Rbz"
      }
    },
    {
      "cell_type": "code",
      "source": [
        "import statsmodels.formula.api as smf\n",
        "from mizani.formatters import percent_format"
      ],
      "metadata": {
        "id": "qYLCe2u2o6Xp"
      },
      "execution_count": 56,
      "outputs": []
    },
    {
      "cell_type": "code",
      "source": [
        "#Fit the regression model in Python\n",
        "simple_debt_to_income = smf.ols('interest_rate ~ debt_to_income', data=df_cleaned).fit()\n",
        "print(simple_debt_to_income.summary())"
      ],
      "metadata": {
        "colab": {
          "base_uri": "https://localhost:8080/"
        },
        "id": "ch9XE_JQpLnG",
        "outputId": "b1cad8e0-716c-4a2f-b3f1-6ddcff385d66"
      },
      "execution_count": 57,
      "outputs": [
        {
          "output_type": "stream",
          "name": "stdout",
          "text": [
            "                            OLS Regression Results                            \n",
            "==============================================================================\n",
            "Dep. Variable:          interest_rate   R-squared:                       0.020\n",
            "Model:                            OLS   Adj. R-squared:                  0.020\n",
            "Method:                 Least Squares   F-statistic:                     204.2\n",
            "Date:                Tue, 20 May 2025   Prob (F-statistic):           7.05e-46\n",
            "Time:                        09:23:10   Log-Likelihood:                -30105.\n",
            "No. Observations:                9976   AIC:                         6.021e+04\n",
            "Df Residuals:                    9974   BIC:                         6.023e+04\n",
            "Df Model:                           1                                         \n",
            "Covariance Type:            nonrobust                                         \n",
            "==================================================================================\n",
            "                     coef    std err          t      P>|t|      [0.025      0.975]\n",
            "----------------------------------------------------------------------------------\n",
            "Intercept         11.5114      0.081    142.589      0.000      11.353      11.670\n",
            "debt_to_income     0.0472      0.003     14.291      0.000       0.041       0.054\n",
            "==============================================================================\n",
            "Omnibus:                      995.116   Durbin-Watson:                   1.992\n",
            "Prob(Omnibus):                  0.000   Jarque-Bera (JB):             1332.351\n",
            "Skew:                           0.832   Prob(JB):                    4.83e-290\n",
            "Kurtosis:                       3.660   Cond. No.                         39.9\n",
            "==============================================================================\n",
            "\n",
            "Notes:\n",
            "[1] Standard Errors assume that the covariance matrix of the errors is correctly specified.\n"
          ]
        }
      ]
    },
    {
      "cell_type": "code",
      "source": [
        "# Create a new column for the natural log of interest_rate\n",
        "df_cleaned['lninterest_rate'] = np.log(df_cleaned['interest_rate'])\n",
        "# Level-level linear regression\n",
        "reg_debt2income1 = smf.ols(\"lninterest_rate ~ debt_to_income\", data=df_cleaned).fit()\n",
        "print(reg_debt2income1.summary())"
      ],
      "metadata": {
        "colab": {
          "base_uri": "https://localhost:8080/"
        },
        "id": "qF-6-xtFvOwd",
        "outputId": "051e1303-9076-4b16-b699-451688405d24"
      },
      "execution_count": 58,
      "outputs": [
        {
          "output_type": "stream",
          "name": "stdout",
          "text": [
            "                            OLS Regression Results                            \n",
            "==============================================================================\n",
            "Dep. Variable:        lninterest_rate   R-squared:                       0.021\n",
            "Model:                            OLS   Adj. R-squared:                  0.021\n",
            "Method:                 Least Squares   F-statistic:                     216.4\n",
            "Date:                Tue, 20 May 2025   Prob (F-statistic):           1.80e-48\n",
            "Time:                        09:23:10   Log-Likelihood:                -4892.0\n",
            "No. Observations:                9976   AIC:                             9788.\n",
            "Df Residuals:                    9974   BIC:                             9802.\n",
            "Df Model:                           1                                         \n",
            "Covariance Type:            nonrobust                                         \n",
            "==================================================================================\n",
            "                     coef    std err          t      P>|t|      [0.025      0.975]\n",
            "----------------------------------------------------------------------------------\n",
            "Intercept          2.3658      0.006    366.914      0.000       2.353       2.378\n",
            "debt_to_income     0.0039      0.000     14.709      0.000       0.003       0.004\n",
            "==============================================================================\n",
            "Omnibus:                      251.599   Durbin-Watson:                   2.004\n",
            "Prob(Omnibus):                  0.000   Jarque-Bera (JB):              129.395\n",
            "Skew:                          -0.051   Prob(JB):                     7.98e-29\n",
            "Kurtosis:                       2.451   Cond. No.                         39.9\n",
            "==============================================================================\n",
            "\n",
            "Notes:\n",
            "[1] Standard Errors assume that the covariance matrix of the errors is correctly specified.\n"
          ]
        }
      ]
    },
    {
      "cell_type": "code",
      "source": [
        "# Install stargazer\n",
        "!pip install stargazer\n",
        "\n",
        "# Correct import statement\n",
        "from stargazer.stargazer import Stargazer"
      ],
      "metadata": {
        "colab": {
          "base_uri": "https://localhost:8080/"
        },
        "id": "kMbZMjkJZRjg",
        "outputId": "ef61c638-3ea5-4781-8c5e-35ad09c3ac4a"
      },
      "execution_count": 59,
      "outputs": [
        {
          "output_type": "stream",
          "name": "stdout",
          "text": [
            "Collecting stargazer\n",
            "  Downloading stargazer-0.0.7-py3-none-any.whl.metadata (6.3 kB)\n",
            "Downloading stargazer-0.0.7-py3-none-any.whl (15 kB)\n",
            "Installing collected packages: stargazer\n",
            "Successfully installed stargazer-0.0.7\n"
          ]
        }
      ]
    },
    {
      "cell_type": "code",
      "source": [
        "table_reg1 = Stargazer([simple_debt_to_income])\n",
        "# This renames the \"Intercept\" row label to \"Constant\" in the table\n",
        "table_reg1.rename_covariates({\"Intercept\": \"Constant\"})\n",
        "# the [1] tells Stargazer how many models each column label applies to.\n",
        "table_reg1.custom_columns([\"Homoskedastic SE\"], [1])\n",
        "\n",
        "table_reg1"
      ],
      "metadata": {
        "colab": {
          "base_uri": "https://localhost:8080/",
          "height": 332
        },
        "id": "gu-VlpkO1Om8",
        "outputId": "baefe95c-bf62-465b-8194-dac8339e6570"
      },
      "execution_count": 60,
      "outputs": [
        {
          "output_type": "execute_result",
          "data": {
            "text/plain": [
              "<stargazer.stargazer.Stargazer at 0x78669eaed250>"
            ],
            "text/html": [
              "<table style=\"text-align:center\"><tr><td colspan=\"2\" style=\"border-bottom: 1px solid black\"></td></tr>\n",
              "<tr><td style=\"text-align:left\"></td><td colspan=\"1\"><em>Dependent variable: interest_rate</em></td></tr><tr><td style=\"text-align:left\"></td><tr><td></td><td colspan=\"1\">Homoskedastic SE</td></tr><tr><td style=\"text-align:left\"></td><td>(1)</td></tr>\n",
              "<tr><td colspan=\"2\" style=\"border-bottom: 1px solid black\"></td></tr>\n",
              "\n",
              "<tr><td style=\"text-align:left\">Constant</td><td>11.511<sup>***</sup></td></tr>\n",
              "<tr><td style=\"text-align:left\"></td><td>(0.081)</td></tr>\n",
              "<tr><td style=\"text-align:left\">debt_to_income</td><td>0.047<sup>***</sup></td></tr>\n",
              "<tr><td style=\"text-align:left\"></td><td>(0.003)</td></tr>\n",
              "\n",
              "<td colspan=\"2\" style=\"border-bottom: 1px solid black\"></td></tr>\n",
              "<tr><td style=\"text-align: left\">Observations</td><td>9976</td></tr><tr><td style=\"text-align: left\">R<sup>2</sup></td><td>0.020</td></tr><tr><td style=\"text-align: left\">Adjusted R<sup>2</sup></td><td>0.020</td></tr><tr><td style=\"text-align: left\">Residual Std. Error</td><td>4.948 (df=9974)</td></tr><tr><td style=\"text-align: left\">F Statistic</td><td>204.233<sup>***</sup> (df=1; 9974)</td></tr>\n",
              "<tr><td colspan=\"2\" style=\"border-bottom: 1px solid black\"></td></tr><tr><td style=\"text-align: left\">Note:</td><td colspan=\"1\" style=\"text-align: right\"><sup>*</sup>p&lt;0.1; <sup>**</sup>p&lt;0.05; <sup>***</sup>p&lt;0.01</td></tr></table>"
            ]
          },
          "metadata": {},
          "execution_count": 60
        }
      ]
    },
    {
      "cell_type": "code",
      "source": [
        "html = table_reg1.render_html()\n",
        "# This line converts Stargazer regression table into HTML format (as a\n",
        "# string). It prepares the HTML for display or saving.\n",
        "\n",
        "\n",
        "with open(\"my_regression_table_debt_to_income.html\", \"w\") as f:\n",
        "  f.write(html)"
      ],
      "metadata": {
        "id": "0uTkh2tE1tVt"
      },
      "execution_count": 61,
      "outputs": []
    },
    {
      "cell_type": "markdown",
      "source": [
        "2. Report the estimated regression equation:\n",
        "From the regression output, take the coefficients (e.g., intercept and debt_to_income) and plug them into the model:\n",
        "\n",
        "interest_rate\n",
        "^\n",
        "=\n",
        "𝛽\n",
        "^\n",
        "0\n",
        "+\n",
        "𝛽\n",
        "^\n",
        "1\n",
        "×\n",
        "debt_to_income\n"
      ],
      "metadata": {
        "id": "IFwsCZFWhADu"
      }
    },
    {
      "cell_type": "markdown",
      "source": [
        "（b) Model 2: Simple Linear Regression [6 marks]\n",
        "\n",
        "• Estimate: interest rate = β0 + β1 bankruptcy dummy + ε\n",
        "\n",
        "• Interpret the coefficient β1 in the model\n",
        "\n",
        "• Test H0 : β1 = 0 at α = 0.01, 0.05, 0.1 significance levels"
      ],
      "metadata": {
        "id": "4B2EyPB7tRZN"
      }
    },
    {
      "cell_type": "code",
      "source": [
        "# Fit the regression model in Python\n",
        "simple_reg_bankruptcy_dummy = smf.ols('interest_rate ~ bankruptcy_dummy', data=df_cleaned).fit()\n",
        "print(simple_reg_bankruptcy_dummy.summary())"
      ],
      "metadata": {
        "colab": {
          "base_uri": "https://localhost:8080/"
        },
        "id": "toHqQl0FtpIJ",
        "outputId": "fae992d6-bab4-45b2-a42c-ed1caacb4613"
      },
      "execution_count": 62,
      "outputs": [
        {
          "output_type": "stream",
          "name": "stdout",
          "text": [
            "                            OLS Regression Results                            \n",
            "==============================================================================\n",
            "Dep. Variable:          interest_rate   R-squared:                       0.002\n",
            "Model:                            OLS   Adj. R-squared:                  0.002\n",
            "Method:                 Least Squares   F-statistic:                     23.22\n",
            "Date:                Tue, 20 May 2025   Prob (F-statistic):           1.47e-06\n",
            "Time:                        09:23:13   Log-Likelihood:                -30274.\n",
            "No. Observations:               10000   AIC:                         6.055e+04\n",
            "Df Residuals:                    9998   BIC:                         6.057e+04\n",
            "Df Model:                           1                                         \n",
            "Covariance Type:            nonrobust                                         \n",
            "====================================================================================\n",
            "                       coef    std err          t      P>|t|      [0.025      0.975]\n",
            "------------------------------------------------------------------------------------\n",
            "Intercept           12.3380      0.053    231.490      0.000      12.234      12.442\n",
            "bankruptcy_dummy     0.7368      0.153      4.819      0.000       0.437       1.037\n",
            "==============================================================================\n",
            "Omnibus:                     1043.269   Durbin-Watson:                   1.992\n",
            "Prob(Omnibus):                  0.000   Jarque-Bera (JB):             1402.913\n",
            "Skew:                           0.868   Prob(JB):                    2.30e-305\n",
            "Kurtosis:                       3.594   Cond. No.                         3.11\n",
            "==============================================================================\n",
            "\n",
            "Notes:\n",
            "[1] Standard Errors assume that the covariance matrix of the errors is correctly specified.\n"
          ]
        }
      ]
    },
    {
      "cell_type": "code",
      "source": [
        "table_reg2 = Stargazer([simple_reg_bankruptcy_dummy])\n",
        "\n",
        "table_reg2.rename_covariates({\"Intercept\": \"Constant\"})\n",
        "# This renames the \"Intercept\" row label to \"Constant\" in the table\n",
        "table_reg2.custom_columns([\"Homoskedastic SE\"], [1])\n",
        "table_reg2"
      ],
      "metadata": {
        "colab": {
          "base_uri": "https://localhost:8080/",
          "height": 332
        },
        "id": "tSCFaJvHIJHM",
        "outputId": "ce771034-bb3a-46ae-b341-b959942655ae"
      },
      "execution_count": 63,
      "outputs": [
        {
          "output_type": "execute_result",
          "data": {
            "text/plain": [
              "<stargazer.stargazer.Stargazer at 0x786698253150>"
            ],
            "text/html": [
              "<table style=\"text-align:center\"><tr><td colspan=\"2\" style=\"border-bottom: 1px solid black\"></td></tr>\n",
              "<tr><td style=\"text-align:left\"></td><td colspan=\"1\"><em>Dependent variable: interest_rate</em></td></tr><tr><td style=\"text-align:left\"></td><tr><td></td><td colspan=\"1\">Homoskedastic SE</td></tr><tr><td style=\"text-align:left\"></td><td>(1)</td></tr>\n",
              "<tr><td colspan=\"2\" style=\"border-bottom: 1px solid black\"></td></tr>\n",
              "\n",
              "<tr><td style=\"text-align:left\">Constant</td><td>12.338<sup>***</sup></td></tr>\n",
              "<tr><td style=\"text-align:left\"></td><td>(0.053)</td></tr>\n",
              "<tr><td style=\"text-align:left\">bankruptcy_dummy</td><td>0.737<sup>***</sup></td></tr>\n",
              "<tr><td style=\"text-align:left\"></td><td>(0.153)</td></tr>\n",
              "\n",
              "<td colspan=\"2\" style=\"border-bottom: 1px solid black\"></td></tr>\n",
              "<tr><td style=\"text-align: left\">Observations</td><td>10000</td></tr><tr><td style=\"text-align: left\">R<sup>2</sup></td><td>0.002</td></tr><tr><td style=\"text-align: left\">Adjusted R<sup>2</sup></td><td>0.002</td></tr><tr><td style=\"text-align: left\">Residual Std. Error</td><td>4.996 (df=9998)</td></tr><tr><td style=\"text-align: left\">F Statistic</td><td>23.218<sup>***</sup> (df=1; 9998)</td></tr>\n",
              "<tr><td colspan=\"2\" style=\"border-bottom: 1px solid black\"></td></tr><tr><td style=\"text-align: left\">Note:</td><td colspan=\"1\" style=\"text-align: right\"><sup>*</sup>p&lt;0.1; <sup>**</sup>p&lt;0.05; <sup>***</sup>p&lt;0.01</td></tr></table>"
            ]
          },
          "metadata": {},
          "execution_count": 63
        }
      ]
    },
    {
      "cell_type": "code",
      "source": [
        "html = table_reg2.render_html()\n",
        "# This line converts Stargazer regression table into HTML format (as a\n",
        "# string). It prepares the HTML for display or saving.\n",
        "\n",
        "\n",
        "with open(\"my_regression_table_bankruptcy_dummy.html\", \"w\") as f:\n",
        "  f.write(html)"
      ],
      "metadata": {
        "id": "rNs3g5raJr5m"
      },
      "execution_count": 64,
      "outputs": []
    },
    {
      "cell_type": "code",
      "source": [
        "print(df_cleaned['bankruptcy_dummy'].value_counts())"
      ],
      "metadata": {
        "colab": {
          "base_uri": "https://localhost:8080/"
        },
        "id": "GGuDJELLzgvL",
        "outputId": "f1483b75-80e9-4d88-be79-522d92eb3124"
      },
      "execution_count": 65,
      "outputs": [
        {
          "output_type": "stream",
          "name": "stdout",
          "text": [
            "bankruptcy_dummy\n",
            "0    8785\n",
            "1    1215\n",
            "Name: count, dtype: int64\n"
          ]
        }
      ]
    },
    {
      "cell_type": "markdown",
      "source": [
        "(c) Model 3: Categorical Variable Regression [7 marks]\n",
        "\n",
        "• Create dummy variables for verified income (specify reference category)\n",
        "\n",
        "• Estimate:\n",
        "\n",
        "interest rate = β0 + β1D1 + β2D2 + ε\n",
        "\n",
        "where D1, D2 are dummy variables for verified income\n",
        "\n",
        "• Compute the average interest rate for borrowers whose income source and amount are both unverified\n",
        "\n",
        "• Interpret coefficients"
      ],
      "metadata": {
        "id": "d-1zs4QjMYUs"
      }
    },
    {
      "cell_type": "code",
      "source": [
        "# Create two dummy variables:\n",
        "# D1 = 1 if verified_income = Source Verified, 0 otherwise\n",
        "# D2 = 1 if verified_income = Verified, 0 otherwise\n",
        "# Choose “Not Verified” as the reference category or left-out category,\n",
        "# so it is not included the regression model to avoid perfect collinearity.\n",
        "\n",
        "# Use Pandas method .astype('category') to convert a column to a categorical\n",
        "# data type.\n",
        "# Rearranges the categories in the specified order.\n",
        "# ordered=False means no ordinal relationship is assumed between them.\n",
        "# They're treated as nominal categories with no inherent ranking or ordering.\n",
        "\n",
        "df_cleaned['verified_income'] = df_cleaned[\"verified_income\"].astype('category')\n",
        "df_cleaned[\"verified_income\"] = df_cleaned[\"verified_income\"].cat.reorder_categories(\n",
        "    [\"Not Verified\", \"Source Verified\", \"Verified\"], ordered=False\n",
        ")\n",
        "\n",
        "# check the unique categories\n",
        "print(df_cleaned[\"verified_income\"].unique())"
      ],
      "metadata": {
        "colab": {
          "base_uri": "https://localhost:8080/"
        },
        "id": "V03wm93xS14x",
        "outputId": "03e0957c-822a-429c-c27c-e80333631c7d"
      },
      "execution_count": 66,
      "outputs": [
        {
          "output_type": "stream",
          "name": "stdout",
          "text": [
            "['Verified', 'Not Verified', 'Source Verified']\n",
            "Categories (3, object): ['Not Verified', 'Source Verified', 'Verified']\n"
          ]
        }
      ]
    },
    {
      "cell_type": "code",
      "source": [
        "# Model 3: Categorical regression with dummy variables\n",
        "# Use C(verified_income) to automatically create dummies\n",
        "# Set reference category 'Not Verified' manually\n",
        "reg_verified_income = smf.ols('interest_rate ~ C(verified_income, Treatment(reference=\"Not Verified\"))',data=df_cleaned).fit()\n",
        "\n",
        "# show summary\n",
        "print(reg_verified_income.summary())"
      ],
      "metadata": {
        "colab": {
          "base_uri": "https://localhost:8080/"
        },
        "id": "yfRLLOSMU0jr",
        "outputId": "fd9b6f6f-93d0-40a0-8a2b-303330cab795"
      },
      "execution_count": 67,
      "outputs": [
        {
          "output_type": "stream",
          "name": "stdout",
          "text": [
            "                            OLS Regression Results                            \n",
            "==============================================================================\n",
            "Dep. Variable:          interest_rate   R-squared:                       0.059\n",
            "Model:                            OLS   Adj. R-squared:                  0.059\n",
            "Method:                 Least Squares   F-statistic:                     315.9\n",
            "Date:                Tue, 20 May 2025   Prob (F-statistic):          8.92e-134\n",
            "Time:                        09:23:14   Log-Likelihood:                -29979.\n",
            "No. Observations:               10000   AIC:                         5.996e+04\n",
            "Df Residuals:                    9997   BIC:                         5.999e+04\n",
            "Df Model:                           2                                         \n",
            "Covariance Type:            nonrobust                                         \n",
            "==============================================================================================================================================\n",
            "                                                                                 coef    std err          t      P>|t|      [0.025      0.975]\n",
            "----------------------------------------------------------------------------------------------------------------------------------------------\n",
            "Intercept                                                                     11.0995      0.081    137.180      0.000      10.941      11.258\n",
            "C(verified_income, Treatment(reference=\"Not Verified\"))[T.Source Verified]     1.4160      0.111     12.787      0.000       1.199       1.633\n",
            "C(verified_income, Treatment(reference=\"Not Verified\"))[T.Verified]            3.2543      0.130     25.091      0.000       3.000       3.509\n",
            "==============================================================================\n",
            "Omnibus:                     1006.206   Durbin-Watson:                   1.993\n",
            "Prob(Omnibus):                  0.000   Jarque-Bera (JB):             1353.013\n",
            "Skew:                           0.834   Prob(JB):                    1.57e-294\n",
            "Kurtosis:                       3.681   Cond. No.                         3.71\n",
            "==============================================================================\n",
            "\n",
            "Notes:\n",
            "[1] Standard Errors assume that the covariance matrix of the errors is correctly specified.\n"
          ]
        }
      ]
    },
    {
      "cell_type": "code",
      "source": [
        "# Use Stargazer for presentation\n",
        "table_reg3 = Stargazer([reg_verified_income])\n",
        "# This renames the \"Intercept\" row label to \"Constant\" in the table\n",
        "table_reg3.rename_covariates({\"Intercept\": \"Constant\"})\n",
        "# [1] tells Stargazer how many models each column label applies to\n",
        "table_reg3.custom_columns([\"Homoskedastic SE\"], [1])\n",
        "\n",
        "table_reg3"
      ],
      "metadata": {
        "colab": {
          "base_uri": "https://localhost:8080/",
          "height": 377
        },
        "id": "hhrKy8ZoYpQv",
        "outputId": "8bff9df4-2718-43f4-b2eb-141177dc459c"
      },
      "execution_count": 68,
      "outputs": [
        {
          "output_type": "execute_result",
          "data": {
            "text/plain": [
              "<stargazer.stargazer.Stargazer at 0x7866980d9f50>"
            ],
            "text/html": [
              "<table style=\"text-align:center\"><tr><td colspan=\"2\" style=\"border-bottom: 1px solid black\"></td></tr>\n",
              "<tr><td style=\"text-align:left\"></td><td colspan=\"1\"><em>Dependent variable: interest_rate</em></td></tr><tr><td style=\"text-align:left\"></td><tr><td></td><td colspan=\"1\">Homoskedastic SE</td></tr><tr><td style=\"text-align:left\"></td><td>(1)</td></tr>\n",
              "<tr><td colspan=\"2\" style=\"border-bottom: 1px solid black\"></td></tr>\n",
              "\n",
              "<tr><td style=\"text-align:left\">C(verified_income, Treatment(reference=\"Not Verified\"))[T.Source Verified]</td><td>1.416<sup>***</sup></td></tr>\n",
              "<tr><td style=\"text-align:left\"></td><td>(0.111)</td></tr>\n",
              "<tr><td style=\"text-align:left\">C(verified_income, Treatment(reference=\"Not Verified\"))[T.Verified]</td><td>3.254<sup>***</sup></td></tr>\n",
              "<tr><td style=\"text-align:left\"></td><td>(0.130)</td></tr>\n",
              "<tr><td style=\"text-align:left\">Constant</td><td>11.099<sup>***</sup></td></tr>\n",
              "<tr><td style=\"text-align:left\"></td><td>(0.081)</td></tr>\n",
              "\n",
              "<td colspan=\"2\" style=\"border-bottom: 1px solid black\"></td></tr>\n",
              "<tr><td style=\"text-align: left\">Observations</td><td>10000</td></tr><tr><td style=\"text-align: left\">R<sup>2</sup></td><td>0.059</td></tr><tr><td style=\"text-align: left\">Adjusted R<sup>2</sup></td><td>0.059</td></tr><tr><td style=\"text-align: left\">Residual Std. Error</td><td>4.851 (df=9997)</td></tr><tr><td style=\"text-align: left\">F Statistic</td><td>315.941<sup>***</sup> (df=2; 9997)</td></tr>\n",
              "<tr><td colspan=\"2\" style=\"border-bottom: 1px solid black\"></td></tr><tr><td style=\"text-align: left\">Note:</td><td colspan=\"1\" style=\"text-align: right\"><sup>*</sup>p&lt;0.1; <sup>**</sup>p&lt;0.05; <sup>***</sup>p&lt;0.01</td></tr></table>"
            ]
          },
          "metadata": {},
          "execution_count": 68
        }
      ]
    },
    {
      "cell_type": "code",
      "source": [
        "html = table_reg3.render_html()\n",
        "# This line converts Stargazer regression table into HTML format (as a\n",
        "# string). It prepares the HTML for display or saving.\n",
        "\n",
        "\n",
        "with open(\"my_regression_table_verified_income.html\", \"w\") as f:\n",
        "  f.write(html)"
      ],
      "metadata": {
        "id": "OcySv2ITaWB9"
      },
      "execution_count": 69,
      "outputs": []
    },
    {
      "cell_type": "markdown",
      "source": [
        "(d) Model 4: Multiple Regression\n",
        "\n",
        "• Estimate:\n",
        "\n",
        "interest rate = β0 + β1 debt_to_income + β2 credit_util + β3 bankruptcy_dummy + ε\n",
        "\n",
        "• Compare with Model 1 and Model 2 results.\n",
        "\n",
        "• Interpret coefficients"
      ],
      "metadata": {
        "id": "ktNHh49fphOA"
      }
    },
    {
      "cell_type": "code",
      "source": [
        "# Model 4: Multiple Regression (with Three Predictors)\n",
        "# examines how debt-to-income ratio, credit utilization, and bankruptcy history\n",
        "# jointly affect the interest rate.\n",
        "model4 = smf.ols('interest_rate ~ debt_to_income + credit_util + bankruptcy_dummy', data=df_cleaned).fit()\n",
        "print(model4.summary())"
      ],
      "metadata": {
        "colab": {
          "base_uri": "https://localhost:8080/"
        },
        "id": "huQP2cq4_sWy",
        "outputId": "267375fe-db50-45e5-ca8a-15cde63d2313"
      },
      "execution_count": 70,
      "outputs": [
        {
          "output_type": "stream",
          "name": "stdout",
          "text": [
            "                            OLS Regression Results                            \n",
            "==============================================================================\n",
            "Dep. Variable:          interest_rate   R-squared:                       0.078\n",
            "Model:                            OLS   Adj. R-squared:                  0.077\n",
            "Method:                 Least Squares   F-statistic:                     279.9\n",
            "Date:                Tue, 20 May 2025   Prob (F-statistic):          1.85e-174\n",
            "Time:                        09:23:14   Log-Likelihood:                -29803.\n",
            "No. Observations:                9976   AIC:                         5.961e+04\n",
            "Df Residuals:                    9972   BIC:                         5.964e+04\n",
            "Df Model:                           3                                         \n",
            "Covariance Type:            nonrobust                                         \n",
            "====================================================================================\n",
            "                       coef    std err          t      P>|t|      [0.025      0.975]\n",
            "------------------------------------------------------------------------------------\n",
            "Intercept            9.8708      0.102     96.427      0.000       9.670      10.071\n",
            "debt_to_income       0.0365      0.003     11.282      0.000       0.030       0.043\n",
            "credit_util          4.4113      0.180     24.480      0.000       4.058       4.765\n",
            "bankruptcy_dummy     0.5725      0.147      3.890      0.000       0.284       0.861\n",
            "==============================================================================\n",
            "Omnibus:                     1135.560   Durbin-Watson:                   1.983\n",
            "Prob(Omnibus):                  0.000   Jarque-Bera (JB):             1598.398\n",
            "Skew:                           0.889   Prob(JB):                         0.00\n",
            "Kurtosis:                       3.827   Cond. No.                         98.4\n",
            "==============================================================================\n",
            "\n",
            "Notes:\n",
            "[1] Standard Errors assume that the covariance matrix of the errors is correctly specified.\n"
          ]
        }
      ]
    },
    {
      "cell_type": "code",
      "source": [
        "# Use Stargazer for presentation\n",
        "table_reg4 = Stargazer([model4])\n",
        "# This renames the \"Intercept\" row label to \"Constant\" in the table\n",
        "table_reg4.rename_covariates({\"Intercept\": \"Constant\"})\n",
        "# [1] tells Stargazer how many models each column label applies to\n",
        "table_reg4.custom_columns([\"Homoskedastic SE\"], [1])\n",
        "\n",
        "table_reg4"
      ],
      "metadata": {
        "colab": {
          "base_uri": "https://localhost:8080/",
          "height": 422
        },
        "id": "iQP_oMXAgGkV",
        "outputId": "e0c8b533-3438-4a0a-d576-c483e5eeda7e"
      },
      "execution_count": 71,
      "outputs": [
        {
          "output_type": "execute_result",
          "data": {
            "text/plain": [
              "<stargazer.stargazer.Stargazer at 0x7866980d96d0>"
            ],
            "text/html": [
              "<table style=\"text-align:center\"><tr><td colspan=\"2\" style=\"border-bottom: 1px solid black\"></td></tr>\n",
              "<tr><td style=\"text-align:left\"></td><td colspan=\"1\"><em>Dependent variable: interest_rate</em></td></tr><tr><td style=\"text-align:left\"></td><tr><td></td><td colspan=\"1\">Homoskedastic SE</td></tr><tr><td style=\"text-align:left\"></td><td>(1)</td></tr>\n",
              "<tr><td colspan=\"2\" style=\"border-bottom: 1px solid black\"></td></tr>\n",
              "\n",
              "<tr><td style=\"text-align:left\">Constant</td><td>9.871<sup>***</sup></td></tr>\n",
              "<tr><td style=\"text-align:left\"></td><td>(0.102)</td></tr>\n",
              "<tr><td style=\"text-align:left\">bankruptcy_dummy</td><td>0.573<sup>***</sup></td></tr>\n",
              "<tr><td style=\"text-align:left\"></td><td>(0.147)</td></tr>\n",
              "<tr><td style=\"text-align:left\">credit_util</td><td>4.411<sup>***</sup></td></tr>\n",
              "<tr><td style=\"text-align:left\"></td><td>(0.180)</td></tr>\n",
              "<tr><td style=\"text-align:left\">debt_to_income</td><td>0.036<sup>***</sup></td></tr>\n",
              "<tr><td style=\"text-align:left\"></td><td>(0.003)</td></tr>\n",
              "\n",
              "<td colspan=\"2\" style=\"border-bottom: 1px solid black\"></td></tr>\n",
              "<tr><td style=\"text-align: left\">Observations</td><td>9976</td></tr><tr><td style=\"text-align: left\">R<sup>2</sup></td><td>0.078</td></tr><tr><td style=\"text-align: left\">Adjusted R<sup>2</sup></td><td>0.077</td></tr><tr><td style=\"text-align: left\">Residual Std. Error</td><td>4.801 (df=9972)</td></tr><tr><td style=\"text-align: left\">F Statistic</td><td>279.922<sup>***</sup> (df=3; 9972)</td></tr>\n",
              "<tr><td colspan=\"2\" style=\"border-bottom: 1px solid black\"></td></tr><tr><td style=\"text-align: left\">Note:</td><td colspan=\"1\" style=\"text-align: right\"><sup>*</sup>p&lt;0.1; <sup>**</sup>p&lt;0.05; <sup>***</sup>p&lt;0.01</td></tr></table>"
            ]
          },
          "metadata": {},
          "execution_count": 71
        }
      ]
    },
    {
      "cell_type": "code",
      "source": [
        "html = table_reg4.render_html()\n",
        "# This line converts Stargazer regression table into HTML format (as a\n",
        "# string). It prepares the HTML for display or saving.\n",
        "\n",
        "\n",
        "with open(\"my_regression_table_model4.html\", \"w\") as f:\n",
        "  f.write(html)"
      ],
      "metadata": {
        "id": "1Sqn6Gj8ho6P"
      },
      "execution_count": 72,
      "outputs": []
    },
    {
      "cell_type": "code",
      "source": [
        "table_compare = Stargazer([simple_debt_to_income, simple_reg_bankruptcy_dummy, model4])\n",
        "\n",
        "table_compare.rename_covariates({\"Intercept\": \"Constant\"})\n",
        "# This renames the \"Intercept\" row label to \"Constant\" in the table\n",
        "table_compare.custom_columns([\"Model 1\", \"Model 2\", \"Model 4\"],\n",
        "[1, 1, 1])\n",
        "table_compare\n",
        "# second list [1, 1, 1] tells Stargazer how many models belong under each\n",
        "# column. Since each label only corresponds to one model, it's [1, 1, 1]."
      ],
      "metadata": {
        "colab": {
          "base_uri": "https://localhost:8080/",
          "height": 422
        },
        "id": "J4UDDlGOl9py",
        "outputId": "67193d23-bdb4-44e1-82af-e6fc47169dde"
      },
      "execution_count": 73,
      "outputs": [
        {
          "output_type": "execute_result",
          "data": {
            "text/plain": [
              "<stargazer.stargazer.Stargazer at 0x7866982ec810>"
            ],
            "text/html": [
              "<table style=\"text-align:center\"><tr><td colspan=\"4\" style=\"border-bottom: 1px solid black\"></td></tr>\n",
              "<tr><td style=\"text-align:left\"></td><td colspan=\"3\"><em>Dependent variable: interest_rate</em></td></tr><tr><td style=\"text-align:left\"></td><tr><td></td><td colspan=\"1\">Model 1</td><td colspan=\"1\">Model 2</td><td colspan=\"1\">Model 4</td></tr><tr><td style=\"text-align:left\"></td><td>(1)</td><td>(2)</td><td>(3)</td></tr>\n",
              "<tr><td colspan=\"4\" style=\"border-bottom: 1px solid black\"></td></tr>\n",
              "\n",
              "<tr><td style=\"text-align:left\">Constant</td><td>11.511<sup>***</sup></td><td>12.338<sup>***</sup></td><td>9.871<sup>***</sup></td></tr>\n",
              "<tr><td style=\"text-align:left\"></td><td>(0.081)</td><td>(0.053)</td><td>(0.102)</td></tr>\n",
              "<tr><td style=\"text-align:left\">bankruptcy_dummy</td><td></td><td>0.737<sup>***</sup></td><td>0.573<sup>***</sup></td></tr>\n",
              "<tr><td style=\"text-align:left\"></td><td></td><td>(0.153)</td><td>(0.147)</td></tr>\n",
              "<tr><td style=\"text-align:left\">credit_util</td><td></td><td></td><td>4.411<sup>***</sup></td></tr>\n",
              "<tr><td style=\"text-align:left\"></td><td></td><td></td><td>(0.180)</td></tr>\n",
              "<tr><td style=\"text-align:left\">debt_to_income</td><td>0.047<sup>***</sup></td><td></td><td>0.036<sup>***</sup></td></tr>\n",
              "<tr><td style=\"text-align:left\"></td><td>(0.003)</td><td></td><td>(0.003)</td></tr>\n",
              "\n",
              "<td colspan=\"4\" style=\"border-bottom: 1px solid black\"></td></tr>\n",
              "<tr><td style=\"text-align: left\">Observations</td><td>9976</td><td>10000</td><td>9976</td></tr><tr><td style=\"text-align: left\">R<sup>2</sup></td><td>0.020</td><td>0.002</td><td>0.078</td></tr><tr><td style=\"text-align: left\">Adjusted R<sup>2</sup></td><td>0.020</td><td>0.002</td><td>0.077</td></tr><tr><td style=\"text-align: left\">Residual Std. Error</td><td>4.948 (df=9974)</td><td>4.996 (df=9998)</td><td>4.801 (df=9972)</td></tr><tr><td style=\"text-align: left\">F Statistic</td><td>204.233<sup>***</sup> (df=1; 9974)</td><td>23.218<sup>***</sup> (df=1; 9998)</td><td>279.922<sup>***</sup> (df=3; 9972)</td></tr>\n",
              "<tr><td colspan=\"4\" style=\"border-bottom: 1px solid black\"></td></tr><tr><td style=\"text-align: left\">Note:</td><td colspan=\"3\" style=\"text-align: right\"><sup>*</sup>p&lt;0.1; <sup>**</sup>p&lt;0.05; <sup>***</sup>p&lt;0.01</td></tr></table>"
            ]
          },
          "metadata": {},
          "execution_count": 73
        }
      ]
    },
    {
      "cell_type": "code",
      "source": [
        "html = table_compare.render_html()\n",
        "# This line converts Stargazer regression table into HTML format (as a\n",
        "# string). It prepares the HTML for display or saving.\n",
        "\n",
        "\n",
        "with open(\"my_regression_table_compare.html\", \"w\") as f:\n",
        "  f.write(html)"
      ],
      "metadata": {
        "id": "bUqDdqPpnuOx"
      },
      "execution_count": 74,
      "outputs": []
    },
    {
      "cell_type": "markdown",
      "source": [
        "(e) Model 5: Enhanced Multiple Regression\n",
        "\n",
        "• Add these variables to Model 4:\n",
        "\n",
        "annual income, loan amount, term, grade, emp length, homeownership, loan purpose, credit checks\n",
        "\n",
        "• Create appropriate dummy variables (k - 1 for k categories)\n",
        "\n",
        "• State reference categories\n",
        "\n",
        "• Use term as dummy variable\n",
        "\n",
        "• Compute and report the residuals for the first five observations"
      ],
      "metadata": {
        "id": "ClqobUzCaHJk"
      }
    },
    {
      "cell_type": "markdown",
      "source": [
        "Model 5 Formula\n",
        "\n",
        "interest_rate = β₀ + β₁(debt_to_income) + β₂(credit_util) + β₃(bankruptcy_dummy)\n",
        "              + β₄(annual_income) + β₅(loan_amount) + β₆(term)\n",
        "              + Σβₖ(grade dummies) + Σβₗ(emp_length)\n",
        "              + Σβₘ(homeownership dummies) + Σβₙ(purpose dummies)\n",
        "              + βₒ(credit_checks) + ε"
      ],
      "metadata": {
        "id": "oBf8Ns9HzP2B"
      }
    },
    {
      "cell_type": "code",
      "source": [
        "# Use the method unique to count the unique values for term\n",
        "term_u_values=df_cleaned[\"term\"].unique()\n",
        "print(\"Term unique values\", term_u_values)"
      ],
      "metadata": {
        "colab": {
          "base_uri": "https://localhost:8080/"
        },
        "id": "_2pWxNSX22aS",
        "outputId": "e8ff6d55-504d-4a60-edc1-ccae6d42df0f"
      },
      "execution_count": 75,
      "outputs": [
        {
          "output_type": "stream",
          "name": "stdout",
          "text": [
            "Term unique values [60 36]\n"
          ]
        }
      ]
    },
    {
      "cell_type": "code",
      "source": [
        "# Use the method unique to count the unique values for grade\n",
        "grade_u_values=df_cleaned[\"grade\"].unique()\n",
        "print(\"grade unique values\", grade_u_values)"
      ],
      "metadata": {
        "colab": {
          "base_uri": "https://localhost:8080/"
        },
        "id": "nXRyL4KG56aK",
        "outputId": "67ed82ff-5967-4bdb-c892-29c4fdbcd54e"
      },
      "execution_count": 76,
      "outputs": [
        {
          "output_type": "stream",
          "name": "stdout",
          "text": [
            "grade unique values ['C' 'D' 'A' 'B' 'F' 'E' 'G']\n"
          ]
        }
      ]
    },
    {
      "cell_type": "code",
      "source": [
        "# Use the method unique to count the unique values for employment length\n",
        "emp_length_u_values=df_cleaned[\"emp_length\"].unique()\n",
        "print(\"Employment length unique values\", emp_length_u_values)"
      ],
      "metadata": {
        "colab": {
          "base_uri": "https://localhost:8080/"
        },
        "id": "TOBemWFj3OYf",
        "outputId": "f9c65678-caa9-4ab6-b109-ab9fb6e0da5b"
      },
      "execution_count": 77,
      "outputs": [
        {
          "output_type": "stream",
          "name": "stdout",
          "text": [
            "Employment length unique values [ 3. 10.  1. nan  2.  5.  7.  4.  9.  0.  6.  8.]\n"
          ]
        }
      ]
    },
    {
      "cell_type": "code",
      "source": [
        "# Use the method unique to count the unique values for loan_purpose\n",
        "loan_purpose_u_values=df_cleaned[\"loan_purpose\"].unique()\n",
        "print(\"loan_purpose unique values\", loan_purpose_u_values)"
      ],
      "metadata": {
        "colab": {
          "base_uri": "https://localhost:8080/"
        },
        "id": "0cltP-i04gRS",
        "outputId": "9fe96bfe-b29f-4f28-e1ad-3555677bfceb"
      },
      "execution_count": 78,
      "outputs": [
        {
          "output_type": "stream",
          "name": "stdout",
          "text": [
            "loan_purpose unique values ['moving' 'debt_consolidation' 'other' 'credit_card' 'home_improvement'\n",
            " 'medical' 'house' 'small_business' 'car' 'major_purchase' 'vacation'\n",
            " 'renewable_energy']\n"
          ]
        }
      ]
    },
    {
      "cell_type": "code",
      "source": [
        "# Use the method unique to count the unique values for credit_checks\n",
        "credit_checks_u_values=df_cleaned[\"credit_checks\"].unique()\n",
        "print(\"credit checks unique values\", credit_checks_u_values)"
      ],
      "metadata": {
        "colab": {
          "base_uri": "https://localhost:8080/"
        },
        "id": "156pNYw95D-T",
        "outputId": "de55eab8-8d64-4a2f-f78c-88e57e205a4a"
      },
      "execution_count": 79,
      "outputs": [
        {
          "output_type": "stream",
          "name": "stdout",
          "text": [
            "credit checks unique values [ 6  1  4  0  7  3  8  2  5 13  9 10 12 11 17 15 16 14 22 18 26 20 19 24\n",
            " 21 29]\n"
          ]
        }
      ]
    },
    {
      "cell_type": "code",
      "source": [
        "# C() denotes categorical variables, which are dummy-coded automatically.\n",
        "# Model 5 is also a multiple linear regression\n",
        "model5 = smf.ols(\n",
        "    formula=\"\"\"\n",
        "        interest_rate ~ debt_to_income + credit_util + bankruptcy_dummy +\n",
        "        annual_income + loan_amount + C(term) + C(grade) +\n",
        "        emp_length + C(homeownership) + C(loan_purpose) + credit_checks\n",
        "    \"\"\",\n",
        "    data=df_cleaned\n",
        ").fit()"
      ],
      "metadata": {
        "id": "4e-M4l_y-ZOi"
      },
      "execution_count": 80,
      "outputs": []
    },
    {
      "cell_type": "code",
      "source": [
        "print(model5.summary())"
      ],
      "metadata": {
        "colab": {
          "base_uri": "https://localhost:8080/"
        },
        "id": "zYDQOUE-Vn4S",
        "outputId": "5f957e68-9339-4720-b28a-7abbf4e7f902"
      },
      "execution_count": 81,
      "outputs": [
        {
          "output_type": "stream",
          "name": "stdout",
          "text": [
            "                            OLS Regression Results                            \n",
            "==============================================================================\n",
            "Dep. Variable:          interest_rate   R-squared:                       0.952\n",
            "Model:                            OLS   Adj. R-squared:                  0.952\n",
            "Method:                 Least Squares   F-statistic:                     6723.\n",
            "Date:                Tue, 20 May 2025   Prob (F-statistic):               0.00\n",
            "Time:                        09:23:14   Log-Likelihood:                -13874.\n",
            "No. Observations:                9182   AIC:                         2.780e+04\n",
            "Df Residuals:                    9154   BIC:                         2.800e+04\n",
            "Df Model:                          27                                         \n",
            "Covariance Type:            nonrobust                                         \n",
            "=========================================================================================================\n",
            "                                            coef    std err          t      P>|t|      [0.025      0.975]\n",
            "---------------------------------------------------------------------------------------------------------\n",
            "Intercept                                 6.6089      0.110     60.106      0.000       6.393       6.824\n",
            "C(term)[T.60]                             0.1857      0.029      6.336      0.000       0.128       0.243\n",
            "C(grade)[T.B]                             3.6841      0.032    114.206      0.000       3.621       3.747\n",
            "C(grade)[T.C]                             7.2787      0.035    208.496      0.000       7.210       7.347\n",
            "C(grade)[T.D]                            12.1571      0.042    288.487      0.000      12.075      12.240\n",
            "C(grade)[T.E]                            18.1428      0.071    254.914      0.000      18.003      18.282\n",
            "C(grade)[T.F]                            22.3795      0.151    147.937      0.000      22.083      22.676\n",
            "C(grade)[T.G]                            23.7773      0.333     71.326      0.000      23.124      24.431\n",
            "C(homeownership)[T.OWN]                   0.0013      0.038      0.035      0.972      -0.073       0.075\n",
            "C(homeownership)[T.RENT]                  0.0202      0.030      0.665      0.506      -0.039       0.080\n",
            "C(loan_purpose)[T.credit_card]           -0.0557      0.106     -0.528      0.598      -0.263       0.151\n",
            "C(loan_purpose)[T.debt_consolidation]     0.0417      0.104      0.400      0.689      -0.162       0.246\n",
            "C(loan_purpose)[T.home_improvement]      -0.1252      0.112     -1.117      0.264      -0.345       0.095\n",
            "C(loan_purpose)[T.house]                 -0.0313      0.139     -0.226      0.821      -0.303       0.240\n",
            "C(loan_purpose)[T.major_purchase]        -0.0259      0.122     -0.213      0.831      -0.265       0.213\n",
            "C(loan_purpose)[T.medical]                0.0045      0.139      0.033      0.974      -0.268       0.277\n",
            "C(loan_purpose)[T.moving]                -0.0455      0.168     -0.270      0.787      -0.375       0.284\n",
            "C(loan_purpose)[T.other]                  0.0056      0.109      0.051      0.959      -0.209       0.220\n",
            "C(loan_purpose)[T.renewable_energy]       0.3588      0.362      0.991      0.322      -0.351       1.069\n",
            "C(loan_purpose)[T.small_business]         0.0559      0.143      0.390      0.697      -0.225       0.337\n",
            "C(loan_purpose)[T.vacation]               0.1298      0.180      0.720      0.472      -0.224       0.483\n",
            "debt_to_income                            0.0029      0.001      3.440      0.001       0.001       0.005\n",
            "credit_util                               0.3289      0.052      6.281      0.000       0.226       0.432\n",
            "bankruptcy_dummy                          0.0238      0.036      0.658      0.511      -0.047       0.095\n",
            "annual_income                         -4.185e-07   1.92e-07     -2.175      0.030   -7.96e-07   -4.13e-08\n",
            "loan_amount                           -2.515e-06    1.3e-06     -1.939      0.052   -5.06e-06    2.69e-08\n",
            "emp_length                               -0.0007      0.003     -0.217      0.828      -0.007       0.006\n",
            "credit_checks                             0.0316      0.005      6.384      0.000       0.022       0.041\n",
            "==============================================================================\n",
            "Omnibus:                      753.630   Durbin-Watson:                   2.013\n",
            "Prob(Omnibus):                  0.000   Jarque-Bera (JB):             4502.849\n",
            "Skew:                          -0.104   Prob(JB):                         0.00\n",
            "Kurtosis:                       6.424   Cond. No.                     3.74e+06\n",
            "==============================================================================\n",
            "\n",
            "Notes:\n",
            "[1] Standard Errors assume that the covariance matrix of the errors is correctly specified.\n",
            "[2] The condition number is large, 3.74e+06. This might indicate that there are\n",
            "strong multicollinearity or other numerical problems.\n"
          ]
        }
      ]
    },
    {
      "cell_type": "code",
      "source": [
        "table_reg5 = Stargazer([model5])\n",
        "\n",
        "table_reg5.rename_covariates({\"Intercept\": \"Constant\"})\n",
        "# This renames the \"Intercept\" row label to \"Constant\" in the table\n",
        "table_reg5.custom_columns([\"Model 5\"],\n",
        "[1])\n",
        "table_reg5\n",
        "# The second list [1] tells Stargazer how many models belong under each\n",
        "# column. Since each label only corresponds to one model, it's [1]."
      ],
      "metadata": {
        "colab": {
          "base_uri": "https://localhost:8080/",
          "height": 1000
        },
        "id": "XQX-75FfCpgA",
        "outputId": "5cbea1e6-fc92-43e8-e02b-54bf649513d9"
      },
      "execution_count": 82,
      "outputs": [
        {
          "output_type": "execute_result",
          "data": {
            "text/plain": [
              "<stargazer.stargazer.Stargazer at 0x7866980903d0>"
            ],
            "text/html": [
              "<table style=\"text-align:center\"><tr><td colspan=\"2\" style=\"border-bottom: 1px solid black\"></td></tr>\n",
              "<tr><td style=\"text-align:left\"></td><td colspan=\"1\"><em>Dependent variable: interest_rate</em></td></tr><tr><td style=\"text-align:left\"></td><tr><td></td><td colspan=\"1\">Model 5</td></tr><tr><td style=\"text-align:left\"></td><td>(1)</td></tr>\n",
              "<tr><td colspan=\"2\" style=\"border-bottom: 1px solid black\"></td></tr>\n",
              "\n",
              "<tr><td style=\"text-align:left\">C(grade)[T.B]</td><td>3.684<sup>***</sup></td></tr>\n",
              "<tr><td style=\"text-align:left\"></td><td>(0.032)</td></tr>\n",
              "<tr><td style=\"text-align:left\">C(grade)[T.C]</td><td>7.279<sup>***</sup></td></tr>\n",
              "<tr><td style=\"text-align:left\"></td><td>(0.035)</td></tr>\n",
              "<tr><td style=\"text-align:left\">C(grade)[T.D]</td><td>12.157<sup>***</sup></td></tr>\n",
              "<tr><td style=\"text-align:left\"></td><td>(0.042)</td></tr>\n",
              "<tr><td style=\"text-align:left\">C(grade)[T.E]</td><td>18.143<sup>***</sup></td></tr>\n",
              "<tr><td style=\"text-align:left\"></td><td>(0.071)</td></tr>\n",
              "<tr><td style=\"text-align:left\">C(grade)[T.F]</td><td>22.379<sup>***</sup></td></tr>\n",
              "<tr><td style=\"text-align:left\"></td><td>(0.151)</td></tr>\n",
              "<tr><td style=\"text-align:left\">C(grade)[T.G]</td><td>23.777<sup>***</sup></td></tr>\n",
              "<tr><td style=\"text-align:left\"></td><td>(0.333)</td></tr>\n",
              "<tr><td style=\"text-align:left\">C(homeownership)[T.OWN]</td><td>0.001<sup></sup></td></tr>\n",
              "<tr><td style=\"text-align:left\"></td><td>(0.038)</td></tr>\n",
              "<tr><td style=\"text-align:left\">C(homeownership)[T.RENT]</td><td>0.020<sup></sup></td></tr>\n",
              "<tr><td style=\"text-align:left\"></td><td>(0.030)</td></tr>\n",
              "<tr><td style=\"text-align:left\">C(loan_purpose)[T.credit_card]</td><td>-0.056<sup></sup></td></tr>\n",
              "<tr><td style=\"text-align:left\"></td><td>(0.106)</td></tr>\n",
              "<tr><td style=\"text-align:left\">C(loan_purpose)[T.debt_consolidation]</td><td>0.042<sup></sup></td></tr>\n",
              "<tr><td style=\"text-align:left\"></td><td>(0.104)</td></tr>\n",
              "<tr><td style=\"text-align:left\">C(loan_purpose)[T.home_improvement]</td><td>-0.125<sup></sup></td></tr>\n",
              "<tr><td style=\"text-align:left\"></td><td>(0.112)</td></tr>\n",
              "<tr><td style=\"text-align:left\">C(loan_purpose)[T.house]</td><td>-0.031<sup></sup></td></tr>\n",
              "<tr><td style=\"text-align:left\"></td><td>(0.139)</td></tr>\n",
              "<tr><td style=\"text-align:left\">C(loan_purpose)[T.major_purchase]</td><td>-0.026<sup></sup></td></tr>\n",
              "<tr><td style=\"text-align:left\"></td><td>(0.122)</td></tr>\n",
              "<tr><td style=\"text-align:left\">C(loan_purpose)[T.medical]</td><td>0.005<sup></sup></td></tr>\n",
              "<tr><td style=\"text-align:left\"></td><td>(0.139)</td></tr>\n",
              "<tr><td style=\"text-align:left\">C(loan_purpose)[T.moving]</td><td>-0.045<sup></sup></td></tr>\n",
              "<tr><td style=\"text-align:left\"></td><td>(0.168)</td></tr>\n",
              "<tr><td style=\"text-align:left\">C(loan_purpose)[T.other]</td><td>0.006<sup></sup></td></tr>\n",
              "<tr><td style=\"text-align:left\"></td><td>(0.109)</td></tr>\n",
              "<tr><td style=\"text-align:left\">C(loan_purpose)[T.renewable_energy]</td><td>0.359<sup></sup></td></tr>\n",
              "<tr><td style=\"text-align:left\"></td><td>(0.362)</td></tr>\n",
              "<tr><td style=\"text-align:left\">C(loan_purpose)[T.small_business]</td><td>0.056<sup></sup></td></tr>\n",
              "<tr><td style=\"text-align:left\"></td><td>(0.143)</td></tr>\n",
              "<tr><td style=\"text-align:left\">C(loan_purpose)[T.vacation]</td><td>0.130<sup></sup></td></tr>\n",
              "<tr><td style=\"text-align:left\"></td><td>(0.180)</td></tr>\n",
              "<tr><td style=\"text-align:left\">C(term)[T.60]</td><td>0.186<sup>***</sup></td></tr>\n",
              "<tr><td style=\"text-align:left\"></td><td>(0.029)</td></tr>\n",
              "<tr><td style=\"text-align:left\">Constant</td><td>6.609<sup>***</sup></td></tr>\n",
              "<tr><td style=\"text-align:left\"></td><td>(0.110)</td></tr>\n",
              "<tr><td style=\"text-align:left\">annual_income</td><td>-0.000<sup>**</sup></td></tr>\n",
              "<tr><td style=\"text-align:left\"></td><td>(0.000)</td></tr>\n",
              "<tr><td style=\"text-align:left\">bankruptcy_dummy</td><td>0.024<sup></sup></td></tr>\n",
              "<tr><td style=\"text-align:left\"></td><td>(0.036)</td></tr>\n",
              "<tr><td style=\"text-align:left\">credit_checks</td><td>0.032<sup>***</sup></td></tr>\n",
              "<tr><td style=\"text-align:left\"></td><td>(0.005)</td></tr>\n",
              "<tr><td style=\"text-align:left\">credit_util</td><td>0.329<sup>***</sup></td></tr>\n",
              "<tr><td style=\"text-align:left\"></td><td>(0.052)</td></tr>\n",
              "<tr><td style=\"text-align:left\">debt_to_income</td><td>0.003<sup>***</sup></td></tr>\n",
              "<tr><td style=\"text-align:left\"></td><td>(0.001)</td></tr>\n",
              "<tr><td style=\"text-align:left\">emp_length</td><td>-0.001<sup></sup></td></tr>\n",
              "<tr><td style=\"text-align:left\"></td><td>(0.003)</td></tr>\n",
              "<tr><td style=\"text-align:left\">loan_amount</td><td>-0.000<sup>*</sup></td></tr>\n",
              "<tr><td style=\"text-align:left\"></td><td>(0.000)</td></tr>\n",
              "\n",
              "<td colspan=\"2\" style=\"border-bottom: 1px solid black\"></td></tr>\n",
              "<tr><td style=\"text-align: left\">Observations</td><td>9182</td></tr><tr><td style=\"text-align: left\">R<sup>2</sup></td><td>0.952</td></tr><tr><td style=\"text-align: left\">Adjusted R<sup>2</sup></td><td>0.952</td></tr><tr><td style=\"text-align: left\">Residual Std. Error</td><td>1.098 (df=9154)</td></tr><tr><td style=\"text-align: left\">F Statistic</td><td>6722.902<sup>***</sup> (df=27; 9154)</td></tr>\n",
              "<tr><td colspan=\"2\" style=\"border-bottom: 1px solid black\"></td></tr><tr><td style=\"text-align: left\">Note:</td><td colspan=\"1\" style=\"text-align: right\"><sup>*</sup>p&lt;0.1; <sup>**</sup>p&lt;0.05; <sup>***</sup>p&lt;0.01</td></tr></table>"
            ]
          },
          "metadata": {},
          "execution_count": 82
        }
      ]
    },
    {
      "cell_type": "code",
      "source": [
        "residuals = model5.resid\n",
        "print(residuals.head(5))"
      ],
      "metadata": {
        "colab": {
          "base_uri": "https://localhost:8080/"
        },
        "id": "kJ5Ei1lZ_Dgx",
        "outputId": "861b7a3c-19f1-446a-ab35-f18fc0803ab5"
      },
      "execution_count": 83,
      "outputs": [
        {
          "output_type": "stream",
          "name": "stdout",
          "text": [
            "0   -0.270227\n",
            "1   -1.422690\n",
            "2   -2.083993\n",
            "3    0.022217\n",
            "4   -0.342447\n",
            "dtype: float64\n"
          ]
        }
      ]
    },
    {
      "cell_type": "markdown",
      "source": [
        "3.2 Results Presentation                                                                              \n",
        "Present all regression results in one table:\n",
        "\n",
        "•  Columns for Models 1-5\n",
        "\n",
        "•  Coefficients with standard errors in parentheses\n",
        "\n",
        "•  Significance levels: *p < 0.1, **p < 0.05, ***p < 0.01\n",
        "\n",
        "•  R^2, number of observations, F-statistics"
      ],
      "metadata": {
        "id": "F40vWt73L63I"
      }
    },
    {
      "cell_type": "code",
      "source": [
        "table = Stargazer([simple_debt_to_income, simple_reg_bankruptcy_dummy, reg_verified_income, model4, model5])\n",
        "\n",
        "table.rename_covariates({\"Intercept\": \"Constant\"})\n",
        "# This renames the \"Intercept\" row label to \"Constant\" in the table\n",
        "table.custom_columns([\"Model 1\", \"Model 2\", \"Model 3\", \"Model 4\", \"Model 5\"], [1, 1, 1, 1, 1])\n",
        "table"
      ],
      "metadata": {
        "colab": {
          "base_uri": "https://localhost:8080/",
          "height": 1000
        },
        "id": "AnSEjycGmOJq",
        "outputId": "b478c075-11d4-4d7c-dd46-ffaca368f5f5"
      },
      "execution_count": 84,
      "outputs": [
        {
          "output_type": "execute_result",
          "data": {
            "text/plain": [
              "<stargazer.stargazer.Stargazer at 0x786698092790>"
            ],
            "text/html": [
              "<table style=\"text-align:center\"><tr><td colspan=\"6\" style=\"border-bottom: 1px solid black\"></td></tr>\n",
              "<tr><td style=\"text-align:left\"></td><td colspan=\"5\"><em>Dependent variable: interest_rate</em></td></tr><tr><td style=\"text-align:left\"></td><tr><td></td><td colspan=\"1\">Model 1</td><td colspan=\"1\">Model 2</td><td colspan=\"1\">Model 3</td><td colspan=\"1\">Model 4</td><td colspan=\"1\">Model 5</td></tr><tr><td style=\"text-align:left\"></td><td>(1)</td><td>(2)</td><td>(3)</td><td>(4)</td><td>(5)</td></tr>\n",
              "<tr><td colspan=\"6\" style=\"border-bottom: 1px solid black\"></td></tr>\n",
              "\n",
              "<tr><td style=\"text-align:left\">C(grade)[T.B]</td><td></td><td></td><td></td><td></td><td>3.684<sup>***</sup></td></tr>\n",
              "<tr><td style=\"text-align:left\"></td><td></td><td></td><td></td><td></td><td>(0.032)</td></tr>\n",
              "<tr><td style=\"text-align:left\">C(grade)[T.C]</td><td></td><td></td><td></td><td></td><td>7.279<sup>***</sup></td></tr>\n",
              "<tr><td style=\"text-align:left\"></td><td></td><td></td><td></td><td></td><td>(0.035)</td></tr>\n",
              "<tr><td style=\"text-align:left\">C(grade)[T.D]</td><td></td><td></td><td></td><td></td><td>12.157<sup>***</sup></td></tr>\n",
              "<tr><td style=\"text-align:left\"></td><td></td><td></td><td></td><td></td><td>(0.042)</td></tr>\n",
              "<tr><td style=\"text-align:left\">C(grade)[T.E]</td><td></td><td></td><td></td><td></td><td>18.143<sup>***</sup></td></tr>\n",
              "<tr><td style=\"text-align:left\"></td><td></td><td></td><td></td><td></td><td>(0.071)</td></tr>\n",
              "<tr><td style=\"text-align:left\">C(grade)[T.F]</td><td></td><td></td><td></td><td></td><td>22.379<sup>***</sup></td></tr>\n",
              "<tr><td style=\"text-align:left\"></td><td></td><td></td><td></td><td></td><td>(0.151)</td></tr>\n",
              "<tr><td style=\"text-align:left\">C(grade)[T.G]</td><td></td><td></td><td></td><td></td><td>23.777<sup>***</sup></td></tr>\n",
              "<tr><td style=\"text-align:left\"></td><td></td><td></td><td></td><td></td><td>(0.333)</td></tr>\n",
              "<tr><td style=\"text-align:left\">C(homeownership)[T.OWN]</td><td></td><td></td><td></td><td></td><td>0.001<sup></sup></td></tr>\n",
              "<tr><td style=\"text-align:left\"></td><td></td><td></td><td></td><td></td><td>(0.038)</td></tr>\n",
              "<tr><td style=\"text-align:left\">C(homeownership)[T.RENT]</td><td></td><td></td><td></td><td></td><td>0.020<sup></sup></td></tr>\n",
              "<tr><td style=\"text-align:left\"></td><td></td><td></td><td></td><td></td><td>(0.030)</td></tr>\n",
              "<tr><td style=\"text-align:left\">C(loan_purpose)[T.credit_card]</td><td></td><td></td><td></td><td></td><td>-0.056<sup></sup></td></tr>\n",
              "<tr><td style=\"text-align:left\"></td><td></td><td></td><td></td><td></td><td>(0.106)</td></tr>\n",
              "<tr><td style=\"text-align:left\">C(loan_purpose)[T.debt_consolidation]</td><td></td><td></td><td></td><td></td><td>0.042<sup></sup></td></tr>\n",
              "<tr><td style=\"text-align:left\"></td><td></td><td></td><td></td><td></td><td>(0.104)</td></tr>\n",
              "<tr><td style=\"text-align:left\">C(loan_purpose)[T.home_improvement]</td><td></td><td></td><td></td><td></td><td>-0.125<sup></sup></td></tr>\n",
              "<tr><td style=\"text-align:left\"></td><td></td><td></td><td></td><td></td><td>(0.112)</td></tr>\n",
              "<tr><td style=\"text-align:left\">C(loan_purpose)[T.house]</td><td></td><td></td><td></td><td></td><td>-0.031<sup></sup></td></tr>\n",
              "<tr><td style=\"text-align:left\"></td><td></td><td></td><td></td><td></td><td>(0.139)</td></tr>\n",
              "<tr><td style=\"text-align:left\">C(loan_purpose)[T.major_purchase]</td><td></td><td></td><td></td><td></td><td>-0.026<sup></sup></td></tr>\n",
              "<tr><td style=\"text-align:left\"></td><td></td><td></td><td></td><td></td><td>(0.122)</td></tr>\n",
              "<tr><td style=\"text-align:left\">C(loan_purpose)[T.medical]</td><td></td><td></td><td></td><td></td><td>0.005<sup></sup></td></tr>\n",
              "<tr><td style=\"text-align:left\"></td><td></td><td></td><td></td><td></td><td>(0.139)</td></tr>\n",
              "<tr><td style=\"text-align:left\">C(loan_purpose)[T.moving]</td><td></td><td></td><td></td><td></td><td>-0.045<sup></sup></td></tr>\n",
              "<tr><td style=\"text-align:left\"></td><td></td><td></td><td></td><td></td><td>(0.168)</td></tr>\n",
              "<tr><td style=\"text-align:left\">C(loan_purpose)[T.other]</td><td></td><td></td><td></td><td></td><td>0.006<sup></sup></td></tr>\n",
              "<tr><td style=\"text-align:left\"></td><td></td><td></td><td></td><td></td><td>(0.109)</td></tr>\n",
              "<tr><td style=\"text-align:left\">C(loan_purpose)[T.renewable_energy]</td><td></td><td></td><td></td><td></td><td>0.359<sup></sup></td></tr>\n",
              "<tr><td style=\"text-align:left\"></td><td></td><td></td><td></td><td></td><td>(0.362)</td></tr>\n",
              "<tr><td style=\"text-align:left\">C(loan_purpose)[T.small_business]</td><td></td><td></td><td></td><td></td><td>0.056<sup></sup></td></tr>\n",
              "<tr><td style=\"text-align:left\"></td><td></td><td></td><td></td><td></td><td>(0.143)</td></tr>\n",
              "<tr><td style=\"text-align:left\">C(loan_purpose)[T.vacation]</td><td></td><td></td><td></td><td></td><td>0.130<sup></sup></td></tr>\n",
              "<tr><td style=\"text-align:left\"></td><td></td><td></td><td></td><td></td><td>(0.180)</td></tr>\n",
              "<tr><td style=\"text-align:left\">C(term)[T.60]</td><td></td><td></td><td></td><td></td><td>0.186<sup>***</sup></td></tr>\n",
              "<tr><td style=\"text-align:left\"></td><td></td><td></td><td></td><td></td><td>(0.029)</td></tr>\n",
              "<tr><td style=\"text-align:left\">C(verified_income, Treatment(reference=\"Not Verified\"))[T.Source Verified]</td><td></td><td></td><td>1.416<sup>***</sup></td><td></td><td></td></tr>\n",
              "<tr><td style=\"text-align:left\"></td><td></td><td></td><td>(0.111)</td><td></td><td></td></tr>\n",
              "<tr><td style=\"text-align:left\">C(verified_income, Treatment(reference=\"Not Verified\"))[T.Verified]</td><td></td><td></td><td>3.254<sup>***</sup></td><td></td><td></td></tr>\n",
              "<tr><td style=\"text-align:left\"></td><td></td><td></td><td>(0.130)</td><td></td><td></td></tr>\n",
              "<tr><td style=\"text-align:left\">Constant</td><td>11.511<sup>***</sup></td><td>12.338<sup>***</sup></td><td>11.099<sup>***</sup></td><td>9.871<sup>***</sup></td><td>6.609<sup>***</sup></td></tr>\n",
              "<tr><td style=\"text-align:left\"></td><td>(0.081)</td><td>(0.053)</td><td>(0.081)</td><td>(0.102)</td><td>(0.110)</td></tr>\n",
              "<tr><td style=\"text-align:left\">annual_income</td><td></td><td></td><td></td><td></td><td>-0.000<sup>**</sup></td></tr>\n",
              "<tr><td style=\"text-align:left\"></td><td></td><td></td><td></td><td></td><td>(0.000)</td></tr>\n",
              "<tr><td style=\"text-align:left\">bankruptcy_dummy</td><td></td><td>0.737<sup>***</sup></td><td></td><td>0.573<sup>***</sup></td><td>0.024<sup></sup></td></tr>\n",
              "<tr><td style=\"text-align:left\"></td><td></td><td>(0.153)</td><td></td><td>(0.147)</td><td>(0.036)</td></tr>\n",
              "<tr><td style=\"text-align:left\">credit_checks</td><td></td><td></td><td></td><td></td><td>0.032<sup>***</sup></td></tr>\n",
              "<tr><td style=\"text-align:left\"></td><td></td><td></td><td></td><td></td><td>(0.005)</td></tr>\n",
              "<tr><td style=\"text-align:left\">credit_util</td><td></td><td></td><td></td><td>4.411<sup>***</sup></td><td>0.329<sup>***</sup></td></tr>\n",
              "<tr><td style=\"text-align:left\"></td><td></td><td></td><td></td><td>(0.180)</td><td>(0.052)</td></tr>\n",
              "<tr><td style=\"text-align:left\">debt_to_income</td><td>0.047<sup>***</sup></td><td></td><td></td><td>0.036<sup>***</sup></td><td>0.003<sup>***</sup></td></tr>\n",
              "<tr><td style=\"text-align:left\"></td><td>(0.003)</td><td></td><td></td><td>(0.003)</td><td>(0.001)</td></tr>\n",
              "<tr><td style=\"text-align:left\">emp_length</td><td></td><td></td><td></td><td></td><td>-0.001<sup></sup></td></tr>\n",
              "<tr><td style=\"text-align:left\"></td><td></td><td></td><td></td><td></td><td>(0.003)</td></tr>\n",
              "<tr><td style=\"text-align:left\">loan_amount</td><td></td><td></td><td></td><td></td><td>-0.000<sup>*</sup></td></tr>\n",
              "<tr><td style=\"text-align:left\"></td><td></td><td></td><td></td><td></td><td>(0.000)</td></tr>\n",
              "\n",
              "<td colspan=\"6\" style=\"border-bottom: 1px solid black\"></td></tr>\n",
              "<tr><td style=\"text-align: left\">Observations</td><td>9976</td><td>10000</td><td>10000</td><td>9976</td><td>9182</td></tr><tr><td style=\"text-align: left\">R<sup>2</sup></td><td>0.020</td><td>0.002</td><td>0.059</td><td>0.078</td><td>0.952</td></tr><tr><td style=\"text-align: left\">Adjusted R<sup>2</sup></td><td>0.020</td><td>0.002</td><td>0.059</td><td>0.077</td><td>0.952</td></tr><tr><td style=\"text-align: left\">Residual Std. Error</td><td>4.948 (df=9974)</td><td>4.996 (df=9998)</td><td>4.851 (df=9997)</td><td>4.801 (df=9972)</td><td>1.098 (df=9154)</td></tr><tr><td style=\"text-align: left\">F Statistic</td><td>204.233<sup>***</sup> (df=1; 9974)</td><td>23.218<sup>***</sup> (df=1; 9998)</td><td>315.941<sup>***</sup> (df=2; 9997)</td><td>279.922<sup>***</sup> (df=3; 9972)</td><td>6722.902<sup>***</sup> (df=27; 9154)</td></tr>\n",
              "<tr><td colspan=\"6\" style=\"border-bottom: 1px solid black\"></td></tr><tr><td style=\"text-align: left\">Note:</td><td colspan=\"5\" style=\"text-align: right\"><sup>*</sup>p&lt;0.1; <sup>**</sup>p&lt;0.05; <sup>***</sup>p&lt;0.01</td></tr></table>"
            ]
          },
          "metadata": {},
          "execution_count": 84
        }
      ]
    },
    {
      "cell_type": "code",
      "source": [
        "html = table.render_html()\n",
        "\n",
        "# This line converts your Stargazer regression table into HTML format (as a\n",
        "# string).Display and save the html\n",
        "\n",
        "\n",
        "with open(\"my_regression_table_model_1-5.html\", \"w\") as f:\n",
        "  f.write(html)"
      ],
      "metadata": {
        "id": "RvvMS3dsm9LV"
      },
      "execution_count": 85,
      "outputs": []
    },
    {
      "cell_type": "markdown",
      "source": [
        "4 Part D: Critical Discussion                               \n",
        "\n",
        "Write a critical discussion (750 words) of Model 5’s limitations and potential improvements.\n",
        "\n",
        "Address:\n",
        "• What are the key limitations of Model 5?\n",
        "• How would you improve the model specification? Consider:\n",
        "- Variable transformations (e.g., logarithmic)\n",
        "- Interaction terms\n",
        "- Omitted variables\n",
        "- Alternative specifications"
      ],
      "metadata": {
        "id": "LqxLR-OwMYUa"
      }
    },
    {
      "cell_type": "markdown",
      "source": [
        "Limitations of Model 5"
      ],
      "metadata": {
        "id": "el2smvUedn_g"
      }
    },
    {
      "cell_type": "code",
      "source": [
        "# Save the predicted values and residuals\n",
        "\n",
        "df_cleaned[\"predinterest\"] = model5.fittedvalues\n",
        "# This gives the predicted price from the regression model (based on the\n",
        "# line of best fit). So df_cleaned[\"predinterest\"] now stores the model's estimate of\n",
        "# interest rate for each row.\n",
        "# Add a new column called \"e\" to the DataFrame df_cleaned, and assign to it the\n",
        "# residuals from model5\n",
        "df_cleaned[\"e\"] = model5.resid"
      ],
      "metadata": {
        "id": "6fj9OJYabzY3"
      },
      "execution_count": 86,
      "outputs": []
    },
    {
      "cell_type": "code",
      "source": [
        "# Plot histogram to test the normal distribution of residuals from Model 5\n",
        "sns.histplot(data=df_cleaned,x=\"e\", stat=\"probability\", color=\"blue\",\n",
        "             alpha=0.8, edgecolor=\"white\", linewidth=0.2)\n",
        "plt.xlim(-4, 4)\n",
        "plt.xlabel(\"Residuals\")\n",
        "plt.ylabel(\"Percent\")\n",
        "plt.savefig(\"Histogram for Residuals Model 5.png\")\n",
        "plt.title(\"Histogram for Residuals Model 5\")\n",
        "plt.show()"
      ],
      "metadata": {
        "colab": {
          "base_uri": "https://localhost:8080/",
          "height": 573
        },
        "id": "C9E_GDibym-2",
        "outputId": "15a947a4-88ab-4b80-9510-10929f4b9c27"
      },
      "execution_count": 87,
      "outputs": [
        {
          "output_type": "display_data",
          "data": {
            "text/plain": [
              "<Figure size 800x600 with 1 Axes>"
            ],
            "image/png": "[encoded data removed]"
          },
          "metadata": {}
        }
      ]
    },
    {
      "cell_type": "markdown",
      "source": [
        "Log transformation of dependable variable"
      ],
      "metadata": {
        "id": "AKlf51ahyjVP"
      }
    },
    {
      "cell_type": "code",
      "source": [
        "# Apply log transformation to interest rate, annual income, and loan amount\n",
        "# Adding 1 avoids issues with log(0)\n",
        "df_cleaned['log_interest_rate'] = np.log(df_cleaned['interest_rate'])"
      ],
      "metadata": {
        "id": "9ecQevLOQemB"
      },
      "execution_count": 88,
      "outputs": []
    },
    {
      "cell_type": "code",
      "source": [
        "# Test the log transformation of model 5\n",
        "import numpy as np\n",
        "\n",
        "model5_log = smf.ols(\n",
        "    formula=\"\"\"\n",
        "        log_interest_rate ~ debt_to_income + credit_util +\n",
        "        annual_income + loan_amount + C(homeownership) +\n",
        "        C(loan_purpose) + bankruptcy_dummy\n",
        "        + C(term) + C(grade) +\n",
        "        emp_length + credit_checks\n",
        "    \"\"\",\n",
        "    data=df_cleaned\n",
        ").fit()"
      ],
      "metadata": {
        "id": "39JJvtZoup_u"
      },
      "execution_count": 89,
      "outputs": []
    },
    {
      "cell_type": "code",
      "source": [
        "print(model5_log.summary())"
      ],
      "metadata": {
        "colab": {
          "base_uri": "https://localhost:8080/"
        },
        "id": "aZFhrw8WuvaL",
        "outputId": "c69ca9bc-31de-4762-a2c7-c6f45593bcc7"
      },
      "execution_count": 90,
      "outputs": [
        {
          "output_type": "stream",
          "name": "stdout",
          "text": [
            "                            OLS Regression Results                            \n",
            "==============================================================================\n",
            "Dep. Variable:      log_interest_rate   R-squared:                       0.940\n",
            "Model:                            OLS   Adj. R-squared:                  0.940\n",
            "Method:                 Least Squares   F-statistic:                     5298.\n",
            "Date:                Tue, 20 May 2025   Prob (F-statistic):               0.00\n",
            "Time:                        09:23:15   Log-Likelihood:                 8292.2\n",
            "No. Observations:                9182   AIC:                        -1.653e+04\n",
            "Df Residuals:                    9154   BIC:                        -1.633e+04\n",
            "Df Model:                          27                                         \n",
            "Covariance Type:            nonrobust                                         \n",
            "=========================================================================================================\n",
            "                                            coef    std err          t      P>|t|      [0.025      0.975]\n",
            "---------------------------------------------------------------------------------------------------------\n",
            "Intercept                                 1.8850      0.010    191.662      0.000       1.866       1.904\n",
            "C(homeownership)[T.OWN]                   0.0022      0.003      0.653      0.514      -0.004       0.009\n",
            "C(homeownership)[T.RENT]                  0.0025      0.003      0.930      0.353      -0.003       0.008\n",
            "C(loan_purpose)[T.credit_card]           -0.0041      0.009     -0.432      0.665      -0.023       0.014\n",
            "C(loan_purpose)[T.debt_consolidation]     0.0068      0.009      0.726      0.468      -0.011       0.025\n",
            "C(loan_purpose)[T.home_improvement]      -0.0082      0.010     -0.820      0.412      -0.028       0.011\n",
            "C(loan_purpose)[T.house]                 -0.0049      0.012     -0.399      0.690      -0.029       0.019\n",
            "C(loan_purpose)[T.major_purchase]         0.0002      0.011      0.020      0.984      -0.021       0.022\n",
            "C(loan_purpose)[T.medical]                0.0053      0.012      0.425      0.671      -0.019       0.030\n",
            "C(loan_purpose)[T.moving]                -0.0046      0.015     -0.303      0.762      -0.034       0.025\n",
            "C(loan_purpose)[T.other]                  0.0054      0.010      0.550      0.583      -0.014       0.025\n",
            "C(loan_purpose)[T.renewable_energy]       0.0156      0.032      0.483      0.629      -0.048       0.079\n",
            "C(loan_purpose)[T.small_business]         0.0064      0.013      0.499      0.618      -0.019       0.032\n",
            "C(loan_purpose)[T.vacation]               0.0093      0.016      0.575      0.565      -0.022       0.041\n",
            "C(term)[T.60]                             0.0180      0.003      6.856      0.000       0.013       0.023\n",
            "C(grade)[T.B]                             0.4415      0.003    153.007      0.000       0.436       0.447\n",
            "C(grade)[T.C]                             0.7336      0.003    234.939      0.000       0.728       0.740\n",
            "C(grade)[T.D]                             1.0262      0.004    272.236      0.000       1.019       1.034\n",
            "C(grade)[T.E]                             1.2986      0.006    203.983      0.000       1.286       1.311\n",
            "C(grade)[T.F]                             1.4545      0.014    107.493      0.000       1.428       1.481\n",
            "C(grade)[T.G]                             1.5019      0.030     50.370      0.000       1.443       1.560\n",
            "debt_to_income                            0.0003   7.65e-05      3.927      0.000       0.000       0.000\n",
            "credit_util                               0.0343      0.005      7.319      0.000       0.025       0.043\n",
            "annual_income                         -5.316e-08   1.72e-08     -3.089      0.002   -8.69e-08   -1.94e-08\n",
            "loan_amount                           -3.725e-07   1.16e-07     -3.212      0.001      -6e-07   -1.45e-07\n",
            "bankruptcy_dummy                          0.0034      0.003      1.048      0.295      -0.003       0.010\n",
            "emp_length                               -0.0001      0.000     -0.486      0.627      -0.001       0.000\n",
            "credit_checks                             0.0033      0.000      7.573      0.000       0.002       0.004\n",
            "==============================================================================\n",
            "Omnibus:                      992.136   Durbin-Watson:                   2.000\n",
            "Prob(Omnibus):                  0.000   Jarque-Bera (JB):             4442.873\n",
            "Skew:                          -0.449   Prob(JB):                         0.00\n",
            "Kurtosis:                       6.287   Cond. No.                     3.74e+06\n",
            "==============================================================================\n",
            "\n",
            "Notes:\n",
            "[1] Standard Errors assume that the covariance matrix of the errors is correctly specified.\n",
            "[2] The condition number is large, 3.74e+06. This might indicate that there are\n",
            "strong multicollinearity or other numerical problems.\n"
          ]
        }
      ]
    },
    {
      "cell_type": "code",
      "source": [
        "table_log = Stargazer([model5,model5_log])\n",
        "\n",
        "table.rename_covariates({\"Intercept\": \"Constant\"})\n",
        "# This renames the \"Intercept\" row label to \"Constant\" in the table\n",
        "table_log.custom_columns([\"Model 5\", \"Model 5 Log\"], [1, 1])\n",
        "table_log"
      ],
      "metadata": {
        "colab": {
          "base_uri": "https://localhost:8080/",
          "height": 1000
        },
        "id": "7Kjp_AcHzJAx",
        "outputId": "c667ffdd-7850-4176-af86-de83a1b65a75"
      },
      "execution_count": 91,
      "outputs": [
        {
          "output_type": "execute_result",
          "data": {
            "text/plain": [
              "<stargazer.stargazer.Stargazer at 0x786698227390>"
            ],
            "text/html": [
              "<table style=\"text-align:center\"><tr><td colspan=\"3\" style=\"border-bottom: 1px solid black\"></td></tr>\n",
              "<tr><td style=\"text-align:left\"></td><tr><td></td><td colspan=\"1\">Model 5</td><td colspan=\"1\">Model 5 Log</td></tr><tr><td style=\"text-align:left\"></td><td>(1)</td><td>(2)</td></tr>\n",
              "<tr><td colspan=\"3\" style=\"border-bottom: 1px solid black\"></td></tr>\n",
              "\n",
              "<tr><td style=\"text-align:left\">C(grade)[T.B]</td><td>3.684<sup>***</sup></td><td>0.441<sup>***</sup></td></tr>\n",
              "<tr><td style=\"text-align:left\"></td><td>(0.032)</td><td>(0.003)</td></tr>\n",
              "<tr><td style=\"text-align:left\">C(grade)[T.C]</td><td>7.279<sup>***</sup></td><td>0.734<sup>***</sup></td></tr>\n",
              "<tr><td style=\"text-align:left\"></td><td>(0.035)</td><td>(0.003)</td></tr>\n",
              "<tr><td style=\"text-align:left\">C(grade)[T.D]</td><td>12.157<sup>***</sup></td><td>1.026<sup>***</sup></td></tr>\n",
              "<tr><td style=\"text-align:left\"></td><td>(0.042)</td><td>(0.004)</td></tr>\n",
              "<tr><td style=\"text-align:left\">C(grade)[T.E]</td><td>18.143<sup>***</sup></td><td>1.299<sup>***</sup></td></tr>\n",
              "<tr><td style=\"text-align:left\"></td><td>(0.071)</td><td>(0.006)</td></tr>\n",
              "<tr><td style=\"text-align:left\">C(grade)[T.F]</td><td>22.379<sup>***</sup></td><td>1.455<sup>***</sup></td></tr>\n",
              "<tr><td style=\"text-align:left\"></td><td>(0.151)</td><td>(0.014)</td></tr>\n",
              "<tr><td style=\"text-align:left\">C(grade)[T.G]</td><td>23.777<sup>***</sup></td><td>1.502<sup>***</sup></td></tr>\n",
              "<tr><td style=\"text-align:left\"></td><td>(0.333)</td><td>(0.030)</td></tr>\n",
              "<tr><td style=\"text-align:left\">C(homeownership)[T.OWN]</td><td>0.001<sup></sup></td><td>0.002<sup></sup></td></tr>\n",
              "<tr><td style=\"text-align:left\"></td><td>(0.038)</td><td>(0.003)</td></tr>\n",
              "<tr><td style=\"text-align:left\">C(homeownership)[T.RENT]</td><td>0.020<sup></sup></td><td>0.003<sup></sup></td></tr>\n",
              "<tr><td style=\"text-align:left\"></td><td>(0.030)</td><td>(0.003)</td></tr>\n",
              "<tr><td style=\"text-align:left\">C(loan_purpose)[T.credit_card]</td><td>-0.056<sup></sup></td><td>-0.004<sup></sup></td></tr>\n",
              "<tr><td style=\"text-align:left\"></td><td>(0.106)</td><td>(0.009)</td></tr>\n",
              "<tr><td style=\"text-align:left\">C(loan_purpose)[T.debt_consolidation]</td><td>0.042<sup></sup></td><td>0.007<sup></sup></td></tr>\n",
              "<tr><td style=\"text-align:left\"></td><td>(0.104)</td><td>(0.009)</td></tr>\n",
              "<tr><td style=\"text-align:left\">C(loan_purpose)[T.home_improvement]</td><td>-0.125<sup></sup></td><td>-0.008<sup></sup></td></tr>\n",
              "<tr><td style=\"text-align:left\"></td><td>(0.112)</td><td>(0.010)</td></tr>\n",
              "<tr><td style=\"text-align:left\">C(loan_purpose)[T.house]</td><td>-0.031<sup></sup></td><td>-0.005<sup></sup></td></tr>\n",
              "<tr><td style=\"text-align:left\"></td><td>(0.139)</td><td>(0.012)</td></tr>\n",
              "<tr><td style=\"text-align:left\">C(loan_purpose)[T.major_purchase]</td><td>-0.026<sup></sup></td><td>0.000<sup></sup></td></tr>\n",
              "<tr><td style=\"text-align:left\"></td><td>(0.122)</td><td>(0.011)</td></tr>\n",
              "<tr><td style=\"text-align:left\">C(loan_purpose)[T.medical]</td><td>0.005<sup></sup></td><td>0.005<sup></sup></td></tr>\n",
              "<tr><td style=\"text-align:left\"></td><td>(0.139)</td><td>(0.012)</td></tr>\n",
              "<tr><td style=\"text-align:left\">C(loan_purpose)[T.moving]</td><td>-0.045<sup></sup></td><td>-0.005<sup></sup></td></tr>\n",
              "<tr><td style=\"text-align:left\"></td><td>(0.168)</td><td>(0.015)</td></tr>\n",
              "<tr><td style=\"text-align:left\">C(loan_purpose)[T.other]</td><td>0.006<sup></sup></td><td>0.005<sup></sup></td></tr>\n",
              "<tr><td style=\"text-align:left\"></td><td>(0.109)</td><td>(0.010)</td></tr>\n",
              "<tr><td style=\"text-align:left\">C(loan_purpose)[T.renewable_energy]</td><td>0.359<sup></sup></td><td>0.016<sup></sup></td></tr>\n",
              "<tr><td style=\"text-align:left\"></td><td>(0.362)</td><td>(0.032)</td></tr>\n",
              "<tr><td style=\"text-align:left\">C(loan_purpose)[T.small_business]</td><td>0.056<sup></sup></td><td>0.006<sup></sup></td></tr>\n",
              "<tr><td style=\"text-align:left\"></td><td>(0.143)</td><td>(0.013)</td></tr>\n",
              "<tr><td style=\"text-align:left\">C(loan_purpose)[T.vacation]</td><td>0.130<sup></sup></td><td>0.009<sup></sup></td></tr>\n",
              "<tr><td style=\"text-align:left\"></td><td>(0.180)</td><td>(0.016)</td></tr>\n",
              "<tr><td style=\"text-align:left\">C(term)[T.60]</td><td>0.186<sup>***</sup></td><td>0.018<sup>***</sup></td></tr>\n",
              "<tr><td style=\"text-align:left\"></td><td>(0.029)</td><td>(0.003)</td></tr>\n",
              "<tr><td style=\"text-align:left\">Intercept</td><td>6.609<sup>***</sup></td><td>1.885<sup>***</sup></td></tr>\n",
              "<tr><td style=\"text-align:left\"></td><td>(0.110)</td><td>(0.010)</td></tr>\n",
              "<tr><td style=\"text-align:left\">annual_income</td><td>-0.000<sup>**</sup></td><td>-0.000<sup>***</sup></td></tr>\n",
              "<tr><td style=\"text-align:left\"></td><td>(0.000)</td><td>(0.000)</td></tr>\n",
              "<tr><td style=\"text-align:left\">bankruptcy_dummy</td><td>0.024<sup></sup></td><td>0.003<sup></sup></td></tr>\n",
              "<tr><td style=\"text-align:left\"></td><td>(0.036)</td><td>(0.003)</td></tr>\n",
              "<tr><td style=\"text-align:left\">credit_checks</td><td>0.032<sup>***</sup></td><td>0.003<sup>***</sup></td></tr>\n",
              "<tr><td style=\"text-align:left\"></td><td>(0.005)</td><td>(0.000)</td></tr>\n",
              "<tr><td style=\"text-align:left\">credit_util</td><td>0.329<sup>***</sup></td><td>0.034<sup>***</sup></td></tr>\n",
              "<tr><td style=\"text-align:left\"></td><td>(0.052)</td><td>(0.005)</td></tr>\n",
              "<tr><td style=\"text-align:left\">debt_to_income</td><td>0.003<sup>***</sup></td><td>0.000<sup>***</sup></td></tr>\n",
              "<tr><td style=\"text-align:left\"></td><td>(0.001)</td><td>(0.000)</td></tr>\n",
              "<tr><td style=\"text-align:left\">emp_length</td><td>-0.001<sup></sup></td><td>-0.000<sup></sup></td></tr>\n",
              "<tr><td style=\"text-align:left\"></td><td>(0.003)</td><td>(0.000)</td></tr>\n",
              "<tr><td style=\"text-align:left\">loan_amount</td><td>-0.000<sup>*</sup></td><td>-0.000<sup>***</sup></td></tr>\n",
              "<tr><td style=\"text-align:left\"></td><td>(0.000)</td><td>(0.000)</td></tr>\n",
              "\n",
              "<td colspan=\"3\" style=\"border-bottom: 1px solid black\"></td></tr>\n",
              "<tr><td style=\"text-align: left\">Observations</td><td>9182</td><td>9182</td></tr><tr><td style=\"text-align: left\">R<sup>2</sup></td><td>0.952</td><td>0.940</td></tr><tr><td style=\"text-align: left\">Adjusted R<sup>2</sup></td><td>0.952</td><td>0.940</td></tr><tr><td style=\"text-align: left\">Residual Std. Error</td><td>1.098 (df=9154)</td><td>0.098 (df=9154)</td></tr><tr><td style=\"text-align: left\">F Statistic</td><td>6722.902<sup>***</sup> (df=27; 9154)</td><td>5298.197<sup>***</sup> (df=27; 9154)</td></tr>\n",
              "<tr><td colspan=\"3\" style=\"border-bottom: 1px solid black\"></td></tr><tr><td style=\"text-align: left\">Note:</td><td colspan=\"2\" style=\"text-align: right\"><sup>*</sup>p&lt;0.1; <sup>**</sup>p&lt;0.05; <sup>***</sup>p&lt;0.01</td></tr></table>"
            ]
          },
          "metadata": {},
          "execution_count": 91
        }
      ]
    },
    {
      "cell_type": "code",
      "source": [
        "# adds an interaction term between\n",
        "# credit_checks and annual_income to test whether the effect of credit checks on interest rate\n",
        "# depends on the borrower's income level.\n",
        "\n",
        "model5_interaction1 = smf.ols(\n",
        "    formula=\"\"\"\n",
        "        interest_rate ~ debt_to_income + credit_util + bankruptcy_dummy +\n",
        "        credit_checks + annual_income + loan_amount + C(term) * C(grade) +\n",
        "        emp_length + C(homeownership) + C(loan_purpose)\n",
        "    \"\"\",\n",
        "    data=df_cleaned\n",
        ").fit()"
      ],
      "metadata": {
        "id": "PTdTwUmi1WsB"
      },
      "execution_count": 92,
      "outputs": []
    },
    {
      "cell_type": "code",
      "source": [
        "model5_robust = smf.ols(\n",
        "    formula=\"\"\"\n",
        "        interest_rate ~ debt_to_income + credit_util + bankruptcy_dummy +\n",
        "        annual_income + loan_amount + C(term) + C(grade) +\n",
        "        emp_length + C(homeownership) + C(loan_purpose) + credit_checks\n",
        "    \"\"\",\n",
        "    data=df_cleaned\n",
        ").fit(cov_type='HC3')  # Use robust standard errors"
      ],
      "metadata": {
        "id": "92dzH2zFJNs4"
      },
      "execution_count": 94,
      "outputs": []
    },
    {
      "cell_type": "code",
      "source": [
        "print(model5_robust.summary())"
      ],
      "metadata": {
        "colab": {
          "base_uri": "https://localhost:8080/"
        },
        "id": "TltIqlzo7Az1",
        "outputId": "55b899b1-cc2f-4182-bd0f-2ffc42ad4e37"
      },
      "execution_count": 95,
      "outputs": [
        {
          "output_type": "stream",
          "name": "stdout",
          "text": [
            "                            OLS Regression Results                            \n",
            "==============================================================================\n",
            "Dep. Variable:          interest_rate   R-squared:                       0.952\n",
            "Model:                            OLS   Adj. R-squared:                  0.952\n",
            "Method:                 Least Squares   F-statistic:                 1.068e+04\n",
            "Date:                Tue, 20 May 2025   Prob (F-statistic):               0.00\n",
            "Time:                        09:23:15   Log-Likelihood:                -13874.\n",
            "No. Observations:                9182   AIC:                         2.780e+04\n",
            "Df Residuals:                    9154   BIC:                         2.800e+04\n",
            "Df Model:                          27                                         \n",
            "Covariance Type:                  HC3                                         \n",
            "=========================================================================================================\n",
            "                                            coef    std err          z      P>|z|      [0.025      0.975]\n",
            "---------------------------------------------------------------------------------------------------------\n",
            "Intercept                                 6.6089      0.100     65.810      0.000       6.412       6.806\n",
            "C(term)[T.60]                             0.1857      0.032      5.862      0.000       0.124       0.248\n",
            "C(grade)[T.B]                             3.6841      0.026    139.819      0.000       3.632       3.736\n",
            "C(grade)[T.C]                             7.2787      0.033    219.893      0.000       7.214       7.344\n",
            "C(grade)[T.D]                            12.1571      0.052    233.710      0.000      12.055      12.259\n",
            "C(grade)[T.E]                            18.1428      0.077    235.008      0.000      17.991      18.294\n",
            "C(grade)[T.F]                            22.3795      0.113    197.624      0.000      22.158      22.601\n",
            "C(grade)[T.G]                            23.7773      0.069    343.091      0.000      23.641      23.913\n",
            "C(homeownership)[T.OWN]                   0.0013      0.037      0.035      0.972      -0.072       0.075\n",
            "C(homeownership)[T.RENT]                  0.0202      0.030      0.671      0.502      -0.039       0.079\n",
            "C(loan_purpose)[T.credit_card]           -0.0557      0.097     -0.576      0.565      -0.245       0.134\n",
            "C(loan_purpose)[T.debt_consolidation]     0.0417      0.096      0.436      0.663      -0.146       0.229\n",
            "C(loan_purpose)[T.home_improvement]      -0.1252      0.103     -1.214      0.225      -0.328       0.077\n",
            "C(loan_purpose)[T.house]                 -0.0313      0.131     -0.239      0.811      -0.288       0.225\n",
            "C(loan_purpose)[T.major_purchase]        -0.0259      0.113     -0.230      0.818      -0.247       0.195\n",
            "C(loan_purpose)[T.medical]                0.0045      0.126      0.036      0.971      -0.242       0.251\n",
            "C(loan_purpose)[T.moving]                -0.0455      0.168     -0.271      0.787      -0.375       0.284\n",
            "C(loan_purpose)[T.other]                  0.0056      0.102      0.055      0.956      -0.194       0.205\n",
            "C(loan_purpose)[T.renewable_energy]       0.3588      0.447      0.802      0.422      -0.518       1.235\n",
            "C(loan_purpose)[T.small_business]         0.0559      0.137      0.408      0.683      -0.212       0.324\n",
            "C(loan_purpose)[T.vacation]               0.1298      0.177      0.735      0.463      -0.217       0.476\n",
            "debt_to_income                            0.0029      0.001      3.596      0.000       0.001       0.005\n",
            "credit_util                               0.3289      0.052      6.359      0.000       0.228       0.430\n",
            "bankruptcy_dummy                          0.0238      0.036      0.651      0.515      -0.048       0.095\n",
            "annual_income                         -4.185e-07   1.81e-07     -2.313      0.021   -7.73e-07   -6.39e-08\n",
            "loan_amount                           -2.515e-06   1.33e-06     -1.895      0.058   -5.12e-06    8.65e-08\n",
            "emp_length                               -0.0007      0.003     -0.217      0.828      -0.007       0.006\n",
            "credit_checks                             0.0316      0.005      6.199      0.000       0.022       0.042\n",
            "==============================================================================\n",
            "Omnibus:                      753.630   Durbin-Watson:                   2.013\n",
            "Prob(Omnibus):                  0.000   Jarque-Bera (JB):             4502.849\n",
            "Skew:                          -0.104   Prob(JB):                         0.00\n",
            "Kurtosis:                       6.424   Cond. No.                     3.74e+06\n",
            "==============================================================================\n",
            "\n",
            "Notes:\n",
            "[1] Standard Errors are heteroscedasticity robust (HC3)\n",
            "[2] The condition number is large, 3.74e+06. This might indicate that there are\n",
            "strong multicollinearity or other numerical problems.\n"
          ]
        }
      ]
    },
    {
      "cell_type": "code",
      "source": [
        "# Plot Residuals vs Fitted Values to test Linearity, Homoskedasticity and Model\n",
        "# fit\n",
        "sns.scatterplot(x=model5.fittedvalues, y=model5.resid, alpha=0.5)\n",
        "plt.axhline(0, color=\"red\", linestyle=\"--\")\n",
        "plt.xlabel(\"Fitted Interest Rate\")\n",
        "plt.ylabel(\"Residuals\")\n",
        "plt.savefig(\"Residuals Model 5.png\")\n",
        "plt.title(\"Residuals vs Fitted Values (Model 5)\")\n",
        "plt.show()"
      ],
      "metadata": {
        "colab": {
          "base_uri": "https://localhost:8080/",
          "height": 573
        },
        "id": "sizOOFs_dICk",
        "outputId": "cbb59e53-7f80-4139-cb93-a4179831d000"
      },
      "execution_count": 96,
      "outputs": [
        {
          "output_type": "display_data",
          "data": {
            "text/plain": [
              "<Figure size 800x600 with 1 Axes>"
            ],
            "image/png": "[encoded data removed]"
          },
          "metadata": {}
        }
      ]
    },
    {
      "cell_type": "code",
      "source": [
        "table3 = Stargazer([model5, model5_robust])\n",
        "\n",
        "table3.rename_covariates({\"Intercept\": \"Constant\"})\n",
        "# This renames the \"Intercept\" row label to \"Constant\" in the table\n",
        "table3.custom_columns([\"Model 5 Homoskedastic SE\", \"Model 5 Heteroskedastic robust SE\"], [1, 1])\n",
        "table3\n",
        "# The second list [1, 1] tells Stargazer how many models belong under each\n",
        "# column. Since each label only corresponds to one model, it's [1, 1]."
      ],
      "metadata": {
        "colab": {
          "base_uri": "https://localhost:8080/",
          "height": 1000
        },
        "id": "aT9FhTU6Jd-o",
        "outputId": "e1b8707d-a798-4cb5-922b-d87c07732d43"
      },
      "execution_count": 107,
      "outputs": [
        {
          "output_type": "execute_result",
          "data": {
            "text/plain": [
              "<stargazer.stargazer.Stargazer at 0x7866982c8990>"
            ],
            "text/html": [
              "<table style=\"text-align:center\"><tr><td colspan=\"3\" style=\"border-bottom: 1px solid black\"></td></tr>\n",
              "<tr><td style=\"text-align:left\"></td><td colspan=\"2\"><em>Dependent variable: interest_rate</em></td></tr><tr><td style=\"text-align:left\"></td><tr><td></td><td colspan=\"1\">Homoskedastic SE</td><td colspan=\"1\">Heteroskedastic robust SE</td></tr><tr><td style=\"text-align:left\"></td><td>(1)</td><td>(2)</td></tr>\n",
              "<tr><td colspan=\"3\" style=\"border-bottom: 1px solid black\"></td></tr>\n",
              "\n",
              "<tr><td style=\"text-align:left\">C(grade)[T.B]</td><td>3.684<sup>***</sup></td><td>3.684<sup>***</sup></td></tr>\n",
              "<tr><td style=\"text-align:left\"></td><td>(0.032)</td><td>(0.026)</td></tr>\n",
              "<tr><td style=\"text-align:left\">C(grade)[T.C]</td><td>7.279<sup>***</sup></td><td>7.279<sup>***</sup></td></tr>\n",
              "<tr><td style=\"text-align:left\"></td><td>(0.035)</td><td>(0.033)</td></tr>\n",
              "<tr><td style=\"text-align:left\">C(grade)[T.D]</td><td>12.157<sup>***</sup></td><td>12.157<sup>***</sup></td></tr>\n",
              "<tr><td style=\"text-align:left\"></td><td>(0.042)</td><td>(0.052)</td></tr>\n",
              "<tr><td style=\"text-align:left\">C(grade)[T.E]</td><td>18.143<sup>***</sup></td><td>18.143<sup>***</sup></td></tr>\n",
              "<tr><td style=\"text-align:left\"></td><td>(0.071)</td><td>(0.077)</td></tr>\n",
              "<tr><td style=\"text-align:left\">C(grade)[T.F]</td><td>22.379<sup>***</sup></td><td>22.379<sup>***</sup></td></tr>\n",
              "<tr><td style=\"text-align:left\"></td><td>(0.151)</td><td>(0.113)</td></tr>\n",
              "<tr><td style=\"text-align:left\">C(grade)[T.G]</td><td>23.777<sup>***</sup></td><td>23.777<sup>***</sup></td></tr>\n",
              "<tr><td style=\"text-align:left\"></td><td>(0.333)</td><td>(0.069)</td></tr>\n",
              "<tr><td style=\"text-align:left\">C(homeownership)[T.OWN]</td><td>0.001<sup></sup></td><td>0.001<sup></sup></td></tr>\n",
              "<tr><td style=\"text-align:left\"></td><td>(0.038)</td><td>(0.037)</td></tr>\n",
              "<tr><td style=\"text-align:left\">C(homeownership)[T.RENT]</td><td>0.020<sup></sup></td><td>0.020<sup></sup></td></tr>\n",
              "<tr><td style=\"text-align:left\"></td><td>(0.030)</td><td>(0.030)</td></tr>\n",
              "<tr><td style=\"text-align:left\">C(loan_purpose)[T.credit_card]</td><td>-0.056<sup></sup></td><td>-0.056<sup></sup></td></tr>\n",
              "<tr><td style=\"text-align:left\"></td><td>(0.106)</td><td>(0.097)</td></tr>\n",
              "<tr><td style=\"text-align:left\">C(loan_purpose)[T.debt_consolidation]</td><td>0.042<sup></sup></td><td>0.042<sup></sup></td></tr>\n",
              "<tr><td style=\"text-align:left\"></td><td>(0.104)</td><td>(0.096)</td></tr>\n",
              "<tr><td style=\"text-align:left\">C(loan_purpose)[T.home_improvement]</td><td>-0.125<sup></sup></td><td>-0.125<sup></sup></td></tr>\n",
              "<tr><td style=\"text-align:left\"></td><td>(0.112)</td><td>(0.103)</td></tr>\n",
              "<tr><td style=\"text-align:left\">C(loan_purpose)[T.house]</td><td>-0.031<sup></sup></td><td>-0.031<sup></sup></td></tr>\n",
              "<tr><td style=\"text-align:left\"></td><td>(0.139)</td><td>(0.131)</td></tr>\n",
              "<tr><td style=\"text-align:left\">C(loan_purpose)[T.major_purchase]</td><td>-0.026<sup></sup></td><td>-0.026<sup></sup></td></tr>\n",
              "<tr><td style=\"text-align:left\"></td><td>(0.122)</td><td>(0.113)</td></tr>\n",
              "<tr><td style=\"text-align:left\">C(loan_purpose)[T.medical]</td><td>0.005<sup></sup></td><td>0.005<sup></sup></td></tr>\n",
              "<tr><td style=\"text-align:left\"></td><td>(0.139)</td><td>(0.126)</td></tr>\n",
              "<tr><td style=\"text-align:left\">C(loan_purpose)[T.moving]</td><td>-0.045<sup></sup></td><td>-0.045<sup></sup></td></tr>\n",
              "<tr><td style=\"text-align:left\"></td><td>(0.168)</td><td>(0.168)</td></tr>\n",
              "<tr><td style=\"text-align:left\">C(loan_purpose)[T.other]</td><td>0.006<sup></sup></td><td>0.006<sup></sup></td></tr>\n",
              "<tr><td style=\"text-align:left\"></td><td>(0.109)</td><td>(0.102)</td></tr>\n",
              "<tr><td style=\"text-align:left\">C(loan_purpose)[T.renewable_energy]</td><td>0.359<sup></sup></td><td>0.359<sup></sup></td></tr>\n",
              "<tr><td style=\"text-align:left\"></td><td>(0.362)</td><td>(0.447)</td></tr>\n",
              "<tr><td style=\"text-align:left\">C(loan_purpose)[T.small_business]</td><td>0.056<sup></sup></td><td>0.056<sup></sup></td></tr>\n",
              "<tr><td style=\"text-align:left\"></td><td>(0.143)</td><td>(0.137)</td></tr>\n",
              "<tr><td style=\"text-align:left\">C(loan_purpose)[T.vacation]</td><td>0.130<sup></sup></td><td>0.130<sup></sup></td></tr>\n",
              "<tr><td style=\"text-align:left\"></td><td>(0.180)</td><td>(0.177)</td></tr>\n",
              "<tr><td style=\"text-align:left\">C(term)[T.60]</td><td>0.186<sup>***</sup></td><td>0.186<sup>***</sup></td></tr>\n",
              "<tr><td style=\"text-align:left\"></td><td>(0.029)</td><td>(0.032)</td></tr>\n",
              "<tr><td style=\"text-align:left\">Constant</td><td>6.609<sup>***</sup></td><td>6.609<sup>***</sup></td></tr>\n",
              "<tr><td style=\"text-align:left\"></td><td>(0.110)</td><td>(0.100)</td></tr>\n",
              "<tr><td style=\"text-align:left\">annual_income</td><td>-0.000<sup>**</sup></td><td>-0.000<sup>**</sup></td></tr>\n",
              "<tr><td style=\"text-align:left\"></td><td>(0.000)</td><td>(0.000)</td></tr>\n",
              "<tr><td style=\"text-align:left\">bankruptcy_dummy</td><td>0.024<sup></sup></td><td>0.024<sup></sup></td></tr>\n",
              "<tr><td style=\"text-align:left\"></td><td>(0.036)</td><td>(0.036)</td></tr>\n",
              "<tr><td style=\"text-align:left\">credit_checks</td><td>0.032<sup>***</sup></td><td>0.032<sup>***</sup></td></tr>\n",
              "<tr><td style=\"text-align:left\"></td><td>(0.005)</td><td>(0.005)</td></tr>\n",
              "<tr><td style=\"text-align:left\">credit_util</td><td>0.329<sup>***</sup></td><td>0.329<sup>***</sup></td></tr>\n",
              "<tr><td style=\"text-align:left\"></td><td>(0.052)</td><td>(0.052)</td></tr>\n",
              "<tr><td style=\"text-align:left\">debt_to_income</td><td>0.003<sup>***</sup></td><td>0.003<sup>***</sup></td></tr>\n",
              "<tr><td style=\"text-align:left\"></td><td>(0.001)</td><td>(0.001)</td></tr>\n",
              "<tr><td style=\"text-align:left\">emp_length</td><td>-0.001<sup></sup></td><td>-0.001<sup></sup></td></tr>\n",
              "<tr><td style=\"text-align:left\"></td><td>(0.003)</td><td>(0.003)</td></tr>\n",
              "<tr><td style=\"text-align:left\">loan_amount</td><td>-0.000<sup>*</sup></td><td>-0.000<sup>*</sup></td></tr>\n",
              "<tr><td style=\"text-align:left\"></td><td>(0.000)</td><td>(0.000)</td></tr>\n",
              "\n",
              "<td colspan=\"3\" style=\"border-bottom: 1px solid black\"></td></tr>\n",
              "<tr><td style=\"text-align: left\">Observations</td><td>9182</td><td>9182</td></tr><tr><td style=\"text-align: left\">R<sup>2</sup></td><td>0.952</td><td>0.952</td></tr><tr><td style=\"text-align: left\">Adjusted R<sup>2</sup></td><td>0.952</td><td>0.952</td></tr><tr><td style=\"text-align: left\">Residual Std. Error</td><td>1.098 (df=9154)</td><td>1.098 (df=9154)</td></tr><tr><td style=\"text-align: left\">F Statistic</td><td>6722.902<sup>***</sup> (df=27; 9154)</td><td>10684.501<sup>***</sup> (df=27; 9154)</td></tr>\n",
              "<tr><td colspan=\"3\" style=\"border-bottom: 1px solid black\"></td></tr><tr><td style=\"text-align: left\">Note:</td><td colspan=\"2\" style=\"text-align: right\"><sup>*</sup>p&lt;0.1; <sup>**</sup>p&lt;0.05; <sup>***</sup>p&lt;0.01</td></tr></table>"
            ]
          },
          "metadata": {},
          "execution_count": 107
        }
      ]
    },
    {
      "cell_type": "code",
      "source": [
        "html = table3.render_html()\n",
        "\n",
        "# This line converts your Stargazer regression table into HTML format (as a\n",
        "# string).Display and save the html\n",
        "\n",
        "\n",
        "with open(\"my_regression_table_model5_homo_hetero.html\", \"w\") as f:\n",
        "  f.write(html)"
      ],
      "metadata": {
        "id": "c1XJD6Jn9K3D"
      },
      "execution_count": 98,
      "outputs": []
    },
    {
      "cell_type": "code",
      "source": [
        "print(model5_interaction1.summary())"
      ],
      "metadata": {
        "colab": {
          "base_uri": "https://localhost:8080/"
        },
        "id": "rj5_FUkp1bRn",
        "outputId": "c513afcd-c593-47df-ba6a-967842f8de8c"
      },
      "execution_count": 93,
      "outputs": [
        {
          "output_type": "stream",
          "name": "stdout",
          "text": [
            "                            OLS Regression Results                            \n",
            "==============================================================================\n",
            "Dep. Variable:          interest_rate   R-squared:                       0.952\n",
            "Model:                            OLS   Adj. R-squared:                  0.952\n",
            "Method:                 Least Squares   F-statistic:                     5551.\n",
            "Date:                Tue, 20 May 2025   Prob (F-statistic):               0.00\n",
            "Time:                        09:23:15   Log-Likelihood:                -13832.\n",
            "No. Observations:                9182   AIC:                         2.773e+04\n",
            "Df Residuals:                    9148   BIC:                         2.797e+04\n",
            "Df Model:                          33                                         \n",
            "Covariance Type:            nonrobust                                         \n",
            "=========================================================================================================\n",
            "                                            coef    std err          t      P>|t|      [0.025      0.975]\n",
            "---------------------------------------------------------------------------------------------------------\n",
            "Intercept                                 6.5875      0.110     60.120      0.000       6.373       6.802\n",
            "C(term)[T.60]                             0.5667      0.101      5.601      0.000       0.368       0.765\n",
            "C(grade)[T.B]                             3.7224      0.035    107.345      0.000       3.654       3.790\n",
            "C(grade)[T.C]                             7.3831      0.039    190.985      0.000       7.307       7.459\n",
            "C(grade)[T.D]                            12.1142      0.050    242.859      0.000      12.016      12.212\n",
            "C(grade)[T.E]                            17.5296      0.120    146.286      0.000      17.295      17.765\n",
            "C(grade)[T.F]                            23.4592      0.632     37.107      0.000      22.220      24.698\n",
            "C(grade)[T.G]                            24.2447      1.098     22.081      0.000      22.092      26.397\n",
            "C(homeownership)[T.OWN]                  -0.0005      0.038     -0.014      0.989      -0.074       0.073\n",
            "C(homeownership)[T.RENT]                  0.0231      0.030      0.765      0.444      -0.036       0.082\n",
            "C(loan_purpose)[T.credit_card]           -0.0548      0.105     -0.521      0.602      -0.261       0.151\n",
            "C(loan_purpose)[T.debt_consolidation]     0.0448      0.104      0.432      0.665      -0.158       0.248\n",
            "C(loan_purpose)[T.home_improvement]      -0.1249      0.112     -1.118      0.263      -0.344       0.094\n",
            "C(loan_purpose)[T.house]                 -0.0190      0.138     -0.137      0.891      -0.290       0.252\n",
            "C(loan_purpose)[T.major_purchase]        -0.0156      0.121     -0.129      0.897      -0.253       0.222\n",
            "C(loan_purpose)[T.medical]                0.0156      0.138      0.113      0.910      -0.256       0.287\n",
            "C(loan_purpose)[T.moving]                -0.0233      0.168     -0.139      0.890      -0.352       0.305\n",
            "C(loan_purpose)[T.other]                  0.0143      0.109      0.131      0.895      -0.199       0.228\n",
            "C(loan_purpose)[T.renewable_energy]       0.3437      0.361      0.953      0.341      -0.363       1.051\n",
            "C(loan_purpose)[T.small_business]         0.0616      0.143      0.431      0.667      -0.219       0.342\n",
            "C(loan_purpose)[T.vacation]               0.1385      0.180      0.771      0.441      -0.214       0.490\n",
            "C(term)[T.60]:C(grade)[T.B]              -0.4349      0.110     -3.943      0.000      -0.651      -0.219\n",
            "C(term)[T.60]:C(grade)[T.C]              -0.5783      0.110     -5.254      0.000      -0.794      -0.363\n",
            "C(term)[T.60]:C(grade)[T.D]              -0.2396      0.117     -2.044      0.041      -0.469      -0.010\n",
            "C(term)[T.60]:C(grade)[T.E]               0.5170      0.171      3.021      0.003       0.182       0.852\n",
            "C(term)[T.60]:C(grade)[T.F]              -1.4963      0.657     -2.278      0.023      -2.784      -0.209\n",
            "C(term)[T.60]:C(grade)[T.G]              -0.8684      1.155     -0.752      0.452      -3.133       1.397\n",
            "debt_to_income                            0.0031      0.001      3.608      0.000       0.001       0.005\n",
            "credit_util                               0.3080      0.052      5.899      0.000       0.206       0.410\n",
            "bankruptcy_dummy                          0.0226      0.036      0.628      0.530      -0.048       0.093\n",
            "credit_checks                             0.0306      0.005      6.211      0.000       0.021       0.040\n",
            "annual_income                         -4.195e-07   1.92e-07     -2.189      0.029   -7.95e-07   -4.39e-08\n",
            "loan_amount                           -2.476e-06   1.29e-06     -1.916      0.055   -5.01e-06     5.7e-08\n",
            "emp_length                               -0.0005      0.003     -0.149      0.882      -0.007       0.006\n",
            "==============================================================================\n",
            "Omnibus:                      750.608   Durbin-Watson:                   2.014\n",
            "Prob(Omnibus):                  0.000   Jarque-Bera (JB):             4530.489\n",
            "Skew:                          -0.085   Prob(JB):                         0.00\n",
            "Kurtosis:                       6.437   Cond. No.                     1.47e+07\n",
            "==============================================================================\n",
            "\n",
            "Notes:\n",
            "[1] Standard Errors assume that the covariance matrix of the errors is correctly specified.\n",
            "[2] The condition number is large, 1.47e+07. This might indicate that there are\n",
            "strong multicollinearity or other numerical problems.\n"
          ]
        }
      ]
    },
    {
      "cell_type": "code",
      "source": [
        "table4 = Stargazer([model5, model5_interaction1])\n",
        "\n",
        "table4.rename_covariates({\"Intercept\": \"Constant\"})\n",
        "# This renames the \"Intercept\" row label to \"Constant\" in the table\n",
        "table4.custom_columns([\"Model 5\", \"Model 5 with interaction term\"], [1, 1])\n",
        "table4\n",
        "# The second list [1, 1] tells Stargazer how many models belong under each\n",
        "# column. Since each label only corresponds to one model, it's [1, 1]."
      ],
      "metadata": {
        "colab": {
          "base_uri": "https://localhost:8080/",
          "height": 1000
        },
        "id": "fR0481hxvAFf",
        "outputId": "97719043-bb81-46dd-ad22-edbf2a579a09"
      },
      "execution_count": 110,
      "outputs": [
        {
          "output_type": "execute_result",
          "data": {
            "text/plain": [
              "<stargazer.stargazer.Stargazer at 0x786697de6350>"
            ],
            "text/html": [
              "<table style=\"text-align:center\"><tr><td colspan=\"3\" style=\"border-bottom: 1px solid black\"></td></tr>\n",
              "<tr><td style=\"text-align:left\"></td><td colspan=\"2\"><em>Dependent variable: interest_rate</em></td></tr><tr><td style=\"text-align:left\"></td><tr><td></td><td colspan=\"1\">Model 5</td><td colspan=\"1\">Model 5 with interaction term</td></tr><tr><td style=\"text-align:left\"></td><td>(1)</td><td>(2)</td></tr>\n",
              "<tr><td colspan=\"3\" style=\"border-bottom: 1px solid black\"></td></tr>\n",
              "\n",
              "<tr><td style=\"text-align:left\">C(grade)[T.B]</td><td>3.684<sup>***</sup></td><td>3.722<sup>***</sup></td></tr>\n",
              "<tr><td style=\"text-align:left\"></td><td>(0.032)</td><td>(0.035)</td></tr>\n",
              "<tr><td style=\"text-align:left\">C(grade)[T.C]</td><td>7.279<sup>***</sup></td><td>7.383<sup>***</sup></td></tr>\n",
              "<tr><td style=\"text-align:left\"></td><td>(0.035)</td><td>(0.039)</td></tr>\n",
              "<tr><td style=\"text-align:left\">C(grade)[T.D]</td><td>12.157<sup>***</sup></td><td>12.114<sup>***</sup></td></tr>\n",
              "<tr><td style=\"text-align:left\"></td><td>(0.042)</td><td>(0.050)</td></tr>\n",
              "<tr><td style=\"text-align:left\">C(grade)[T.E]</td><td>18.143<sup>***</sup></td><td>17.530<sup>***</sup></td></tr>\n",
              "<tr><td style=\"text-align:left\"></td><td>(0.071)</td><td>(0.120)</td></tr>\n",
              "<tr><td style=\"text-align:left\">C(grade)[T.F]</td><td>22.379<sup>***</sup></td><td>23.459<sup>***</sup></td></tr>\n",
              "<tr><td style=\"text-align:left\"></td><td>(0.151)</td><td>(0.632)</td></tr>\n",
              "<tr><td style=\"text-align:left\">C(grade)[T.G]</td><td>23.777<sup>***</sup></td><td>24.245<sup>***</sup></td></tr>\n",
              "<tr><td style=\"text-align:left\"></td><td>(0.333)</td><td>(1.098)</td></tr>\n",
              "<tr><td style=\"text-align:left\">C(homeownership)[T.OWN]</td><td>0.001<sup></sup></td><td>-0.001<sup></sup></td></tr>\n",
              "<tr><td style=\"text-align:left\"></td><td>(0.038)</td><td>(0.038)</td></tr>\n",
              "<tr><td style=\"text-align:left\">C(homeownership)[T.RENT]</td><td>0.020<sup></sup></td><td>0.023<sup></sup></td></tr>\n",
              "<tr><td style=\"text-align:left\"></td><td>(0.030)</td><td>(0.030)</td></tr>\n",
              "<tr><td style=\"text-align:left\">C(loan_purpose)[T.credit_card]</td><td>-0.056<sup></sup></td><td>-0.055<sup></sup></td></tr>\n",
              "<tr><td style=\"text-align:left\"></td><td>(0.106)</td><td>(0.105)</td></tr>\n",
              "<tr><td style=\"text-align:left\">C(loan_purpose)[T.debt_consolidation]</td><td>0.042<sup></sup></td><td>0.045<sup></sup></td></tr>\n",
              "<tr><td style=\"text-align:left\"></td><td>(0.104)</td><td>(0.104)</td></tr>\n",
              "<tr><td style=\"text-align:left\">C(loan_purpose)[T.home_improvement]</td><td>-0.125<sup></sup></td><td>-0.125<sup></sup></td></tr>\n",
              "<tr><td style=\"text-align:left\"></td><td>(0.112)</td><td>(0.112)</td></tr>\n",
              "<tr><td style=\"text-align:left\">C(loan_purpose)[T.house]</td><td>-0.031<sup></sup></td><td>-0.019<sup></sup></td></tr>\n",
              "<tr><td style=\"text-align:left\"></td><td>(0.139)</td><td>(0.138)</td></tr>\n",
              "<tr><td style=\"text-align:left\">C(loan_purpose)[T.major_purchase]</td><td>-0.026<sup></sup></td><td>-0.016<sup></sup></td></tr>\n",
              "<tr><td style=\"text-align:left\"></td><td>(0.122)</td><td>(0.121)</td></tr>\n",
              "<tr><td style=\"text-align:left\">C(loan_purpose)[T.medical]</td><td>0.005<sup></sup></td><td>0.016<sup></sup></td></tr>\n",
              "<tr><td style=\"text-align:left\"></td><td>(0.139)</td><td>(0.138)</td></tr>\n",
              "<tr><td style=\"text-align:left\">C(loan_purpose)[T.moving]</td><td>-0.045<sup></sup></td><td>-0.023<sup></sup></td></tr>\n",
              "<tr><td style=\"text-align:left\"></td><td>(0.168)</td><td>(0.168)</td></tr>\n",
              "<tr><td style=\"text-align:left\">C(loan_purpose)[T.other]</td><td>0.006<sup></sup></td><td>0.014<sup></sup></td></tr>\n",
              "<tr><td style=\"text-align:left\"></td><td>(0.109)</td><td>(0.109)</td></tr>\n",
              "<tr><td style=\"text-align:left\">C(loan_purpose)[T.renewable_energy]</td><td>0.359<sup></sup></td><td>0.344<sup></sup></td></tr>\n",
              "<tr><td style=\"text-align:left\"></td><td>(0.362)</td><td>(0.361)</td></tr>\n",
              "<tr><td style=\"text-align:left\">C(loan_purpose)[T.small_business]</td><td>0.056<sup></sup></td><td>0.062<sup></sup></td></tr>\n",
              "<tr><td style=\"text-align:left\"></td><td>(0.143)</td><td>(0.143)</td></tr>\n",
              "<tr><td style=\"text-align:left\">C(loan_purpose)[T.vacation]</td><td>0.130<sup></sup></td><td>0.138<sup></sup></td></tr>\n",
              "<tr><td style=\"text-align:left\"></td><td>(0.180)</td><td>(0.180)</td></tr>\n",
              "<tr><td style=\"text-align:left\">C(term)[T.60]</td><td>0.186<sup>***</sup></td><td>0.567<sup>***</sup></td></tr>\n",
              "<tr><td style=\"text-align:left\"></td><td>(0.029)</td><td>(0.101)</td></tr>\n",
              "<tr><td style=\"text-align:left\">C(term)[T.60]:C(grade)[T.B]</td><td></td><td>-0.435<sup>***</sup></td></tr>\n",
              "<tr><td style=\"text-align:left\"></td><td></td><td>(0.110)</td></tr>\n",
              "<tr><td style=\"text-align:left\">C(term)[T.60]:C(grade)[T.C]</td><td></td><td>-0.578<sup>***</sup></td></tr>\n",
              "<tr><td style=\"text-align:left\"></td><td></td><td>(0.110)</td></tr>\n",
              "<tr><td style=\"text-align:left\">C(term)[T.60]:C(grade)[T.D]</td><td></td><td>-0.240<sup>**</sup></td></tr>\n",
              "<tr><td style=\"text-align:left\"></td><td></td><td>(0.117)</td></tr>\n",
              "<tr><td style=\"text-align:left\">C(term)[T.60]:C(grade)[T.E]</td><td></td><td>0.517<sup>***</sup></td></tr>\n",
              "<tr><td style=\"text-align:left\"></td><td></td><td>(0.171)</td></tr>\n",
              "<tr><td style=\"text-align:left\">C(term)[T.60]:C(grade)[T.F]</td><td></td><td>-1.496<sup>**</sup></td></tr>\n",
              "<tr><td style=\"text-align:left\"></td><td></td><td>(0.657)</td></tr>\n",
              "<tr><td style=\"text-align:left\">C(term)[T.60]:C(grade)[T.G]</td><td></td><td>-0.868<sup></sup></td></tr>\n",
              "<tr><td style=\"text-align:left\"></td><td></td><td>(1.155)</td></tr>\n",
              "<tr><td style=\"text-align:left\">Constant</td><td>6.609<sup>***</sup></td><td>6.588<sup>***</sup></td></tr>\n",
              "<tr><td style=\"text-align:left\"></td><td>(0.110)</td><td>(0.110)</td></tr>\n",
              "<tr><td style=\"text-align:left\">annual_income</td><td>-0.000<sup>**</sup></td><td>-0.000<sup>**</sup></td></tr>\n",
              "<tr><td style=\"text-align:left\"></td><td>(0.000)</td><td>(0.000)</td></tr>\n",
              "<tr><td style=\"text-align:left\">bankruptcy_dummy</td><td>0.024<sup></sup></td><td>0.023<sup></sup></td></tr>\n",
              "<tr><td style=\"text-align:left\"></td><td>(0.036)</td><td>(0.036)</td></tr>\n",
              "<tr><td style=\"text-align:left\">credit_checks</td><td>0.032<sup>***</sup></td><td>0.031<sup>***</sup></td></tr>\n",
              "<tr><td style=\"text-align:left\"></td><td>(0.005)</td><td>(0.005)</td></tr>\n",
              "<tr><td style=\"text-align:left\">credit_util</td><td>0.329<sup>***</sup></td><td>0.308<sup>***</sup></td></tr>\n",
              "<tr><td style=\"text-align:left\"></td><td>(0.052)</td><td>(0.052)</td></tr>\n",
              "<tr><td style=\"text-align:left\">debt_to_income</td><td>0.003<sup>***</sup></td><td>0.003<sup>***</sup></td></tr>\n",
              "<tr><td style=\"text-align:left\"></td><td>(0.001)</td><td>(0.001)</td></tr>\n",
              "<tr><td style=\"text-align:left\">emp_length</td><td>-0.001<sup></sup></td><td>-0.000<sup></sup></td></tr>\n",
              "<tr><td style=\"text-align:left\"></td><td>(0.003)</td><td>(0.003)</td></tr>\n",
              "<tr><td style=\"text-align:left\">loan_amount</td><td>-0.000<sup>*</sup></td><td>-0.000<sup>*</sup></td></tr>\n",
              "<tr><td style=\"text-align:left\"></td><td>(0.000)</td><td>(0.000)</td></tr>\n",
              "\n",
              "<td colspan=\"3\" style=\"border-bottom: 1px solid black\"></td></tr>\n",
              "<tr><td style=\"text-align: left\">Observations</td><td>9182</td><td>9182</td></tr><tr><td style=\"text-align: left\">R<sup>2</sup></td><td>0.952</td><td>0.952</td></tr><tr><td style=\"text-align: left\">Adjusted R<sup>2</sup></td><td>0.952</td><td>0.952</td></tr><tr><td style=\"text-align: left\">Residual Std. Error</td><td>1.098 (df=9154)</td><td>1.093 (df=9148)</td></tr><tr><td style=\"text-align: left\">F Statistic</td><td>6722.902<sup>***</sup> (df=27; 9154)</td><td>5550.883<sup>***</sup> (df=33; 9148)</td></tr>\n",
              "<tr><td colspan=\"3\" style=\"border-bottom: 1px solid black\"></td></tr><tr><td style=\"text-align: left\">Note:</td><td colspan=\"2\" style=\"text-align: right\"><sup>*</sup>p&lt;0.1; <sup>**</sup>p&lt;0.05; <sup>***</sup>p&lt;0.01</td></tr></table>"
            ]
          },
          "metadata": {},
          "execution_count": 110
        }
      ]
    },
    {
      "cell_type": "code",
      "source": [
        "html = table4.render_html()\n",
        "\n",
        "# This line converts your Stargazer regression table into HTML format (as a\n",
        "# string).Display and save the html\n",
        "\n",
        "\n",
        "with open(\"my_regression_table_model5_interaction.html\", \"w\") as f:\n",
        "  f.write(html)"
      ],
      "metadata": {
        "id": "dLbTpuAHwZ-J"
      },
      "execution_count": 111,
      "outputs": []
    }
  ]
}